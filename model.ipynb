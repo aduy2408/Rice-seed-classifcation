{
 "cells": [
  {
   "cell_type": "code",
   "execution_count": 19,
   "metadata": {},
   "outputs": [],
   "source": [
    "import pandas as pd\n",
    "import numpy as np\n",
    "from sklearn.model_selection import train_test_split, cross_val_score\n",
    "from sklearn.preprocessing import RobustScaler\n",
    "from sklearn.neighbors import KNeighborsClassifier\n",
    "from sklearn.svm import SVC\n",
    "from sklearn.ensemble import RandomForestClassifier\n",
    "from sklearn.metrics import classification_report, accuracy_score\n",
    "import matplotlib.pyplot as plt\n",
    "import seaborn as sns"
   ]
  },
  {
   "cell_type": "code",
   "execution_count": 10,
   "metadata": {},
   "outputs": [],
   "source": [
    "df = pd.read_csv('basic_descriptor.csv')"
   ]
  },
  {
   "cell_type": "code",
   "execution_count": 11,
   "metadata": {},
   "outputs": [
    {
     "data": {
      "text/plain": [
       "Index(['area', 'length', 'width', 'aspect_ratio', 'major_axis_length',\n",
       "       'minor_axis_length', 'convex_hull_area', 'convex_hull_perimeter',\n",
       "       'mean_r', 'mean_g', 'mean_b', 'red_sqr', 'green_sqr', 'blue_sqr',\n",
       "       'texture_mean', 'texture_std', 'texture_uniformity',\n",
       "       'texture_third_moment', 'category', 'label'],\n",
       "      dtype='object')"
      ]
     },
     "execution_count": 11,
     "metadata": {},
     "output_type": "execute_result"
    }
   ],
   "source": [
    "df.columns"
   ]
  },
  {
   "cell_type": "code",
   "execution_count": 13,
   "metadata": {},
   "outputs": [],
   "source": [
    "X = df.drop(['category', 'label'], axis=1)\n",
    "y = df['label']"
   ]
  },
  {
   "cell_type": "code",
   "execution_count": 20,
   "metadata": {},
   "outputs": [],
   "source": [
    "X_train, X_test, y_train, y_test = train_test_split(X, y, test_size=0.2, random_state=42)\n",
    "\n",
    "scaler = RobustScaler()\n",
    "X_train_scaled = scaler.fit_transform(X_train)\n",
    "X_test_scaled = scaler.transform(X_test)"
   ]
  },
  {
   "cell_type": "code",
   "execution_count": 21,
   "metadata": {},
   "outputs": [],
   "source": [
    "# Initialize models\n",
    "models = {\n",
    "    'KNN': KNeighborsClassifier(n_neighbors=5),\n",
    "    'SVM': SVC(kernel='rbf', random_state=42),\n",
    "    'Random Forest': RandomForestClassifier(n_estimators=100, random_state=42)\n",
    "}\n",
    "\n",
    "results = {}"
   ]
  },
  {
   "cell_type": "code",
   "execution_count": 22,
   "metadata": {},
   "outputs": [
    {
     "name": "stdout",
     "output_type": "stream",
     "text": [
      "\n",
      "--------------------------------------------------\n",
      "KNN Results:\n",
      "Test Accuracy: 0.8062\n",
      "Cross-validation Accuracy: 0.7959 (+/- 0.0157)\n",
      "\n",
      "Classification Report:\n",
      "              precision    recall  f1-score   support\n",
      "\n",
      "           0       0.67      0.74      0.70       388\n",
      "           1       0.82      0.79      0.80       396\n",
      "           2       0.96      0.96      0.96       293\n",
      "           3       0.77      0.82      0.80       297\n",
      "           4       0.94      0.85      0.89       211\n",
      "           5       0.79      0.76      0.77       433\n",
      "\n",
      "    accuracy                           0.81      2018\n",
      "   macro avg       0.82      0.82      0.82      2018\n",
      "weighted avg       0.81      0.81      0.81      2018\n",
      "\n",
      "\n",
      "--------------------------------------------------\n",
      "SVM Results:\n",
      "Test Accuracy: 0.8627\n",
      "Cross-validation Accuracy: 0.8629 (+/- 0.0122)\n",
      "\n",
      "Classification Report:\n",
      "              precision    recall  f1-score   support\n",
      "\n",
      "           0       0.80      0.84      0.82       388\n",
      "           1       0.87      0.84      0.86       396\n",
      "           2       0.97      0.97      0.97       293\n",
      "           3       0.86      0.85      0.85       297\n",
      "           4       0.93      0.91      0.92       211\n",
      "           5       0.81      0.82      0.82       433\n",
      "\n",
      "    accuracy                           0.86      2018\n",
      "   macro avg       0.87      0.87      0.87      2018\n",
      "weighted avg       0.86      0.86      0.86      2018\n",
      "\n",
      "\n",
      "--------------------------------------------------\n",
      "Random Forest Results:\n",
      "Test Accuracy: 0.8290\n",
      "Cross-validation Accuracy: 0.8173 (+/- 0.0179)\n",
      "\n",
      "Classification Report:\n",
      "              precision    recall  f1-score   support\n",
      "\n",
      "           0       0.74      0.76      0.75       388\n",
      "           1       0.83      0.81      0.82       396\n",
      "           2       0.96      0.96      0.96       293\n",
      "           3       0.80      0.81      0.81       297\n",
      "           4       0.93      0.89      0.91       211\n",
      "           5       0.79      0.81      0.80       433\n",
      "\n",
      "    accuracy                           0.83      2018\n",
      "   macro avg       0.84      0.84      0.84      2018\n",
      "weighted avg       0.83      0.83      0.83      2018\n",
      "\n"
     ]
    }
   ],
   "source": [
    "for name, model in models.items():\n",
    "    print(f\"\\n{'-'*50}\")\n",
    "    print(f\"{name} Results:\")\n",
    "    \n",
    "    # Train the model\n",
    "    model.fit(X_train_scaled, y_train)\n",
    "    \n",
    "    # Make predictions\n",
    "    y_pred = model.predict(X_test_scaled)\n",
    "    \n",
    "    # Calculate accuracy\n",
    "    accuracy = accuracy_score(y_test, y_pred)\n",
    "    results[name] = accuracy\n",
    "    \n",
    "    # Perform cross-validation\n",
    "    cv_scores = cross_val_score(model, X_train_scaled, y_train, cv=5)\n",
    "    \n",
    "    print(f\"Test Accuracy: {accuracy:.4f}\")\n",
    "    print(f\"Cross-validation Accuracy: {cv_scores.mean():.4f} (+/- {cv_scores.std()*2:.4f})\")\n",
    "    print(\"\\nClassification Report:\")\n",
    "    print(classification_report(y_test, y_pred))"
   ]
  }
 ],
 "metadata": {
  "kernelspec": {
   "display_name": "Python 3",
   "language": "python",
   "name": "python3"
  },
  "language_info": {
   "codemirror_mode": {
    "name": "ipython",
    "version": 3
   },
   "file_extension": ".py",
   "mimetype": "text/x-python",
   "name": "python",
   "nbconvert_exporter": "python",
   "pygments_lexer": "ipython3",
   "version": "3.12.3"
  }
 },
 "nbformat": 4,
 "nbformat_minor": 2
}
