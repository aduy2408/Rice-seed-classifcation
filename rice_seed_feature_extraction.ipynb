{
 "cells": [
  {
   "cell_type": "code",
   "execution_count": 1,
   "id": "initial_id",
   "metadata": {
    "ExecuteTime": {
     "end_time": "2025-02-23T17:51:36.605984500Z",
     "start_time": "2025-02-23T17:51:35.447539800Z"
    },
    "collapsed": true
   },
   "outputs": [],
   "source": [
    "import numpy as np\n",
    "import cv2\n",
    "from skimage.feature import local_binary_pattern, graycomatrix, graycoprops\n",
    "import os\n",
    "import pandas as pd\n",
    "from skimage.measure import moments, moments_central, shannon_entropy\n",
    "from sklearn.cluster import KMeans\n",
    "import mahotas\n",
    "from tqdm import tqdm\n",
    "from scipy.stats import skew, kurtosis\n",
    "import pywt"
   ]
  },
  {
   "cell_type": "code",
   "execution_count": 2,
   "id": "a3a93fa4f9c4a198",
   "metadata": {
    "ExecuteTime": {
     "end_time": "2025-02-23T17:51:36.624697200Z",
     "start_time": "2025-02-23T17:51:36.608898600Z"
    },
    "collapsed": false
   },
   "outputs": [],
   "source": [
    "def compute_zernike_moments(image, degree=8): # 25 features\n",
    "    image = cv2.cvtColor(image, cv2.COLOR_BGR2GRAY)\n",
    "    blur = cv2.GaussianBlur(image, (3, 3), 0)\n",
    "    _, new_img = cv2.threshold(blur, 0, 255, cv2.THRESH_BINARY_INV + cv2.THRESH_OTSU)\n",
    "    contours, _ = cv2.findContours(new_img, cv2.RETR_EXTERNAL, cv2.CHAIN_APPROX_SIMPLE)\n",
    "    contour = max(contours, key=cv2.contourArea)\n",
    "    mask = np.zeros(new_img.shape, dtype=np.uint8)\n",
    "    cv2.drawContours(mask, [contour], contourIdx=-1, color=(255,), thickness=-1)\n",
    "    binary = (mask > 0).astype(np.uint8)\n",
    "    \n",
    "    (x, y), radius = cv2.minEnclosingCircle(contour)\n",
    "    x, y = int(x), int(y)\n",
    "    radius = int(np.ceil(radius))\n",
    "    x1 = max(x - radius, 0)\n",
    "    y1 = max(y - radius, 0)\n",
    "    x2 = x + radius\n",
    "    y2 = y + radius\n",
    "    \n",
    "    cropped_mask = binary[y1:y2, x1:x2]\n",
    "    \n",
    "    h, w = cropped_mask.shape\n",
    "    if h != w:\n",
    "        size = max(h, w)\n",
    "        square_mask = np.zeros((size, size), dtype=np.uint8)\n",
    "        y_offset = (size - h) // 2\n",
    "        x_offset = (size - w) // 2\n",
    "        square_mask[y_offset:y_offset+h, x_offset:x_offset+w] = cropped_mask\n",
    "    else:\n",
    "        square_mask = cropped_mask\n",
    "        \n",
    "    effective_radius = square_mask.shape[0] // 2\n",
    "    zernike_moments = mahotas.features.zernike_moments(square_mask, effective_radius, degree)\n",
    "    \n",
    "    return {f\"Zernike_{i}\": zernike_moments[i] for i in range(len(zernike_moments))}"
   ]
  },
  {
   "cell_type": "code",
   "execution_count": 3,
   "id": "5ee7db9cd93baf72",
   "metadata": {
    "ExecuteTime": {
     "end_time": "2025-02-23T17:51:36.640743200Z",
     "start_time": "2025-02-23T17:51:36.624697200Z"
    },
    "collapsed": false
   },
   "outputs": [],
   "source": [
    "def compute_central_moments(image): # 16 features\n",
    "    image = cv2.cvtColor(image, cv2.COLOR_BGR2GRAY)\n",
    "    image = image.astype(np.float64)\n",
    "    M = moments(image)\n",
    "    mm_central = moments_central(image, center=(M[1, 0] / M[0, 0], M[0, 1] / M[0, 0])).flatten()\n",
    "    return {f\"Central_{i}\": mm_central[i] for i in range(len(mm_central))}"
   ]
  },
  {
   "cell_type": "code",
   "execution_count": 4,
   "id": "2cf5db623a745212",
   "metadata": {
    "ExecuteTime": {
     "end_time": "2025-02-23T17:51:36.656450300Z",
     "start_time": "2025-02-23T17:51:36.640743200Z"
    },
    "collapsed": false
   },
   "outputs": [],
   "source": [
    "def compute_lbp_feature(image): # 10 features\n",
    "    image = cv2.cvtColor(image, cv2.COLOR_BGR2GRAY)\n",
    "    lbp = local_binary_pattern(image, R=1, P=8, method=\"uniform\")\n",
    "    hist, bins = np.histogram(lbp.flatten(), bins=10, range=(0, 10))\n",
    "    return {f\"LBP_{i}\": hist[i] for i in range(len(hist))}"
   ]
  },
  {
   "cell_type": "code",
   "execution_count": 5,
   "id": "c532826d47416d37",
   "metadata": {
    "ExecuteTime": {
     "end_time": "2025-02-23T17:51:36.672419800Z",
     "start_time": "2025-02-23T17:51:36.656450300Z"
    },
    "collapsed": false
   },
   "outputs": [],
   "source": [
    "def compute_texture_feature(image): # 4 features\n",
    "    image = cv2.cvtColor(image, cv2.COLOR_BGR2GRAY)\n",
    "    hist, bins = np.histogram(image.flatten(), bins=256, range=(0, 256), density=True)\n",
    "    bins = bins[:-1]\n",
    "    mean = np.sum(hist * bins)\n",
    "    std = np.sqrt(np.sum((bins - mean)**2 * hist))\n",
    "    uniformity = np.sum(hist**2)\n",
    "    third_moment = np.sum((bins - mean)**3 * hist)\n",
    "    return {\n",
    "        \"texture_mean\": mean,\n",
    "        \"texture_std\": std,\n",
    "        \"texture_uniformity\": uniformity,\n",
    "        \"texture_third_moment\": third_moment\n",
    "    }"
   ]
  },
  {
   "cell_type": "code",
   "execution_count": 6,
   "id": "a7b218ff03dae31f",
   "metadata": {
    "ExecuteTime": {
     "end_time": "2025-02-23T17:51:36.688493100Z",
     "start_time": "2025-02-23T17:51:36.672419800Z"
    },
    "collapsed": false
   },
   "outputs": [],
   "source": [
    "def compute_color_feature(image): # 33 features\n",
    "    def entropy(channel):\n",
    "        return shannon_entropy(channel)\n",
    "    def waveLet(channel):\n",
    "        max_level = pywt.dwt_max_level(min(channel.shape), \"db4\")\n",
    "        coeffs = pywt.wavedec2(channel, \"db4\", level=max_level)\n",
    "        return np.mean(coeffs[0].ravel())\n",
    "    \n",
    "    # BGR\n",
    "    B, G, R = cv2.split(image)\n",
    "    mean_R, mean_G, mean_B = np.mean(R), np.mean(G), np.mean(B)\n",
    "    # sqrt_R, sqrt_G, sqrt_B = np.sqrt(mean_R), np.sqrt(mean_G), np.sqrt(mean_B)\n",
    "    std_R, std_G, std_B = np.std(R), np.std(G), np.std(B)\n",
    "    skew_R, skew_G, skew_B = skew(R.flatten()), skew(G.flatten()), skew(B.flatten())\n",
    "    kur_R, kur_G, kur_B = kurtosis(R.flatten()), kurtosis(G.flatten()), kurtosis(B.flatten())\n",
    "    ent_R, ent_G, ent_B = entropy(R), entropy(G), entropy(B)\n",
    "    wav_R, wav_G, wav_B = waveLet(R), waveLet(G), waveLet(B)\n",
    "    \n",
    "    # HSV\n",
    "    hsv_img = cv2.cvtColor(image, cv2.COLOR_BGR2HSV)\n",
    "    h, s, v = cv2.split(hsv_img)\n",
    "    mean_h, mean_s, mean_v = np.mean(h), np.mean(s), np.mean(v)\n",
    "    std_h, std_s, std_v = np.std(h), np.std(s), np.std(v)\n",
    "    # sqrt_h, sqrt_s, sqrt_v = np.sqrt(mean_h), np.sqrt(mean_s), np.sqrt(mean_v)\n",
    "    skew_h, skew_s, skew_v = skew(h.flatten()), skew(s.flatten()), skew(v.flatten())\n",
    "    kur_h, kur_s, kur_v = kurtosis(h.flatten()), kurtosis(s.flatten()), kurtosis(v.flatten())\n",
    "    ent_h, ent_s, ent_v = entropy(h), entropy(s), entropy(v)\n",
    "    wav_h, wav_s, wav_v = waveLet(h), waveLet(s), waveLet(v)\n",
    "    \n",
    "    # Lab\n",
    "    lab_img = cv2.cvtColor(image, cv2.COLOR_BGR2LAB)\n",
    "    l, a, b = cv2.split(lab_img)\n",
    "    mean_l, mean_a, mean_b = np.mean(l), np.mean(a), np.mean(b)\n",
    "    std_l, std_a, std_b = np.std(l), np.std(a), np.std(b)\n",
    "    # sqrt_l, sqrt_a, sqrt_b = np.sqrt(mean_l), np.sqrt(mean_a), np.sqrt(mean_b)\n",
    "    skew_l, skew_a, skew_b = skew(l.flatten()), skew(a.flatten()), skew(b.flatten())\n",
    "    kur_l, kur_a, kur_b = kurtosis(l.flatten()), kurtosis(a.flatten()), kurtosis(b.flatten())\n",
    "    ent_l, ent_a, ent_b = entropy(l), entropy(a), entropy(b)\n",
    "    wav_l, wav_a, wav_b = waveLet(l), waveLet(a), waveLet(b)\n",
    "    \n",
    "    # YCbCr\n",
    "    ycrcb_img = cv2.cvtColor(image, cv2.COLOR_BGR2YCrCb)\n",
    "    y, cr, cb = cv2.split(ycrcb_img)\n",
    "    mean_y, mean_cr, mean_cb = np.mean(y), np.mean(cr), np.mean(cb)\n",
    "    std_y, std_cr, std_cb = np.std(y), np.std(cr), np.std(cb)\n",
    "    # sqrt_y, sqrt_cr, sqrt_cb = np.sqrt(mean_y), np.sqrt(mean_cr), np.sqrt(mean_cb)\n",
    "    skew_y, skew_cr, skew_cb = skew(y.flatten()), skew(cr.flatten()), skew(cb.flatten())\n",
    "    kur_y, kur_cr, kur_cb = kurtosis(y.flatten()), kurtosis(cr.flatten()), kurtosis(cb.flatten())\n",
    "    ent_y, ent_cr, ent_cb = entropy(y), entropy(cr), entropy(cb)\n",
    "    wav_y, wav_cr, wav_cb = waveLet(y), waveLet(cr), waveLet(cb)\n",
    "    \n",
    "    # XYZ\n",
    "    xyz_img = cv2.cvtColor(image, cv2.COLOR_BGR2XYZ)\n",
    "    X, Y, Z = cv2.split(xyz_img)\n",
    "    mean_X, mean_Y, mean_Z = np.mean(X), np.mean(Y), np.mean(Z)\n",
    "    std_X, std_Y, std_Z = np.std(X), np.std(Y), np.std(Z)\n",
    "    skew_X, skew_Y, skew_Z = skew(X.flatten()), skew(Y.flatten()), skew(Z.flatten())\n",
    "    kur_X, kur_Y, kur_Z = kurtosis(X.flatten()), kurtosis(Y.flatten()), kurtosis(Z.flatten())\n",
    "    ent_X, ent_Y, ent_Z = entropy(X), entropy(Y), entropy(Z)\n",
    "    wav_X, wav_Y, wav_Z = waveLet(X), waveLet(Y), waveLet(Z)\n",
    "    \n",
    "    return {\"mean_r\": mean_R, \"mean_g\": mean_G, \"mean_B\": mean_B,\n",
    "            # \"sqrt_r\": sqrt_R, \"sqrt_g\": sqrt_G, \"sqrt_B\": sqrt_B,\n",
    "            \"std_r\": std_R, \"std_g\": std_G, \"std_B\": std_B,\n",
    "            \"skew_r\": skew_R, \"skew_g\": skew_G, \"skew_B\": skew_B,\n",
    "            \"kur_r\": kur_R, \"kur_g\": kur_G, \"kur_B\": kur_B,\n",
    "            \"ent_r\": ent_R, \"ent_g\": ent_G, \"ent_B\": ent_B,\n",
    "            \"wav_r\": wav_R, \"wav_g\": wav_G, \"wav_B\": wav_B,\n",
    "            \n",
    "            \"mean_h\": mean_h, \"mean_s\": mean_s, \"mean_v\": mean_v,\n",
    "            \"std_h\": std_h, \"std_s\": std_s, \"std_v\": std_v,\n",
    "            # \"sqrt_h\": sqrt_h, \"sqrt_s\": sqrt_s, \"sqrt_v\": sqrt_v,\n",
    "            \"skew_h\": skew_h, \"skew_s\": skew_s, \"skew_v\": skew_v,\n",
    "            \"kur_h\": kur_h, \"kur_s\": kur_s, \"kur_v\": kur_v,\n",
    "            \"ent_h\": ent_h, \"ent_s\": ent_s, \"ent_v\": ent_v,\n",
    "            \"wav_h\": wav_h, \"wav_s\": wav_s, \"wav_v\": wav_v,\n",
    "            \n",
    "            \"mean_l\": mean_l, \"mean_a\": mean_a, \"mean_b\": mean_b,\n",
    "            \"std_l\": std_l, \"std_a\": std_a, \"std_b\": std_b,\n",
    "            # \"sqrt_l\": sqrt_l, \"sqrt_a\": sqrt_a, \"sqrt_b\": sqrt_b,\n",
    "            \"skew_l\": skew_l, \"skew_a\": skew_a, \"skew_b\": skew_b,\n",
    "            \"kur_l\": kur_l, \"kur_a\": kur_a, \"kur_b\": kur_b,\n",
    "            \"ent_l\": ent_l, \"ent_a\": ent_a, \"ent_b\": ent_b,\n",
    "            \"wav_l\": wav_l, \"wav_a\": wav_a, \"wav_b\": wav_b,\n",
    "            \n",
    "            \"mean_y\": mean_y, \"mean_cb\": mean_cb, \"mean_cr\": mean_cr,\n",
    "            \"std_y\": std_y, \"std_cb\": std_cb, \"std_cr\": std_cr,\n",
    "            # \"sqrt_y\": sqrt_y, \"sqrt_cb\": sqrt_cb, \"sqrt_cr\": sqrt_cr,\n",
    "            \"skew_y\": skew_y, \"skew_cb\": skew_cb, \"skew_cr\": skew_cr,\n",
    "            \"kur_y\": kur_y, \"kur_cb\": kur_cb, \"kur_cr\": kur_cr,\n",
    "            \"ent_y\": ent_y, \"ent_cb\": ent_cb, \"ent_cr\": ent_cr,\n",
    "            \"wav_y\": wav_y, \"wav_cb\": wav_cb, \"wav_cr\": wav_cr,\n",
    "            \n",
    "            \"mean_x\": mean_X, \"mean_Y\": mean_Y, \"mean_z\": mean_Z,\n",
    "            \"std_x\": std_X, \"std_Y\": std_Y, \"std_z\": std_Z,\n",
    "            \"skew_x\": skew_X, \"skew_Y\": skew_Y, \"skew_z\": skew_Z,\n",
    "            \"kur_x\": kur_X, \"kur_Y\": kur_Y, \"kur_z\": kur_Z,\n",
    "            \"ent_x\": ent_X, \"ent_Y\": ent_Y, \"ent_z\": ent_Z,\n",
    "            \"wav_x\": wav_X, \"wav_Y\": wav_Y, \"wav_z\": wav_Z\n",
    "            }"
   ]
  },
  {
   "cell_type": "code",
   "execution_count": 7,
   "id": "4cbd18daff2507f5",
   "metadata": {
    "ExecuteTime": {
     "end_time": "2025-02-23T17:51:36.704372900Z",
     "start_time": "2025-02-23T17:51:36.688493100Z"
    },
    "collapsed": false
   },
   "outputs": [],
   "source": [
    "def basic_feature(image): # 8 features\n",
    "    \n",
    "    image = cv2.cvtColor(image, cv2.COLOR_BGR2GRAY)\n",
    "    blur = cv2.GaussianBlur(image, (3, 3), 0)\n",
    "    threshold, new_img = cv2.threshold(blur, 0, 255, cv2.THRESH_BINARY_INV + cv2.THRESH_OTSU)\n",
    "    \n",
    "    area = np.count_nonzero(new_img)\n",
    "    contours, _ = cv2.findContours(new_img, cv2.RETR_EXTERNAL, cv2.CHAIN_APPROX_SIMPLE)\n",
    "    contour = max(contours, key=cv2.contourArea)\n",
    "    peri = cv2.arcLength(contour, True)\n",
    "    x, y, w, h = cv2.boundingRect(contour)\n",
    "    \n",
    "    length = x + w\n",
    "    width = y + h\n",
    "    ratio = length / width\n",
    "    \n",
    "    ellipse = cv2.fitEllipse(contour)\n",
    "    \n",
    "    major_axis = max(ellipse[1])\n",
    "    minor_axis = min(ellipse[1])\n",
    "    \n",
    "    hull = cv2.convexHull(contour)\n",
    "    hull_area = cv2.contourArea(hull)\n",
    "    hull_perimeter = cv2.arcLength(hull, True)\n",
    "    \n",
    "    sf1 = major_axis / area\n",
    "    sf2 = minor_axis / area\n",
    "    sf3 = area / ((0.5 * major_axis)**2 * np.pi)\n",
    "    sf4 = area / (0.5**2 * major_axis * minor_axis * np.pi)\n",
    "    \n",
    "    ed = np.sqrt(4 * area / np.pi)\n",
    "    ar = major_axis / minor_axis\n",
    "    roundness = (4 * area * np.pi) / peri**2\n",
    "    Co = ed / major_axis\n",
    "    solid = area / hull_area\n",
    "    \n",
    "    return {\n",
    "        \"area\": area,\n",
    "        \"length\": length,\n",
    "        \"width\": width,\n",
    "        \"ratio\": ratio,\n",
    "        \"major_axis_length\": major_axis,\n",
    "        \"minor_axis_length\": minor_axis,\n",
    "        \"convex_hull_area\": hull_area,\n",
    "        \"convex_hull_perimeter\": hull_perimeter,\n",
    "        \"shape_factor_1\": sf1,\n",
    "        \"shape_factor_2\": sf2,\n",
    "        \"shape_factor_3\": sf3,\n",
    "        \"shape_factor_4\": sf4,\n",
    "        \"equivalent_diameter\": ed,\n",
    "        \"aspect_ratio\": ar,\n",
    "        \"perimeter\": peri,\n",
    "        \"roundness\": roundness,\n",
    "        \"compactness\": Co,\n",
    "        \"solidity\": solid\n",
    "    }"
   ]
  },
  {
   "cell_type": "code",
   "execution_count": 8,
   "id": "5a688c328a9195bc",
   "metadata": {
    "ExecuteTime": {
     "end_time": "2025-02-23T17:51:36.722852100Z",
     "start_time": "2025-02-23T17:51:36.704372900Z"
    },
    "collapsed": false
   },
   "outputs": [],
   "source": [
    "def compute_glcm_descriptor(image): # 16 features\n",
    "    if image is None:\n",
    "        return None\n",
    "    image = cv2.cvtColor(image, cv2.COLOR_BGR2GRAY)\n",
    "    # Configuration \n",
    "    distance = [3]  \n",
    "    angles = [0, np.pi/4, np.pi/2, 3*np.pi/4]  # 0°, 45°, 90°, 135°\n",
    "    properties = ['contrast', 'correlation', 'energy', 'homogeneity']  \n",
    "    \n",
    "    glcm = graycomatrix(image, distances=distance, angles=angles, symmetric=True, normed=True)\n",
    "    \n",
    "    features = []\n",
    "    for prop in properties:\n",
    "        feature = graycoprops(glcm, prop).flatten()\n",
    "        features.extend(feature)\n",
    "    \n",
    "    return np.array(features)"
   ]
  },
  {
   "cell_type": "code",
   "execution_count": 9,
   "id": "17ae72079a75d6c5",
   "metadata": {
    "ExecuteTime": {
     "end_time": "2025-02-23T17:51:36.736049400Z",
     "start_time": "2025-02-23T17:51:36.722852100Z"
    },
    "collapsed": false
   },
   "outputs": [],
   "source": [
    "def create_gabor_filter(size, u0, v0, delta_x, delta_y):\n",
    "    size //= 2\n",
    "    y, x = np.mgrid[-size:size + 1, -size:size + 1]\n",
    "\n",
    "    gaussian = np.exp(-0.5 * (x ** 2 / delta_x ** 2 + y ** 2 / delta_y ** 2))\n",
    "\n",
    "    sinusoid = np.exp(-2j * np.pi * (u0 * x + v0 * y))\n",
    "\n",
    "    return gaussian * sinusoid\n",
    "\n",
    "\n",
    "def compute_gist_descriptor(image): # 512 features\n",
    "    if image is None:\n",
    "        return None\n",
    "\n",
    "    image = cv2.cvtColor(image, cv2.COLOR_BGR2GRAY)\n",
    "    image = image.astype(np.float32) / 255.0\n",
    "\n",
    "    local_mean = cv2.GaussianBlur(image, (5, 5), 1.0)\n",
    "    variance = cv2.GaussianBlur(image ** 2, (5, 5), 1.0) - local_mean ** 2\n",
    "    variance[variance < 0] = 0\n",
    "    local_std = np.sqrt(variance)\n",
    "    image = (image - local_mean) / (local_std + 1e-8)\n",
    "\n",
    "    features = []\n",
    "    scales = [2, 4, 8, 16]\n",
    "    orientations = 8\n",
    "\n",
    "    for delta in scales:\n",
    "        size = 2 * delta + 1\n",
    "        for theta in range(orientations):\n",
    "            angle = theta * np.pi / orientations\n",
    "            u0 = np.cos(angle) / delta\n",
    "            v0 = np.sin(angle) / delta\n",
    "\n",
    "            gabor_filter = create_gabor_filter(size=size, u0=u0, v0=v0, delta_x=delta, delta_y=delta)\n",
    "\n",
    "            filtered = cv2.filter2D(image, cv2.CV_32F, np.real(gabor_filter))\n",
    "\n",
    "            blocks = np.array_split(filtered, 4, axis=0)\n",
    "            blocks = [np.array_split(b, 4, axis=1) for b in blocks]\n",
    "            for row in blocks:\n",
    "                for block in row:\n",
    "                    energy = np.mean(np.abs(block))\n",
    "                    features.append(energy)\n",
    "\n",
    "    return np.array(features)"
   ]
  },
  {
   "cell_type": "code",
   "execution_count": 10,
   "id": "e248939019b5918c",
   "metadata": {
    "ExecuteTime": {
     "end_time": "2025-02-23T17:51:36.751694700Z",
     "start_time": "2025-02-23T17:51:36.736049400Z"
    },
    "collapsed": false
   },
   "outputs": [],
   "source": [
    "def compute_sift_descriptor(image_paths): # depend on bag of sift\n",
    "    sift = cv2.SIFT_create()\n",
    "    descriptor_list = []\n",
    "    \n",
    "    for image_path, label in tqdm(image_paths, desc=\"Processing SIFT\"):\n",
    "        image = cv2.imread(image_path, cv2.COLOR_BGR2GRAY)\n",
    "        if image is None:\n",
    "            continue\n",
    "        key, des = sift.detectAndCompute(image, None)\n",
    "        if des is not None:\n",
    "            descriptor_list.append(des)\n",
    "    \n",
    "    descriptor_all = np.vstack(descriptor_list)\n",
    "    return descriptor_all, descriptor_list\n",
    "\n",
    "def KMean_clustering(descriptors_all, descriptor_list, n_cluster):\n",
    "    kmeans = KMeans(random_state=42, n_clusters=n_cluster)\n",
    "    kmeans.fit(descriptors_all)\n",
    "    \n",
    "    features = []\n",
    "    for des in descriptor_list:\n",
    "        predict = kmeans.predict(des)\n",
    "        histogram = np.bincount(predict, minlength=kmeans.n_clusters)\n",
    "        features.append(histogram)\n",
    "        \n",
    "    cols = [f\"SIFT_{i}\" for i in range(kmeans.n_clusters)] \n",
    "    \n",
    "    return pd.DataFrame(features, columns=cols)"
   ]
  },
  {
   "cell_type": "code",
   "execution_count": 11,
   "id": "f40dd27fd001e25c",
   "metadata": {
    "ExecuteTime": {
     "end_time": "2025-02-23T17:51:36.767792200Z",
     "start_time": "2025-02-23T17:51:36.751694700Z"
    },
    "collapsed": false
   },
   "outputs": [],
   "source": [
    "def extract_all_features(image):    \n",
    "    features = {}\n",
    "\n",
    "    lbp_hist = compute_lbp_feature(image)\n",
    "    features.update(lbp_hist) \n",
    "    \n",
    "    texture_features = compute_texture_feature(image)\n",
    "    features.update(texture_features) \n",
    "\n",
    "    color_features = compute_color_feature(image)\n",
    "    features.update(color_features) \n",
    "\n",
    "    central_features = compute_central_moments(image)\n",
    "    features.update(central_features)\n",
    "    \n",
    "    zernike_features = compute_zernike_moments(image, degree=8)\n",
    "    features.update(zernike_features)\n",
    "    \n",
    "    shape_features = basic_feature(image)\n",
    "    features.update(shape_features)\n",
    "\n",
    "    glcm_features = compute_glcm_descriptor(image)\n",
    "    if glcm_features is not None:\n",
    "        for i, val in enumerate(glcm_features):\n",
    "            features[f'GLCM_{i}'] = val\n",
    "\n",
    "    # gist_features = compute_gist_descriptor(image)\n",
    "    # if gist_features is not None:\n",
    "    #     for i, val in enumerate(gist_features):\n",
    "    #         features[f'GIST_{i}'] = val\n",
    "\n",
    "    return features"
   ]
  },
  {
   "cell_type": "code",
   "execution_count": 12,
   "id": "3ab84d73d4b1758b",
   "metadata": {
    "ExecuteTime": {
     "end_time": "2025-02-23T17:51:36.783545100Z",
     "start_time": "2025-02-23T17:51:36.767792200Z"
    },
    "collapsed": false
   },
   "outputs": [],
   "source": [
    "def process_directory(base_path):\n",
    "    all_data = []\n",
    "    image_paths = []\n",
    "    for root, dirs, files in os.walk(base_path):\n",
    "        for file in files:\n",
    "            if file.endswith(('.png', '.jpg', '.jpeg')):\n",
    "                label = 0 if 'negative' in root else 1\n",
    "                image_paths.append((os.path.join(root, file), label))\n",
    "    \n",
    "    for image_path, label in tqdm(image_paths, desc=\"Processing Images\"):\n",
    "        image = cv2.imread(image_path)\n",
    "        if image is None:\n",
    "            continue  \n",
    "\n",
    "        features = extract_all_features(image)\n",
    "        features[\"Label\"] = label\n",
    " \n",
    "        all_data.append(features)\n",
    "    \n",
    "    data = pd.DataFrame(all_data)\n",
    "    \n",
    "    return data"
   ]
  },
  {
   "cell_type": "code",
   "execution_count": 13,
   "id": "804dc0fbb4ea8b0",
   "metadata": {
    "ExecuteTime": {
     "end_time": "2025-02-23T18:16:17.087349Z",
     "start_time": "2025-02-23T17:51:36.783545100Z"
    },
    "collapsed": false
   },
   "outputs": [
    {
     "name": "stderr",
     "output_type": "stream",
     "text": [
      "Processing Images: 100%|██████████| 3422/3422 [03:19<00:00, 17.16it/s]\n",
      "Processing Images: 100%|██████████| 4316/4316 [04:14<00:00, 16.96it/s]\n",
      "Processing Images: 100%|██████████| 2867/2867 [02:48<00:00, 17.03it/s]\n",
      "Processing Images: 100%|██████████| 3944/3944 [03:47<00:00, 17.37it/s]\n",
      "Processing Images: 100%|██████████| 2103/2103 [01:58<00:00, 17.76it/s]\n",
      "Processing Images: 100%|██████████| 2103/2103 [02:00<00:00, 17.49it/s]\n",
      "Processing Images: 100%|██████████| 2328/2328 [02:13<00:00, 17.41it/s]\n",
      "Processing Images: 100%|██████████| 2337/2337 [02:15<00:00, 17.20it/s]\n",
      "Processing Images: 100%|██████████| 2074/2074 [02:00<00:00, 17.15it/s]\n"
     ]
    }
   ],
   "source": [
    "base_bc15 = r\"D:\\python\\Rice_Seed\\dataset2\\BC-15\"\n",
    "base_huongthom = r\"D:\\python\\Rice_Seed\\dataset2\\Huong_thom\"\n",
    "base_nep87 = r\"D:\\python\\Rice_Seed\\dataset2\\Nep-87\"\n",
    "base_q5 = r\"D:\\python\\Rice_Seed\\dataset2\\Q-5\"\n",
    "base_thien_uu = r\"D:\\python\\Rice_Seed\\dataset2\\Thien_uu-8\"\n",
    "base_xi23 = r\"D:\\python\\Rice_Seed\\dataset2\\Xi-23\"\n",
    "base_tbr36 = r\"D:\\python\\Rice_Seed\\dataset2\\TBR-36\"\n",
    "base_tbr45 = r\"D:\\python\\Rice_Seed\\dataset2\\TBR-45\"\n",
    "base_th35 = r\"D:\\python\\Rice_Seed\\dataset2\\TH3-5\"\n",
    "df_bc15 = process_directory(base_bc15).sample(frac=1, random_state=42).reset_index(drop=True)\n",
    "df_huongthom = process_directory(base_huongthom).sample(frac=1, random_state=42).reset_index(drop=True)\n",
    "df_nep87 = process_directory(base_nep87).sample(frac=1, random_state=42).reset_index(drop=True)\n",
    "df_q5 = process_directory(base_q5).sample(frac=1, random_state=42).reset_index(drop=True)\n",
    "df_thien_uu = process_directory(base_thien_uu).sample(frac=1, random_state=42).reset_index(drop=True)\n",
    "df_xi23 = process_directory(base_thien_uu).sample(frac=1, random_state=42).reset_index(drop=True)\n",
    "df_tbr36 = process_directory(base_tbr36).sample(frac=1, random_state=42).reset_index(drop=True)\n",
    "df_tbr45 = process_directory(base_tbr45).sample(frac=1, random_state=42).reset_index(drop=True)\n",
    "df_th35 = process_directory(base_th35).sample(frac=1, random_state=42).reset_index(drop=True)"
   ]
  },
  {
   "cell_type": "code",
   "execution_count": 15,
   "id": "53f8cd42bc6f7b2c",
   "metadata": {
    "ExecuteTime": {
     "end_time": "2025-02-23T18:17:27.615016300Z",
     "start_time": "2025-02-23T18:17:23.887894500Z"
    },
    "collapsed": false
   },
   "outputs": [],
   "source": [
    "df_bc15.to_csv(r\"D:\\python\\Rice_Seed\\dataset2\\Feature_extraction\\feature_extraction_bc15_2.csv\", index=False)\n",
    "df_huongthom.to_csv(r\"D:\\python\\Rice_Seed\\dataset2\\Feature_extraction\\feature_extraction_huongthom_2.csv\", index=False)\n",
    "df_nep87.to_csv(r\"D:\\python\\Rice_Seed\\dataset2\\Feature_extraction\\feature_extraction_nep87_2.csv\", index=False)\n",
    "df_q5.to_csv(r\"D:\\python\\Rice_Seed\\dataset2\\Feature_extraction\\feature_extraction_q5_2.csv\", index=False)\n",
    "df_thien_uu.to_csv(r\"D:\\python\\Rice_Seed\\dataset2\\Feature_extraction\\feature_extraction_thien_uu_2.csv\", index=False)\n",
    "df_xi23.to_csv(r\"D:\\python\\Rice_Seed\\dataset2\\Feature_extraction\\feature_extraction_xi23_2.csv\", index=False)\n",
    "df_tbr36.to_csv(r\"D:\\python\\Rice_Seed\\dataset2\\Feature_extraction\\feature_extraction_tbr_36_2.csv\", index=False)\n",
    "df_tbr45.to_csv(r\"D:\\python\\Rice_Seed\\dataset2\\Feature_extraction\\feature_extraction_tbr_45_2.csv\", index=False)\n",
    "df_th35.to_csv(r\"D:\\python\\Rice_Seed\\dataset2\\Feature_extraction\\feature_extraction_th_35_2.csv\", index=False)"
   ]
  },
  {
   "cell_type": "code",
   "execution_count": null,
   "id": "74fd20e7a09c0a50",
   "metadata": {
    "collapsed": false
   },
   "outputs": [],
   "source": []
  }
 ],
 "metadata": {
  "kernelspec": {
   "display_name": "3.10.16",
   "language": "python",
   "name": "python3"
  },
  "language_info": {
   "codemirror_mode": {
    "name": "ipython",
    "version": 3
   },
   "file_extension": ".py",
   "mimetype": "text/x-python",
   "name": "python",
   "nbconvert_exporter": "python",
   "pygments_lexer": "ipython3",
   "version": "3.10.16"
  }
 },
 "nbformat": 4,
 "nbformat_minor": 5
}
