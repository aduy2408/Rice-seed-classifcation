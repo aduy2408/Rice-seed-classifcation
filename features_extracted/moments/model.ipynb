{
 "cells": [
  {
   "cell_type": "code",
   "execution_count": 10,
   "metadata": {},
   "outputs": [],
   "source": [
    "import pandas as pd\n",
    "import numpy as np\n",
    "from sklearn.model_selection import train_test_split, cross_val_score, GridSearchCV, RandomizedSearchCV\n",
    "from sklearn.preprocessing import RobustScaler, StandardScaler\n",
    "from sklearn.neighbors import KNeighborsClassifier\n",
    "from sklearn.svm import SVC\n",
    "from sklearn.ensemble import RandomForestClassifier\n",
    "from sklearn.metrics import accuracy_score, classification_report, precision_score, recall_score, f1_score\n",
    "import matplotlib.pyplot as plt\n",
    "import seaborn as sns\n",
    "from itertools import combinations\n",
    "from sklearn.ensemble import RandomForestClassifier\n",
    "import tqdm\n"
   ]
  },
  {
   "cell_type": "code",
   "execution_count": 11,
   "metadata": {},
   "outputs": [],
   "source": [
    "datasets = ['BC-15','Huongthom', 'Nep87','Q5','Thien_uu','Xi23']"
   ]
  },
  {
   "cell_type": "code",
   "execution_count": 12,
   "metadata": {},
   "outputs": [],
   "source": [
    "df = pd.read_csv('/home/duyle/Rice_photos/features_extracted/moments/all_with_zernike_pluscolor_enhanced_edge_BC-15.csv')"
   ]
  },
  {
   "cell_type": "code",
   "execution_count": 92,
   "metadata": {},
   "outputs": [],
   "source": [
    "basic_features = [\"area\", \"length\", \"width\", \"ratio\", \"major_axis_length\", \"minor_axis_length\", \"convex_hull_area\",\n",
    "                  \"convex_hull_perimeter\",\"mean_r\", \"mean_g\", \"mean_b\", \"std_r\", \"std_g\", \"std_b\",\"red_sqr\", \"green_sqr\", \"blue_sqr\",\"texture_mean\",\n",
    "                  \"texture_std\",\"texture_uniformity\",\"texture_third_moment\"]\n",
    "\n",
    "enhanced_color_features = ['mean_h','mean_s','mean_v','std_h','std_s','std_v','hue_sqr','sat_sqr',\n",
    "'val_sqr','mean_y','mean_cr','mean_cb','std_y','std_cr','std_cb','y_sqr','cr_sqr','cb_sqr',\n",
    "'mean_l','mean_a','mean_b','std_l','std_a','std_b_lab','l_sqr','a_sqr','b_lab_sqr']\n",
    "\n",
    "skew_and_kurtosis = ['skew_r','skew_g', 'skew_b','skew_h','skew_s','skew_v','skew_y','skew_cr','skew_cb','skew_l','skew_a','skew_b_lab',\n",
    "'kurtosis_r','kurtosis_g','kurtosis_b','kurtosis_h','kurtosis_s','kurtosis_v','kurtosis_y','kurtosis_cr',\n",
    "'kurtosis_cb','kurtosis_l','kurtosis_a','kurtosis_b_lab']\n",
    "\n",
    "zernike_features = [col for col in df.columns if col.startswith(\"zernike_\")]\n",
    "color_features = [col for col in df.columns if col.startswith(\"csd_\")]\n",
    "lbp_features = [col for col in df.columns if col.startswith(\"LBP_\")]\n",
    "glcm_features = [col for col in df.columns if col.startswith(\"GLCM_\")]\n",
    "# gist_features = [col for col in df.columns if col.startswith(\"GIST_\")]\n",
    "edge_features = [col for col in df.columns if col.startswith(\"edge_energy\")]\n",
    "edge_features_2 = [col for col in df.columns if col.startswith(\"edge_energy_2\")]\n",
    "\n",
    "hu_features = [col for col in df.columns if col.startswith(\"hu_\")]  "
   ]
  },
  {
   "cell_type": "code",
   "execution_count": 110,
   "metadata": {},
   "outputs": [],
   "source": [
    "feature_groups = {\n",
    "    \"Basic\": basic_features,\n",
    "    \"Enhanced Color\": enhanced_color_features,\n",
    "    \"Skewness and Kurtosis\": skew_and_kurtosis,\n",
    "    \"Zernike moments\": zernike_features,\n",
    "    # \"Hu moments\": hu_features,\n",
    "    \"LBP\": lbp_features,\n",
    "    \"GLCM\": glcm_features,\n",
    "    # \"GIST\": gist_features,\n",
    "    \"Edge\":edge_features,\n",
    "    \"Edge2\": edge_features_2\n",
    "}"
   ]
  },
  {
   "cell_type": "code",
   "execution_count": 111,
   "metadata": {},
   "outputs": [],
   "source": [
    "feature_combinations = []\n",
    "for r in range(3, len(feature_groups) + 1):  # From 1 feature group up to all\n",
    "    for combo in combinations(feature_groups.keys(), r):\n",
    "        feature_combinations.append(combo)"
   ]
  },
  {
   "cell_type": "code",
   "execution_count": null,
   "metadata": {},
   "outputs": [],
   "source": [
    "models = {\n",
    "    \"K-Nearest Neighbors\": KNeighborsClassifier(n_neighbors=21),k\n",
    "    \"Support Vector Machine\": SVC(kernel='rbf', gamma = \"auto\", C=1),\n",
    "    \"Random Forest\": RandomForestClassifier(n_estimators=150, max_depth=20)\n",
    "    \n",
    "}"
   ]
  },
  {
   "cell_type": "code",
   "execution_count": 101,
   "metadata": {},
   "outputs": [],
   "source": [
    "param_distributions = {\n",
    "    \"K-Nearest Neighbors\": {\n",
    "        \"n_neighbors\": np.arange(1, 70, 2),\n",
    "        \"weights\": [\"uniform\", \"distance\"],\n",
    "        \"metric\": [\"euclidean\", \"manhattan\"]\n",
    "    },\n",
    "    \"Support Vector Machine\": {\n",
    "        \"C\": np.logspace(-3, 2, 10),\n",
    "        \"kernel\": [\"linear\", \"rbf\", \"poly\", \"sigmoid\"],\n",
    "        \"gamma\": [\"scale\", \"auto\"]\n",
    "    },\n",
    "    \"Random Forest\": {\n",
    "        \"n_estimators\": [100, 150, 200, 250, 300],\n",
    "        \"max_depth\": [20, 30, 50, 40, None],\n",
    "        \"min_samples_split\": [2, 5, 10],\n",
    "        \"min_samples_leaf\": [1, 2, 4],\n",
    "        \"bootstrap\": [True, False]\n",
    "    }\n",
    "}\n",
    "\n",
    "# Define base models\n",
    "models = {\n",
    "    \"K-Nearest Neighbors\": KNeighborsClassifier(),\n",
    "    \"Support Vector Machine\": SVC(),\n",
    "    \"Random Forest\": RandomForestClassifier()\n",
    "}"
   ]
  },
  {
   "cell_type": "code",
   "execution_count": 113,
   "metadata": {},
   "outputs": [],
   "source": [
    "all_results = []"
   ]
  },
  {
   "cell_type": "code",
   "execution_count": 108,
   "metadata": {},
   "outputs": [
    {
     "name": "stderr",
     "output_type": "stream",
     "text": [
      "Choosing cominations of features..:   0%|          | 0/99 [00:00<?, ?it/s]"
     ]
    },
    {
     "name": "stdout",
     "output_type": "stream",
     "text": [
      "🚀 Training K-Nearest Neighbors on ('Basic', 'Enhanced Color', 'Zernike moments')...\n",
      "🚀 Training Support Vector Machine on ('Basic', 'Enhanced Color', 'Zernike moments')...\n"
     ]
    },
    {
     "name": "stderr",
     "output_type": "stream",
     "text": []
    },
    {
     "name": "stdout",
     "output_type": "stream",
     "text": [
      "🚀 Training Random Forest on ('Basic', 'Enhanced Color', 'Zernike moments')...\n"
     ]
    },
    {
     "name": "stderr",
     "output_type": "stream",
     "text": [
      "Training models..: 100%|██████████| 3/3 [00:08<00:00,  2.82s/it]\n",
      "Choosing cominations of features..:   1%|          | 1/99 [00:08<13:53,  8.50s/it]"
     ]
    },
    {
     "name": "stdout",
     "output_type": "stream",
     "text": [
      "🚀 Training K-Nearest Neighbors on ('Basic', 'Enhanced Color', 'LBP')...\n",
      "🚀 Training Support Vector Machine on ('Basic', 'Enhanced Color', 'LBP')...\n"
     ]
    },
    {
     "name": "stderr",
     "output_type": "stream",
     "text": []
    },
    {
     "name": "stdout",
     "output_type": "stream",
     "text": [
      "🚀 Training Random Forest on ('Basic', 'Enhanced Color', 'LBP')...\n"
     ]
    },
    {
     "name": "stderr",
     "output_type": "stream",
     "text": [
      "Training models..: 100%|██████████| 3/3 [00:09<00:00,  3.31s/it]\n",
      "Choosing cominations of features..:   2%|▏         | 2/99 [00:18<15:06,  9.34s/it]"
     ]
    },
    {
     "name": "stdout",
     "output_type": "stream",
     "text": [
      "🚀 Training K-Nearest Neighbors on ('Basic', 'Enhanced Color', 'GLCM')...\n",
      "🚀 Training Support Vector Machine on ('Basic', 'Enhanced Color', 'GLCM')...\n"
     ]
    },
    {
     "name": "stderr",
     "output_type": "stream",
     "text": []
    },
    {
     "name": "stdout",
     "output_type": "stream",
     "text": [
      "🚀 Training Random Forest on ('Basic', 'Enhanced Color', 'GLCM')...\n"
     ]
    },
    {
     "name": "stderr",
     "output_type": "stream",
     "text": [
      "Training models..: 100%|██████████| 3/3 [00:07<00:00,  2.62s/it]\n",
      "Choosing cominations of features..:   3%|▎         | 3/99 [00:26<13:52,  8.67s/it]"
     ]
    },
    {
     "name": "stdout",
     "output_type": "stream",
     "text": [
      "🚀 Training K-Nearest Neighbors on ('Basic', 'Enhanced Color', 'Edge')...\n",
      "🚀 Training Support Vector Machine on ('Basic', 'Enhanced Color', 'Edge')...\n"
     ]
    },
    {
     "name": "stderr",
     "output_type": "stream",
     "text": []
    },
    {
     "name": "stdout",
     "output_type": "stream",
     "text": [
      "🚀 Training Random Forest on ('Basic', 'Enhanced Color', 'Edge')...\n"
     ]
    },
    {
     "name": "stderr",
     "output_type": "stream",
     "text": [
      "Training models..: 100%|██████████| 3/3 [00:06<00:00,  2.32s/it]\n",
      "Choosing cominations of features..:   4%|▍         | 4/99 [00:33<12:39,  8.00s/it]"
     ]
    },
    {
     "name": "stdout",
     "output_type": "stream",
     "text": [
      "🚀 Training K-Nearest Neighbors on ('Basic', 'Enhanced Color', 'Edge2')...\n",
      "🚀 Training Support Vector Machine on ('Basic', 'Enhanced Color', 'Edge2')...\n"
     ]
    },
    {
     "name": "stderr",
     "output_type": "stream",
     "text": []
    },
    {
     "name": "stdout",
     "output_type": "stream",
     "text": [
      "🚀 Training Random Forest on ('Basic', 'Enhanced Color', 'Edge2')...\n"
     ]
    },
    {
     "name": "stderr",
     "output_type": "stream",
     "text": [
      "Training models..: 100%|██████████| 3/3 [00:06<00:00,  2.30s/it]\n",
      "Choosing cominations of features..:   5%|▌         | 5/99 [00:40<11:54,  7.60s/it]"
     ]
    },
    {
     "name": "stdout",
     "output_type": "stream",
     "text": [
      "🚀 Training K-Nearest Neighbors on ('Basic', 'Zernike moments', 'LBP')...\n",
      "🚀 Training Support Vector Machine on ('Basic', 'Zernike moments', 'LBP')...\n"
     ]
    },
    {
     "name": "stderr",
     "output_type": "stream",
     "text": []
    },
    {
     "name": "stdout",
     "output_type": "stream",
     "text": [
      "🚀 Training Random Forest on ('Basic', 'Zernike moments', 'LBP')...\n"
     ]
    },
    {
     "name": "stderr",
     "output_type": "stream",
     "text": [
      "Training models..: 100%|██████████| 3/3 [00:06<00:00,  2.10s/it]\n",
      "Choosing cominations of features..:   6%|▌         | 6/99 [00:46<11:06,  7.16s/it]"
     ]
    },
    {
     "name": "stdout",
     "output_type": "stream",
     "text": [
      "🚀 Training K-Nearest Neighbors on ('Basic', 'Zernike moments', 'GLCM')...\n",
      "🚀 Training Support Vector Machine on ('Basic', 'Zernike moments', 'GLCM')...\n"
     ]
    },
    {
     "name": "stderr",
     "output_type": "stream",
     "text": []
    },
    {
     "name": "stdout",
     "output_type": "stream",
     "text": [
      "🚀 Training Random Forest on ('Basic', 'Zernike moments', 'GLCM')...\n"
     ]
    },
    {
     "name": "stderr",
     "output_type": "stream",
     "text": [
      "Training models..: 100%|██████████| 3/3 [00:06<00:00,  2.14s/it]\n",
      "Choosing cominations of features..:   7%|▋         | 7/99 [00:52<10:37,  6.93s/it]"
     ]
    },
    {
     "name": "stdout",
     "output_type": "stream",
     "text": [
      "🚀 Training K-Nearest Neighbors on ('Basic', 'Zernike moments', 'Edge')...\n",
      "🚀 Training Support Vector Machine on ('Basic', 'Zernike moments', 'Edge')...\n"
     ]
    },
    {
     "name": "stderr",
     "output_type": "stream",
     "text": []
    },
    {
     "name": "stdout",
     "output_type": "stream",
     "text": [
      "🚀 Training Random Forest on ('Basic', 'Zernike moments', 'Edge')...\n"
     ]
    },
    {
     "name": "stderr",
     "output_type": "stream",
     "text": [
      "Training models..: 100%|██████████| 3/3 [00:06<00:00,  2.15s/it]\n",
      "Choosing cominations of features..:   8%|▊         | 8/99 [00:59<10:16,  6.78s/it]"
     ]
    },
    {
     "name": "stdout",
     "output_type": "stream",
     "text": [
      "🚀 Training K-Nearest Neighbors on ('Basic', 'Zernike moments', 'Edge2')...\n",
      "🚀 Training Support Vector Machine on ('Basic', 'Zernike moments', 'Edge2')...\n"
     ]
    },
    {
     "name": "stderr",
     "output_type": "stream",
     "text": []
    },
    {
     "name": "stdout",
     "output_type": "stream",
     "text": [
      "🚀 Training Random Forest on ('Basic', 'Zernike moments', 'Edge2')...\n"
     ]
    },
    {
     "name": "stderr",
     "output_type": "stream",
     "text": [
      "Training models..: 100%|██████████| 3/3 [00:05<00:00,  1.90s/it]\n",
      "Choosing cominations of features..:   9%|▉         | 9/99 [01:05<09:40,  6.45s/it]"
     ]
    },
    {
     "name": "stdout",
     "output_type": "stream",
     "text": [
      "🚀 Training K-Nearest Neighbors on ('Basic', 'LBP', 'GLCM')...\n",
      "🚀 Training Support Vector Machine on ('Basic', 'LBP', 'GLCM')...\n"
     ]
    },
    {
     "name": "stderr",
     "output_type": "stream",
     "text": []
    },
    {
     "name": "stdout",
     "output_type": "stream",
     "text": [
      "🚀 Training Random Forest on ('Basic', 'LBP', 'GLCM')...\n"
     ]
    },
    {
     "name": "stderr",
     "output_type": "stream",
     "text": [
      "Training models..: 100%|██████████| 3/3 [00:05<00:00,  1.82s/it]\n",
      "Choosing cominations of features..:  10%|█         | 10/99 [01:10<09:07,  6.15s/it]"
     ]
    },
    {
     "name": "stdout",
     "output_type": "stream",
     "text": [
      "🚀 Training K-Nearest Neighbors on ('Basic', 'LBP', 'Edge')...\n",
      "🚀 Training Support Vector Machine on ('Basic', 'LBP', 'Edge')...\n"
     ]
    },
    {
     "name": "stderr",
     "output_type": "stream",
     "text": []
    },
    {
     "name": "stdout",
     "output_type": "stream",
     "text": [
      "🚀 Training Random Forest on ('Basic', 'LBP', 'Edge')...\n"
     ]
    },
    {
     "name": "stderr",
     "output_type": "stream",
     "text": [
      "Training models..: 100%|██████████| 3/3 [00:05<00:00,  1.83s/it]\n",
      "Choosing cominations of features..:  11%|█         | 11/99 [01:16<08:43,  5.95s/it]"
     ]
    },
    {
     "name": "stdout",
     "output_type": "stream",
     "text": [
      "🚀 Training K-Nearest Neighbors on ('Basic', 'LBP', 'Edge2')...\n",
      "🚀 Training Support Vector Machine on ('Basic', 'LBP', 'Edge2')...\n"
     ]
    },
    {
     "name": "stderr",
     "output_type": "stream",
     "text": []
    },
    {
     "name": "stdout",
     "output_type": "stream",
     "text": [
      "🚀 Training Random Forest on ('Basic', 'LBP', 'Edge2')...\n"
     ]
    },
    {
     "name": "stderr",
     "output_type": "stream",
     "text": [
      "Training models..: 100%|██████████| 3/3 [00:04<00:00,  1.62s/it]\n",
      "Choosing cominations of features..:  12%|█▏        | 12/99 [01:20<08:08,  5.61s/it]"
     ]
    },
    {
     "name": "stdout",
     "output_type": "stream",
     "text": [
      "🚀 Training K-Nearest Neighbors on ('Basic', 'GLCM', 'Edge')...\n",
      "🚀 Training Support Vector Machine on ('Basic', 'GLCM', 'Edge')...\n"
     ]
    },
    {
     "name": "stderr",
     "output_type": "stream",
     "text": []
    },
    {
     "name": "stdout",
     "output_type": "stream",
     "text": [
      "🚀 Training Random Forest on ('Basic', 'GLCM', 'Edge')...\n"
     ]
    },
    {
     "name": "stderr",
     "output_type": "stream",
     "text": [
      "Training models..: 100%|██████████| 3/3 [00:05<00:00,  1.83s/it]\n",
      "Choosing cominations of features..:  13%|█▎        | 13/99 [01:26<07:59,  5.57s/it]"
     ]
    },
    {
     "name": "stdout",
     "output_type": "stream",
     "text": [
      "🚀 Training K-Nearest Neighbors on ('Basic', 'GLCM', 'Edge2')...\n",
      "🚀 Training Support Vector Machine on ('Basic', 'GLCM', 'Edge2')...\n"
     ]
    },
    {
     "name": "stderr",
     "output_type": "stream",
     "text": []
    },
    {
     "name": "stdout",
     "output_type": "stream",
     "text": [
      "🚀 Training Random Forest on ('Basic', 'GLCM', 'Edge2')...\n"
     ]
    },
    {
     "name": "stderr",
     "output_type": "stream",
     "text": [
      "Training models..: 100%|██████████| 3/3 [00:05<00:00,  1.84s/it]\n",
      "Choosing cominations of features..:  14%|█▍        | 14/99 [01:31<07:52,  5.56s/it]"
     ]
    },
    {
     "name": "stdout",
     "output_type": "stream",
     "text": [
      "🚀 Training K-Nearest Neighbors on ('Basic', 'Edge', 'Edge2')...\n",
      "🚀 Training Support Vector Machine on ('Basic', 'Edge', 'Edge2')...\n"
     ]
    },
    {
     "name": "stderr",
     "output_type": "stream",
     "text": []
    },
    {
     "name": "stdout",
     "output_type": "stream",
     "text": [
      "🚀 Training Random Forest on ('Basic', 'Edge', 'Edge2')...\n"
     ]
    },
    {
     "name": "stderr",
     "output_type": "stream",
     "text": [
      "Training models..: 100%|██████████| 3/3 [00:04<00:00,  1.58s/it]\n",
      "Choosing cominations of features..:  15%|█▌        | 15/99 [01:36<07:26,  5.31s/it]"
     ]
    },
    {
     "name": "stdout",
     "output_type": "stream",
     "text": [
      "🚀 Training K-Nearest Neighbors on ('Enhanced Color', 'Zernike moments', 'LBP')...\n",
      "🚀 Training Support Vector Machine on ('Enhanced Color', 'Zernike moments', 'LBP')...\n"
     ]
    },
    {
     "name": "stderr",
     "output_type": "stream",
     "text": []
    },
    {
     "name": "stdout",
     "output_type": "stream",
     "text": [
      "🚀 Training Random Forest on ('Enhanced Color', 'Zernike moments', 'LBP')...\n"
     ]
    },
    {
     "name": "stderr",
     "output_type": "stream",
     "text": [
      "Training models..: 100%|██████████| 3/3 [00:08<00:00,  2.67s/it]\n",
      "Choosing cominations of features..:  16%|█▌        | 16/99 [01:44<08:28,  6.13s/it]"
     ]
    },
    {
     "name": "stdout",
     "output_type": "stream",
     "text": [
      "🚀 Training K-Nearest Neighbors on ('Enhanced Color', 'Zernike moments', 'GLCM')...\n",
      "🚀 Training Support Vector Machine on ('Enhanced Color', 'Zernike moments', 'GLCM')...\n"
     ]
    },
    {
     "name": "stderr",
     "output_type": "stream",
     "text": []
    },
    {
     "name": "stdout",
     "output_type": "stream",
     "text": [
      "🚀 Training Random Forest on ('Enhanced Color', 'Zernike moments', 'GLCM')...\n"
     ]
    },
    {
     "name": "stderr",
     "output_type": "stream",
     "text": [
      "Training models..: 100%|██████████| 3/3 [00:07<00:00,  2.63s/it]\n",
      "Choosing cominations of features..:  17%|█▋        | 17/99 [01:52<09:06,  6.66s/it]"
     ]
    },
    {
     "name": "stdout",
     "output_type": "stream",
     "text": [
      "🚀 Training K-Nearest Neighbors on ('Enhanced Color', 'Zernike moments', 'Edge')...\n",
      "🚀 Training Support Vector Machine on ('Enhanced Color', 'Zernike moments', 'Edge')...\n"
     ]
    },
    {
     "name": "stderr",
     "output_type": "stream",
     "text": []
    },
    {
     "name": "stdout",
     "output_type": "stream",
     "text": [
      "🚀 Training Random Forest on ('Enhanced Color', 'Zernike moments', 'Edge')...\n"
     ]
    },
    {
     "name": "stderr",
     "output_type": "stream",
     "text": [
      "Training models..: 100%|██████████| 3/3 [00:07<00:00,  2.64s/it]\n",
      "Choosing cominations of features..:  18%|█▊        | 18/99 [02:00<09:30,  7.05s/it]"
     ]
    },
    {
     "name": "stdout",
     "output_type": "stream",
     "text": [
      "🚀 Training K-Nearest Neighbors on ('Enhanced Color', 'Zernike moments', 'Edge2')...\n",
      "🚀 Training Support Vector Machine on ('Enhanced Color', 'Zernike moments', 'Edge2')...\n"
     ]
    },
    {
     "name": "stderr",
     "output_type": "stream",
     "text": []
    },
    {
     "name": "stdout",
     "output_type": "stream",
     "text": [
      "🚀 Training Random Forest on ('Enhanced Color', 'Zernike moments', 'Edge2')...\n"
     ]
    },
    {
     "name": "stderr",
     "output_type": "stream",
     "text": [
      "Training models..: 100%|██████████| 3/3 [00:07<00:00,  2.37s/it]\n",
      "Choosing cominations of features..:  19%|█▉        | 19/99 [02:07<09:25,  7.07s/it]"
     ]
    },
    {
     "name": "stdout",
     "output_type": "stream",
     "text": [
      "🚀 Training K-Nearest Neighbors on ('Enhanced Color', 'LBP', 'GLCM')...\n",
      "🚀 Training Support Vector Machine on ('Enhanced Color', 'LBP', 'GLCM')...\n"
     ]
    },
    {
     "name": "stderr",
     "output_type": "stream",
     "text": []
    },
    {
     "name": "stdout",
     "output_type": "stream",
     "text": [
      "🚀 Training Random Forest on ('Enhanced Color', 'LBP', 'GLCM')...\n"
     ]
    },
    {
     "name": "stderr",
     "output_type": "stream",
     "text": [
      "Training models..: 100%|██████████| 3/3 [00:06<00:00,  2.26s/it]\n",
      "Choosing cominations of features..:  20%|██        | 20/99 [02:14<09:12,  6.99s/it]"
     ]
    },
    {
     "name": "stdout",
     "output_type": "stream",
     "text": [
      "🚀 Training K-Nearest Neighbors on ('Enhanced Color', 'LBP', 'Edge')...\n",
      "🚀 Training Support Vector Machine on ('Enhanced Color', 'LBP', 'Edge')...\n"
     ]
    },
    {
     "name": "stderr",
     "output_type": "stream",
     "text": []
    },
    {
     "name": "stdout",
     "output_type": "stream",
     "text": [
      "🚀 Training Random Forest on ('Enhanced Color', 'LBP', 'Edge')...\n"
     ]
    },
    {
     "name": "stderr",
     "output_type": "stream",
     "text": [
      "Training models..: 100%|██████████| 3/3 [00:06<00:00,  2.26s/it]\n",
      "Choosing cominations of features..:  21%|██        | 21/99 [02:21<09:00,  6.93s/it]"
     ]
    },
    {
     "name": "stdout",
     "output_type": "stream",
     "text": [
      "🚀 Training K-Nearest Neighbors on ('Enhanced Color', 'LBP', 'Edge2')...\n",
      "🚀 Training Support Vector Machine on ('Enhanced Color', 'LBP', 'Edge2')...\n"
     ]
    },
    {
     "name": "stderr",
     "output_type": "stream",
     "text": []
    },
    {
     "name": "stdout",
     "output_type": "stream",
     "text": [
      "🚀 Training Random Forest on ('Enhanced Color', 'LBP', 'Edge2')...\n"
     ]
    },
    {
     "name": "stderr",
     "output_type": "stream",
     "text": [
      "Training models..: 100%|██████████| 3/3 [00:06<00:00,  2.01s/it]\n",
      "Choosing cominations of features..:  22%|██▏       | 22/99 [02:27<08:32,  6.66s/it]"
     ]
    },
    {
     "name": "stdout",
     "output_type": "stream",
     "text": [
      "🚀 Training K-Nearest Neighbors on ('Enhanced Color', 'GLCM', 'Edge')...\n",
      "🚀 Training Support Vector Machine on ('Enhanced Color', 'GLCM', 'Edge')...\n"
     ]
    },
    {
     "name": "stderr",
     "output_type": "stream",
     "text": []
    },
    {
     "name": "stdout",
     "output_type": "stream",
     "text": [
      "🚀 Training Random Forest on ('Enhanced Color', 'GLCM', 'Edge')...\n"
     ]
    },
    {
     "name": "stderr",
     "output_type": "stream",
     "text": [
      "Training models..: 100%|██████████| 3/3 [00:06<00:00,  2.27s/it]\n",
      "Choosing cominations of features..:  23%|██▎       | 23/99 [02:34<08:29,  6.70s/it]"
     ]
    },
    {
     "name": "stdout",
     "output_type": "stream",
     "text": [
      "🚀 Training K-Nearest Neighbors on ('Enhanced Color', 'GLCM', 'Edge2')...\n",
      "🚀 Training Support Vector Machine on ('Enhanced Color', 'GLCM', 'Edge2')...\n"
     ]
    },
    {
     "name": "stderr",
     "output_type": "stream",
     "text": []
    },
    {
     "name": "stdout",
     "output_type": "stream",
     "text": [
      "🚀 Training Random Forest on ('Enhanced Color', 'GLCM', 'Edge2')...\n"
     ]
    },
    {
     "name": "stderr",
     "output_type": "stream",
     "text": [
      "Training models..: 100%|██████████| 3/3 [00:06<00:00,  2.17s/it]\n",
      "Choosing cominations of features..:  24%|██▍       | 24/99 [02:40<08:18,  6.64s/it]"
     ]
    },
    {
     "name": "stdout",
     "output_type": "stream",
     "text": [
      "🚀 Training K-Nearest Neighbors on ('Enhanced Color', 'Edge', 'Edge2')...\n",
      "🚀 Training Support Vector Machine on ('Enhanced Color', 'Edge', 'Edge2')...\n"
     ]
    },
    {
     "name": "stderr",
     "output_type": "stream",
     "text": []
    },
    {
     "name": "stdout",
     "output_type": "stream",
     "text": [
      "🚀 Training Random Forest on ('Enhanced Color', 'Edge', 'Edge2')...\n"
     ]
    },
    {
     "name": "stderr",
     "output_type": "stream",
     "text": [
      "Training models..: 100%|██████████| 3/3 [00:06<00:00,  2.13s/it]\n",
      "Choosing cominations of features..:  25%|██▌       | 25/99 [02:46<08:06,  6.57s/it]"
     ]
    },
    {
     "name": "stdout",
     "output_type": "stream",
     "text": [
      "🚀 Training K-Nearest Neighbors on ('Zernike moments', 'LBP', 'GLCM')...\n",
      "🚀 Training Support Vector Machine on ('Zernike moments', 'LBP', 'GLCM')...\n"
     ]
    },
    {
     "name": "stderr",
     "output_type": "stream",
     "text": []
    },
    {
     "name": "stdout",
     "output_type": "stream",
     "text": [
      "🚀 Training Random Forest on ('Zernike moments', 'LBP', 'GLCM')...\n"
     ]
    },
    {
     "name": "stderr",
     "output_type": "stream",
     "text": [
      "Training models..: 100%|██████████| 3/3 [00:08<00:00,  2.67s/it]\n",
      "Choosing cominations of features..:  26%|██▋       | 26/99 [02:55<08:31,  7.01s/it]"
     ]
    },
    {
     "name": "stdout",
     "output_type": "stream",
     "text": [
      "🚀 Training K-Nearest Neighbors on ('Zernike moments', 'LBP', 'Edge')...\n",
      "🚀 Training Support Vector Machine on ('Zernike moments', 'LBP', 'Edge')...\n"
     ]
    },
    {
     "name": "stderr",
     "output_type": "stream",
     "text": []
    },
    {
     "name": "stdout",
     "output_type": "stream",
     "text": [
      "🚀 Training Random Forest on ('Zernike moments', 'LBP', 'Edge')...\n"
     ]
    },
    {
     "name": "stderr",
     "output_type": "stream",
     "text": [
      "Training models..: 100%|██████████| 3/3 [00:07<00:00,  2.48s/it]\n",
      "Choosing cominations of features..:  27%|██▋       | 27/99 [03:02<08:33,  7.14s/it]"
     ]
    },
    {
     "name": "stdout",
     "output_type": "stream",
     "text": [
      "🚀 Training K-Nearest Neighbors on ('Zernike moments', 'LBP', 'Edge2')...\n",
      "🚀 Training Support Vector Machine on ('Zernike moments', 'LBP', 'Edge2')...\n"
     ]
    },
    {
     "name": "stderr",
     "output_type": "stream",
     "text": []
    },
    {
     "name": "stdout",
     "output_type": "stream",
     "text": [
      "🚀 Training Random Forest on ('Zernike moments', 'LBP', 'Edge2')...\n"
     ]
    },
    {
     "name": "stderr",
     "output_type": "stream",
     "text": [
      "Training models..: 100%|██████████| 3/3 [00:06<00:00,  2.18s/it]\n",
      "Choosing cominations of features..:  28%|██▊       | 28/99 [03:08<08:13,  6.96s/it]"
     ]
    },
    {
     "name": "stdout",
     "output_type": "stream",
     "text": [
      "🚀 Training K-Nearest Neighbors on ('Zernike moments', 'GLCM', 'Edge')...\n",
      "🚀 Training Support Vector Machine on ('Zernike moments', 'GLCM', 'Edge')...\n"
     ]
    },
    {
     "name": "stderr",
     "output_type": "stream",
     "text": []
    },
    {
     "name": "stdout",
     "output_type": "stream",
     "text": [
      "🚀 Training Random Forest on ('Zernike moments', 'GLCM', 'Edge')...\n"
     ]
    },
    {
     "name": "stderr",
     "output_type": "stream",
     "text": [
      "Training models..: 100%|██████████| 3/3 [00:06<00:00,  2.31s/it]\n",
      "Choosing cominations of features..:  29%|██▉       | 29/99 [03:15<08:06,  6.95s/it]"
     ]
    },
    {
     "name": "stdout",
     "output_type": "stream",
     "text": [
      "🚀 Training K-Nearest Neighbors on ('Zernike moments', 'GLCM', 'Edge2')...\n",
      "🚀 Training Support Vector Machine on ('Zernike moments', 'GLCM', 'Edge2')...\n"
     ]
    },
    {
     "name": "stderr",
     "output_type": "stream",
     "text": []
    },
    {
     "name": "stdout",
     "output_type": "stream",
     "text": [
      "🚀 Training Random Forest on ('Zernike moments', 'GLCM', 'Edge2')...\n"
     ]
    },
    {
     "name": "stderr",
     "output_type": "stream",
     "text": [
      "Training models..: 100%|██████████| 3/3 [00:06<00:00,  2.07s/it]\n",
      "Choosing cominations of features..:  30%|███       | 30/99 [03:22<07:44,  6.73s/it]"
     ]
    },
    {
     "name": "stdout",
     "output_type": "stream",
     "text": [
      "🚀 Training K-Nearest Neighbors on ('Zernike moments', 'Edge', 'Edge2')...\n",
      "🚀 Training Support Vector Machine on ('Zernike moments', 'Edge', 'Edge2')...\n"
     ]
    },
    {
     "name": "stderr",
     "output_type": "stream",
     "text": []
    },
    {
     "name": "stdout",
     "output_type": "stream",
     "text": [
      "🚀 Training Random Forest on ('Zernike moments', 'Edge', 'Edge2')...\n"
     ]
    },
    {
     "name": "stderr",
     "output_type": "stream",
     "text": [
      "Training models..: 100%|██████████| 3/3 [00:05<00:00,  1.91s/it]\n",
      "Choosing cominations of features..:  31%|███▏      | 31/99 [03:27<07:17,  6.43s/it]"
     ]
    },
    {
     "name": "stdout",
     "output_type": "stream",
     "text": [
      "🚀 Training K-Nearest Neighbors on ('LBP', 'GLCM', 'Edge')...\n",
      "🚀 Training Support Vector Machine on ('LBP', 'GLCM', 'Edge')...\n"
     ]
    },
    {
     "name": "stderr",
     "output_type": "stream",
     "text": []
    },
    {
     "name": "stdout",
     "output_type": "stream",
     "text": [
      "🚀 Training Random Forest on ('LBP', 'GLCM', 'Edge')...\n"
     ]
    },
    {
     "name": "stderr",
     "output_type": "stream",
     "text": [
      "Training models..: 100%|██████████| 3/3 [00:05<00:00,  1.74s/it]\n",
      "Choosing cominations of features..:  32%|███▏      | 32/99 [03:33<06:46,  6.07s/it]"
     ]
    },
    {
     "name": "stdout",
     "output_type": "stream",
     "text": [
      "🚀 Training K-Nearest Neighbors on ('LBP', 'GLCM', 'Edge2')...\n",
      "🚀 Training Support Vector Machine on ('LBP', 'GLCM', 'Edge2')...\n"
     ]
    },
    {
     "name": "stderr",
     "output_type": "stream",
     "text": []
    },
    {
     "name": "stdout",
     "output_type": "stream",
     "text": [
      "🚀 Training Random Forest on ('LBP', 'GLCM', 'Edge2')...\n"
     ]
    },
    {
     "name": "stderr",
     "output_type": "stream",
     "text": [
      "Training models..: 100%|██████████| 3/3 [00:04<00:00,  1.64s/it]\n",
      "Choosing cominations of features..:  33%|███▎      | 33/99 [03:38<06:18,  5.73s/it]"
     ]
    },
    {
     "name": "stdout",
     "output_type": "stream",
     "text": [
      "🚀 Training K-Nearest Neighbors on ('LBP', 'Edge', 'Edge2')...\n",
      "🚀 Training Support Vector Machine on ('LBP', 'Edge', 'Edge2')...\n"
     ]
    },
    {
     "name": "stderr",
     "output_type": "stream",
     "text": []
    },
    {
     "name": "stdout",
     "output_type": "stream",
     "text": [
      "🚀 Training Random Forest on ('LBP', 'Edge', 'Edge2')...\n"
     ]
    },
    {
     "name": "stderr",
     "output_type": "stream",
     "text": [
      "Training models..: 100%|██████████| 3/3 [00:03<00:00,  1.30s/it]\n",
      "Choosing cominations of features..:  34%|███▍      | 34/99 [03:41<05:36,  5.18s/it]"
     ]
    },
    {
     "name": "stdout",
     "output_type": "stream",
     "text": [
      "🚀 Training K-Nearest Neighbors on ('GLCM', 'Edge', 'Edge2')...\n",
      "🚀 Training Support Vector Machine on ('GLCM', 'Edge', 'Edge2')...\n"
     ]
    },
    {
     "name": "stderr",
     "output_type": "stream",
     "text": []
    },
    {
     "name": "stdout",
     "output_type": "stream",
     "text": [
      "🚀 Training Random Forest on ('GLCM', 'Edge', 'Edge2')...\n"
     ]
    },
    {
     "name": "stderr",
     "output_type": "stream",
     "text": [
      "Training models..: 100%|██████████| 3/3 [00:04<00:00,  1.43s/it]\n",
      "Choosing cominations of features..:  35%|███▌      | 35/99 [03:46<05:14,  4.91s/it]"
     ]
    },
    {
     "name": "stdout",
     "output_type": "stream",
     "text": [
      "🚀 Training K-Nearest Neighbors on ('Basic', 'Enhanced Color', 'Zernike moments', 'LBP')...\n",
      "🚀 Training Support Vector Machine on ('Basic', 'Enhanced Color', 'Zernike moments', 'LBP')...\n"
     ]
    },
    {
     "name": "stderr",
     "output_type": "stream",
     "text": []
    },
    {
     "name": "stdout",
     "output_type": "stream",
     "text": [
      "🚀 Training Random Forest on ('Basic', 'Enhanced Color', 'Zernike moments', 'LBP')...\n"
     ]
    },
    {
     "name": "stderr",
     "output_type": "stream",
     "text": [
      "Training models..: 100%|██████████| 3/3 [00:09<00:00,  3.01s/it]\n",
      "Choosing cominations of features..:  36%|███▋      | 36/99 [03:55<06:27,  6.15s/it]"
     ]
    },
    {
     "name": "stdout",
     "output_type": "stream",
     "text": [
      "🚀 Training K-Nearest Neighbors on ('Basic', 'Enhanced Color', 'Zernike moments', 'GLCM')...\n",
      "🚀 Training Support Vector Machine on ('Basic', 'Enhanced Color', 'Zernike moments', 'GLCM')...\n"
     ]
    },
    {
     "name": "stderr",
     "output_type": "stream",
     "text": []
    },
    {
     "name": "stdout",
     "output_type": "stream",
     "text": [
      "🚀 Training Random Forest on ('Basic', 'Enhanced Color', 'Zernike moments', 'GLCM')...\n"
     ]
    },
    {
     "name": "stderr",
     "output_type": "stream",
     "text": [
      "Training models..: 100%|██████████| 3/3 [00:08<00:00,  2.89s/it]\n",
      "Choosing cominations of features..:  37%|███▋      | 37/99 [04:03<07:08,  6.91s/it]"
     ]
    },
    {
     "name": "stdout",
     "output_type": "stream",
     "text": [
      "🚀 Training K-Nearest Neighbors on ('Basic', 'Enhanced Color', 'Zernike moments', 'Edge')...\n",
      "🚀 Training Support Vector Machine on ('Basic', 'Enhanced Color', 'Zernike moments', 'Edge')...\n"
     ]
    },
    {
     "name": "stderr",
     "output_type": "stream",
     "text": []
    },
    {
     "name": "stdout",
     "output_type": "stream",
     "text": [
      "🚀 Training Random Forest on ('Basic', 'Enhanced Color', 'Zernike moments', 'Edge')...\n"
     ]
    },
    {
     "name": "stderr",
     "output_type": "stream",
     "text": [
      "Training models..: 100%|██████████| 3/3 [00:08<00:00,  2.89s/it]\n",
      "Choosing cominations of features..:  38%|███▊      | 38/99 [04:12<07:34,  7.45s/it]"
     ]
    },
    {
     "name": "stdout",
     "output_type": "stream",
     "text": [
      "🚀 Training K-Nearest Neighbors on ('Basic', 'Enhanced Color', 'Zernike moments', 'Edge2')...\n",
      "🚀 Training Support Vector Machine on ('Basic', 'Enhanced Color', 'Zernike moments', 'Edge2')...\n"
     ]
    },
    {
     "name": "stderr",
     "output_type": "stream",
     "text": []
    },
    {
     "name": "stdout",
     "output_type": "stream",
     "text": [
      "🚀 Training Random Forest on ('Basic', 'Enhanced Color', 'Zernike moments', 'Edge2')...\n"
     ]
    },
    {
     "name": "stderr",
     "output_type": "stream",
     "text": [
      "Training models..: 100%|██████████| 3/3 [00:08<00:00,  2.71s/it]\n",
      "Choosing cominations of features..:  39%|███▉      | 39/99 [04:20<07:39,  7.66s/it]"
     ]
    },
    {
     "name": "stdout",
     "output_type": "stream",
     "text": [
      "🚀 Training K-Nearest Neighbors on ('Basic', 'Enhanced Color', 'LBP', 'GLCM')...\n",
      "🚀 Training Support Vector Machine on ('Basic', 'Enhanced Color', 'LBP', 'GLCM')...\n"
     ]
    },
    {
     "name": "stderr",
     "output_type": "stream",
     "text": []
    },
    {
     "name": "stdout",
     "output_type": "stream",
     "text": [
      "🚀 Training Random Forest on ('Basic', 'Enhanced Color', 'LBP', 'GLCM')...\n"
     ]
    },
    {
     "name": "stderr",
     "output_type": "stream",
     "text": [
      "Training models..: 100%|██████████| 3/3 [00:07<00:00,  2.61s/it]\n",
      "Choosing cominations of features..:  40%|████      | 40/99 [04:28<07:34,  7.71s/it]"
     ]
    },
    {
     "name": "stdout",
     "output_type": "stream",
     "text": [
      "🚀 Training K-Nearest Neighbors on ('Basic', 'Enhanced Color', 'LBP', 'Edge')...\n",
      "🚀 Training Support Vector Machine on ('Basic', 'Enhanced Color', 'LBP', 'Edge')...\n"
     ]
    },
    {
     "name": "stderr",
     "output_type": "stream",
     "text": []
    },
    {
     "name": "stdout",
     "output_type": "stream",
     "text": [
      "🚀 Training Random Forest on ('Basic', 'Enhanced Color', 'LBP', 'Edge')...\n"
     ]
    },
    {
     "name": "stderr",
     "output_type": "stream",
     "text": [
      "Training models..: 100%|██████████| 3/3 [00:07<00:00,  2.65s/it]\n",
      "Choosing cominations of features..:  41%|████▏     | 41/99 [04:36<07:31,  7.78s/it]"
     ]
    },
    {
     "name": "stdout",
     "output_type": "stream",
     "text": [
      "🚀 Training K-Nearest Neighbors on ('Basic', 'Enhanced Color', 'LBP', 'Edge2')...\n",
      "🚀 Training Support Vector Machine on ('Basic', 'Enhanced Color', 'LBP', 'Edge2')...\n"
     ]
    },
    {
     "name": "stderr",
     "output_type": "stream",
     "text": []
    },
    {
     "name": "stdout",
     "output_type": "stream",
     "text": [
      "🚀 Training Random Forest on ('Basic', 'Enhanced Color', 'LBP', 'Edge2')...\n"
     ]
    },
    {
     "name": "stderr",
     "output_type": "stream",
     "text": [
      "Training models..: 100%|██████████| 3/3 [00:07<00:00,  2.55s/it]\n",
      "Choosing cominations of features..:  42%|████▏     | 42/99 [04:44<07:21,  7.75s/it]"
     ]
    },
    {
     "name": "stdout",
     "output_type": "stream",
     "text": [
      "🚀 Training K-Nearest Neighbors on ('Basic', 'Enhanced Color', 'GLCM', 'Edge')...\n",
      "🚀 Training Support Vector Machine on ('Basic', 'Enhanced Color', 'GLCM', 'Edge')...\n"
     ]
    },
    {
     "name": "stderr",
     "output_type": "stream",
     "text": []
    },
    {
     "name": "stdout",
     "output_type": "stream",
     "text": [
      "🚀 Training Random Forest on ('Basic', 'Enhanced Color', 'GLCM', 'Edge')...\n"
     ]
    },
    {
     "name": "stderr",
     "output_type": "stream",
     "text": [
      "Training models..: 100%|██████████| 3/3 [00:08<00:00,  2.69s/it]\n",
      "Choosing cominations of features..:  43%|████▎     | 43/99 [04:52<07:19,  7.85s/it]"
     ]
    },
    {
     "name": "stdout",
     "output_type": "stream",
     "text": [
      "🚀 Training K-Nearest Neighbors on ('Basic', 'Enhanced Color', 'GLCM', 'Edge2')...\n",
      "🚀 Training Support Vector Machine on ('Basic', 'Enhanced Color', 'GLCM', 'Edge2')...\n"
     ]
    },
    {
     "name": "stderr",
     "output_type": "stream",
     "text": []
    },
    {
     "name": "stdout",
     "output_type": "stream",
     "text": [
      "🚀 Training Random Forest on ('Basic', 'Enhanced Color', 'GLCM', 'Edge2')...\n"
     ]
    },
    {
     "name": "stderr",
     "output_type": "stream",
     "text": [
      "Training models..: 100%|██████████| 3/3 [00:07<00:00,  2.56s/it]\n",
      "Choosing cominations of features..:  44%|████▍     | 44/99 [05:00<07:08,  7.80s/it]"
     ]
    },
    {
     "name": "stdout",
     "output_type": "stream",
     "text": [
      "🚀 Training K-Nearest Neighbors on ('Basic', 'Enhanced Color', 'Edge', 'Edge2')...\n",
      "🚀 Training Support Vector Machine on ('Basic', 'Enhanced Color', 'Edge', 'Edge2')...\n"
     ]
    },
    {
     "name": "stderr",
     "output_type": "stream",
     "text": []
    },
    {
     "name": "stdout",
     "output_type": "stream",
     "text": [
      "🚀 Training Random Forest on ('Basic', 'Enhanced Color', 'Edge', 'Edge2')...\n"
     ]
    },
    {
     "name": "stderr",
     "output_type": "stream",
     "text": [
      "Training models..: 100%|██████████| 3/3 [00:06<00:00,  2.32s/it]\n",
      "Choosing cominations of features..:  45%|████▌     | 45/99 [05:06<06:47,  7.55s/it]"
     ]
    },
    {
     "name": "stdout",
     "output_type": "stream",
     "text": [
      "🚀 Training K-Nearest Neighbors on ('Basic', 'Zernike moments', 'LBP', 'GLCM')...\n",
      "🚀 Training Support Vector Machine on ('Basic', 'Zernike moments', 'LBP', 'GLCM')...\n"
     ]
    },
    {
     "name": "stderr",
     "output_type": "stream",
     "text": []
    },
    {
     "name": "stdout",
     "output_type": "stream",
     "text": [
      "🚀 Training Random Forest on ('Basic', 'Zernike moments', 'LBP', 'GLCM')...\n"
     ]
    },
    {
     "name": "stderr",
     "output_type": "stream",
     "text": [
      "Training models..: 100%|██████████| 3/3 [00:07<00:00,  2.33s/it]\n",
      "Choosing cominations of features..:  46%|████▋     | 46/99 [05:13<06:31,  7.39s/it]"
     ]
    },
    {
     "name": "stdout",
     "output_type": "stream",
     "text": [
      "🚀 Training K-Nearest Neighbors on ('Basic', 'Zernike moments', 'LBP', 'Edge')...\n",
      "🚀 Training Support Vector Machine on ('Basic', 'Zernike moments', 'LBP', 'Edge')...\n"
     ]
    },
    {
     "name": "stderr",
     "output_type": "stream",
     "text": []
    },
    {
     "name": "stdout",
     "output_type": "stream",
     "text": [
      "🚀 Training Random Forest on ('Basic', 'Zernike moments', 'LBP', 'Edge')...\n"
     ]
    },
    {
     "name": "stderr",
     "output_type": "stream",
     "text": [
      "Training models..: 100%|██████████| 3/3 [00:06<00:00,  2.15s/it]\n",
      "Choosing cominations of features..:  47%|████▋     | 47/99 [05:20<06:09,  7.11s/it]"
     ]
    },
    {
     "name": "stdout",
     "output_type": "stream",
     "text": [
      "🚀 Training K-Nearest Neighbors on ('Basic', 'Zernike moments', 'LBP', 'Edge2')...\n",
      "🚀 Training Support Vector Machine on ('Basic', 'Zernike moments', 'LBP', 'Edge2')...\n"
     ]
    },
    {
     "name": "stderr",
     "output_type": "stream",
     "text": []
    },
    {
     "name": "stdout",
     "output_type": "stream",
     "text": [
      "🚀 Training Random Forest on ('Basic', 'Zernike moments', 'LBP', 'Edge2')...\n"
     ]
    },
    {
     "name": "stderr",
     "output_type": "stream",
     "text": [
      "Training models..: 100%|██████████| 3/3 [00:06<00:00,  2.21s/it]\n",
      "Choosing cominations of features..:  48%|████▊     | 48/99 [05:27<05:55,  6.97s/it]"
     ]
    },
    {
     "name": "stdout",
     "output_type": "stream",
     "text": [
      "🚀 Training K-Nearest Neighbors on ('Basic', 'Zernike moments', 'GLCM', 'Edge')...\n",
      "🚀 Training Support Vector Machine on ('Basic', 'Zernike moments', 'GLCM', 'Edge')...\n"
     ]
    },
    {
     "name": "stderr",
     "output_type": "stream",
     "text": []
    },
    {
     "name": "stdout",
     "output_type": "stream",
     "text": [
      "🚀 Training Random Forest on ('Basic', 'Zernike moments', 'GLCM', 'Edge')...\n"
     ]
    },
    {
     "name": "stderr",
     "output_type": "stream",
     "text": [
      "Training models..: 100%|██████████| 3/3 [00:07<00:00,  2.41s/it]\n",
      "Choosing cominations of features..:  49%|████▉     | 49/99 [05:34<05:52,  7.05s/it]"
     ]
    },
    {
     "name": "stdout",
     "output_type": "stream",
     "text": [
      "🚀 Training K-Nearest Neighbors on ('Basic', 'Zernike moments', 'GLCM', 'Edge2')...\n",
      "🚀 Training Support Vector Machine on ('Basic', 'Zernike moments', 'GLCM', 'Edge2')...\n"
     ]
    },
    {
     "name": "stderr",
     "output_type": "stream",
     "text": []
    },
    {
     "name": "stdout",
     "output_type": "stream",
     "text": [
      "🚀 Training Random Forest on ('Basic', 'Zernike moments', 'GLCM', 'Edge2')...\n"
     ]
    },
    {
     "name": "stderr",
     "output_type": "stream",
     "text": [
      "Training models..: 100%|██████████| 3/3 [00:06<00:00,  2.14s/it]\n",
      "Choosing cominations of features..:  51%|█████     | 50/99 [05:40<05:36,  6.86s/it]"
     ]
    },
    {
     "name": "stdout",
     "output_type": "stream",
     "text": [
      "🚀 Training K-Nearest Neighbors on ('Basic', 'Zernike moments', 'Edge', 'Edge2')...\n",
      "🚀 Training Support Vector Machine on ('Basic', 'Zernike moments', 'Edge', 'Edge2')...\n"
     ]
    },
    {
     "name": "stderr",
     "output_type": "stream",
     "text": []
    },
    {
     "name": "stdout",
     "output_type": "stream",
     "text": [
      "🚀 Training Random Forest on ('Basic', 'Zernike moments', 'Edge', 'Edge2')...\n"
     ]
    },
    {
     "name": "stderr",
     "output_type": "stream",
     "text": [
      "Training models..: 100%|██████████| 3/3 [00:06<00:00,  2.18s/it]\n",
      "Choosing cominations of features..:  52%|█████▏    | 51/99 [05:47<05:24,  6.77s/it]"
     ]
    },
    {
     "name": "stdout",
     "output_type": "stream",
     "text": [
      "🚀 Training K-Nearest Neighbors on ('Basic', 'LBP', 'GLCM', 'Edge')...\n",
      "🚀 Training Support Vector Machine on ('Basic', 'LBP', 'GLCM', 'Edge')...\n"
     ]
    },
    {
     "name": "stderr",
     "output_type": "stream",
     "text": []
    },
    {
     "name": "stdout",
     "output_type": "stream",
     "text": [
      "🚀 Training Random Forest on ('Basic', 'LBP', 'GLCM', 'Edge')...\n"
     ]
    },
    {
     "name": "stderr",
     "output_type": "stream",
     "text": [
      "Training models..: 100%|██████████| 3/3 [00:06<00:00,  2.07s/it]\n",
      "Choosing cominations of features..:  53%|█████▎    | 52/99 [05:53<05:10,  6.60s/it]"
     ]
    },
    {
     "name": "stdout",
     "output_type": "stream",
     "text": [
      "🚀 Training K-Nearest Neighbors on ('Basic', 'LBP', 'GLCM', 'Edge2')...\n",
      "🚀 Training Support Vector Machine on ('Basic', 'LBP', 'GLCM', 'Edge2')...\n"
     ]
    },
    {
     "name": "stderr",
     "output_type": "stream",
     "text": []
    },
    {
     "name": "stdout",
     "output_type": "stream",
     "text": [
      "🚀 Training Random Forest on ('Basic', 'LBP', 'GLCM', 'Edge2')...\n"
     ]
    },
    {
     "name": "stderr",
     "output_type": "stream",
     "text": [
      "Training models..: 100%|██████████| 3/3 [00:05<00:00,  1.81s/it]\n",
      "Choosing cominations of features..:  54%|█████▎    | 53/99 [05:58<04:47,  6.25s/it]"
     ]
    },
    {
     "name": "stdout",
     "output_type": "stream",
     "text": [
      "🚀 Training K-Nearest Neighbors on ('Basic', 'LBP', 'Edge', 'Edge2')...\n",
      "🚀 Training Support Vector Machine on ('Basic', 'LBP', 'Edge', 'Edge2')...\n"
     ]
    },
    {
     "name": "stderr",
     "output_type": "stream",
     "text": []
    },
    {
     "name": "stdout",
     "output_type": "stream",
     "text": [
      "🚀 Training Random Forest on ('Basic', 'LBP', 'Edge', 'Edge2')...\n"
     ]
    },
    {
     "name": "stderr",
     "output_type": "stream",
     "text": [
      "Training models..: 100%|██████████| 3/3 [00:05<00:00,  1.83s/it]\n",
      "Choosing cominations of features..:  55%|█████▍    | 54/99 [06:04<04:30,  6.02s/it]"
     ]
    },
    {
     "name": "stdout",
     "output_type": "stream",
     "text": [
      "🚀 Training K-Nearest Neighbors on ('Basic', 'GLCM', 'Edge', 'Edge2')...\n",
      "🚀 Training Support Vector Machine on ('Basic', 'GLCM', 'Edge', 'Edge2')...\n"
     ]
    },
    {
     "name": "stderr",
     "output_type": "stream",
     "text": []
    },
    {
     "name": "stdout",
     "output_type": "stream",
     "text": [
      "🚀 Training Random Forest on ('Basic', 'GLCM', 'Edge', 'Edge2')...\n"
     ]
    },
    {
     "name": "stderr",
     "output_type": "stream",
     "text": [
      "Training models..: 100%|██████████| 3/3 [00:05<00:00,  1.84s/it]\n",
      "Choosing cominations of features..:  56%|█████▌    | 55/99 [06:09<04:18,  5.87s/it]"
     ]
    },
    {
     "name": "stdout",
     "output_type": "stream",
     "text": [
      "🚀 Training K-Nearest Neighbors on ('Enhanced Color', 'Zernike moments', 'LBP', 'GLCM')...\n",
      "🚀 Training Support Vector Machine on ('Enhanced Color', 'Zernike moments', 'LBP', 'GLCM')...\n"
     ]
    },
    {
     "name": "stderr",
     "output_type": "stream",
     "text": []
    },
    {
     "name": "stdout",
     "output_type": "stream",
     "text": [
      "🚀 Training Random Forest on ('Enhanced Color', 'Zernike moments', 'LBP', 'GLCM')...\n"
     ]
    },
    {
     "name": "stderr",
     "output_type": "stream",
     "text": [
      "Training models..: 100%|██████████| 3/3 [00:08<00:00,  2.98s/it]\n",
      "Choosing cominations of features..:  57%|█████▋    | 56/99 [06:18<04:52,  6.80s/it]"
     ]
    },
    {
     "name": "stdout",
     "output_type": "stream",
     "text": [
      "🚀 Training K-Nearest Neighbors on ('Enhanced Color', 'Zernike moments', 'LBP', 'Edge')...\n",
      "🚀 Training Support Vector Machine on ('Enhanced Color', 'Zernike moments', 'LBP', 'Edge')...\n"
     ]
    },
    {
     "name": "stderr",
     "output_type": "stream",
     "text": []
    },
    {
     "name": "stdout",
     "output_type": "stream",
     "text": [
      "🚀 Training Random Forest on ('Enhanced Color', 'Zernike moments', 'LBP', 'Edge')...\n"
     ]
    },
    {
     "name": "stderr",
     "output_type": "stream",
     "text": [
      "Training models..: 100%|██████████| 3/3 [00:08<00:00,  2.70s/it]\n",
      "Choosing cominations of features..:  58%|█████▊    | 57/99 [06:27<05:02,  7.19s/it]"
     ]
    },
    {
     "name": "stdout",
     "output_type": "stream",
     "text": [
      "🚀 Training K-Nearest Neighbors on ('Enhanced Color', 'Zernike moments', 'LBP', 'Edge2')...\n",
      "🚀 Training Support Vector Machine on ('Enhanced Color', 'Zernike moments', 'LBP', 'Edge2')...\n"
     ]
    },
    {
     "name": "stderr",
     "output_type": "stream",
     "text": []
    },
    {
     "name": "stdout",
     "output_type": "stream",
     "text": [
      "🚀 Training Random Forest on ('Enhanced Color', 'Zernike moments', 'LBP', 'Edge2')...\n"
     ]
    },
    {
     "name": "stderr",
     "output_type": "stream",
     "text": [
      "Training models..: 100%|██████████| 3/3 [00:07<00:00,  2.64s/it]\n",
      "Choosing cominations of features..:  59%|█████▊    | 58/99 [06:34<05:03,  7.41s/it]"
     ]
    },
    {
     "name": "stdout",
     "output_type": "stream",
     "text": [
      "🚀 Training K-Nearest Neighbors on ('Enhanced Color', 'Zernike moments', 'GLCM', 'Edge')...\n",
      "🚀 Training Support Vector Machine on ('Enhanced Color', 'Zernike moments', 'GLCM', 'Edge')...\n"
     ]
    },
    {
     "name": "stderr",
     "output_type": "stream",
     "text": []
    },
    {
     "name": "stdout",
     "output_type": "stream",
     "text": [
      "🚀 Training Random Forest on ('Enhanced Color', 'Zernike moments', 'GLCM', 'Edge')...\n"
     ]
    },
    {
     "name": "stderr",
     "output_type": "stream",
     "text": [
      "Training models..: 100%|██████████| 3/3 [00:07<00:00,  2.66s/it]\n",
      "Choosing cominations of features..:  60%|█████▉    | 59/99 [06:42<05:03,  7.58s/it]"
     ]
    },
    {
     "name": "stdout",
     "output_type": "stream",
     "text": [
      "🚀 Training K-Nearest Neighbors on ('Enhanced Color', 'Zernike moments', 'GLCM', 'Edge2')...\n",
      "🚀 Training Support Vector Machine on ('Enhanced Color', 'Zernike moments', 'GLCM', 'Edge2')...\n"
     ]
    },
    {
     "name": "stderr",
     "output_type": "stream",
     "text": []
    },
    {
     "name": "stdout",
     "output_type": "stream",
     "text": [
      "🚀 Training Random Forest on ('Enhanced Color', 'Zernike moments', 'GLCM', 'Edge2')...\n"
     ]
    },
    {
     "name": "stderr",
     "output_type": "stream",
     "text": [
      "Training models..: 100%|██████████| 3/3 [00:07<00:00,  2.62s/it]\n",
      "Choosing cominations of features..:  61%|██████    | 60/99 [06:50<04:59,  7.67s/it]"
     ]
    },
    {
     "name": "stdout",
     "output_type": "stream",
     "text": [
      "🚀 Training K-Nearest Neighbors on ('Enhanced Color', 'Zernike moments', 'Edge', 'Edge2')...\n",
      "🚀 Training Support Vector Machine on ('Enhanced Color', 'Zernike moments', 'Edge', 'Edge2')...\n"
     ]
    },
    {
     "name": "stderr",
     "output_type": "stream",
     "text": []
    },
    {
     "name": "stdout",
     "output_type": "stream",
     "text": [
      "🚀 Training Random Forest on ('Enhanced Color', 'Zernike moments', 'Edge', 'Edge2')...\n"
     ]
    },
    {
     "name": "stderr",
     "output_type": "stream",
     "text": [
      "Training models..: 100%|██████████| 3/3 [00:07<00:00,  2.65s/it]\n",
      "Choosing cominations of features..:  62%|██████▏   | 61/99 [06:58<04:54,  7.76s/it]"
     ]
    },
    {
     "name": "stdout",
     "output_type": "stream",
     "text": [
      "🚀 Training K-Nearest Neighbors on ('Enhanced Color', 'LBP', 'GLCM', 'Edge')...\n",
      "🚀 Training Support Vector Machine on ('Enhanced Color', 'LBP', 'GLCM', 'Edge')...\n"
     ]
    },
    {
     "name": "stderr",
     "output_type": "stream",
     "text": []
    },
    {
     "name": "stdout",
     "output_type": "stream",
     "text": [
      "🚀 Training Random Forest on ('Enhanced Color', 'LBP', 'GLCM', 'Edge')...\n"
     ]
    },
    {
     "name": "stderr",
     "output_type": "stream",
     "text": [
      "Training models..: 100%|██████████| 3/3 [00:07<00:00,  2.51s/it]\n",
      "Choosing cominations of features..:  63%|██████▎   | 62/99 [07:06<04:44,  7.69s/it]"
     ]
    },
    {
     "name": "stdout",
     "output_type": "stream",
     "text": [
      "🚀 Training K-Nearest Neighbors on ('Enhanced Color', 'LBP', 'GLCM', 'Edge2')...\n",
      "🚀 Training Support Vector Machine on ('Enhanced Color', 'LBP', 'GLCM', 'Edge2')...\n"
     ]
    },
    {
     "name": "stderr",
     "output_type": "stream",
     "text": []
    },
    {
     "name": "stdout",
     "output_type": "stream",
     "text": [
      "🚀 Training Random Forest on ('Enhanced Color', 'LBP', 'GLCM', 'Edge2')...\n"
     ]
    },
    {
     "name": "stderr",
     "output_type": "stream",
     "text": [
      "Training models..: 100%|██████████| 3/3 [00:07<00:00,  2.34s/it]\n",
      "Choosing cominations of features..:  64%|██████▎   | 63/99 [07:13<04:29,  7.50s/it]"
     ]
    },
    {
     "name": "stdout",
     "output_type": "stream",
     "text": [
      "🚀 Training K-Nearest Neighbors on ('Enhanced Color', 'LBP', 'Edge', 'Edge2')...\n",
      "🚀 Training Support Vector Machine on ('Enhanced Color', 'LBP', 'Edge', 'Edge2')...\n"
     ]
    },
    {
     "name": "stderr",
     "output_type": "stream",
     "text": []
    },
    {
     "name": "stdout",
     "output_type": "stream",
     "text": [
      "🚀 Training Random Forest on ('Enhanced Color', 'LBP', 'Edge', 'Edge2')...\n"
     ]
    },
    {
     "name": "stderr",
     "output_type": "stream",
     "text": [
      "Training models..: 100%|██████████| 3/3 [00:06<00:00,  2.23s/it]\n",
      "Choosing cominations of features..:  65%|██████▍   | 64/99 [07:20<04:14,  7.26s/it]"
     ]
    },
    {
     "name": "stdout",
     "output_type": "stream",
     "text": [
      "🚀 Training K-Nearest Neighbors on ('Enhanced Color', 'GLCM', 'Edge', 'Edge2')...\n",
      "🚀 Training Support Vector Machine on ('Enhanced Color', 'GLCM', 'Edge', 'Edge2')...\n"
     ]
    },
    {
     "name": "stderr",
     "output_type": "stream",
     "text": []
    },
    {
     "name": "stdout",
     "output_type": "stream",
     "text": [
      "🚀 Training Random Forest on ('Enhanced Color', 'GLCM', 'Edge', 'Edge2')...\n"
     ]
    },
    {
     "name": "stderr",
     "output_type": "stream",
     "text": [
      "Training models..: 100%|██████████| 3/3 [00:07<00:00,  2.35s/it]\n",
      "Choosing cominations of features..:  66%|██████▌   | 65/99 [07:27<04:04,  7.20s/it]"
     ]
    },
    {
     "name": "stdout",
     "output_type": "stream",
     "text": [
      "🚀 Training K-Nearest Neighbors on ('Zernike moments', 'LBP', 'GLCM', 'Edge')...\n",
      "🚀 Training Support Vector Machine on ('Zernike moments', 'LBP', 'GLCM', 'Edge')...\n"
     ]
    },
    {
     "name": "stderr",
     "output_type": "stream",
     "text": []
    },
    {
     "name": "stdout",
     "output_type": "stream",
     "text": [
      "🚀 Training Random Forest on ('Zernike moments', 'LBP', 'GLCM', 'Edge')...\n"
     ]
    },
    {
     "name": "stderr",
     "output_type": "stream",
     "text": [
      "Training models..: 100%|██████████| 3/3 [00:06<00:00,  2.14s/it]\n",
      "Choosing cominations of features..:  67%|██████▋   | 66/99 [07:33<03:49,  6.97s/it]"
     ]
    },
    {
     "name": "stdout",
     "output_type": "stream",
     "text": [
      "🚀 Training K-Nearest Neighbors on ('Zernike moments', 'LBP', 'GLCM', 'Edge2')...\n",
      "🚀 Training Support Vector Machine on ('Zernike moments', 'LBP', 'GLCM', 'Edge2')...\n"
     ]
    },
    {
     "name": "stderr",
     "output_type": "stream",
     "text": []
    },
    {
     "name": "stdout",
     "output_type": "stream",
     "text": [
      "🚀 Training Random Forest on ('Zernike moments', 'LBP', 'GLCM', 'Edge2')...\n"
     ]
    },
    {
     "name": "stderr",
     "output_type": "stream",
     "text": [
      "Training models..: 100%|██████████| 3/3 [00:06<00:00,  2.06s/it]\n",
      "Choosing cominations of features..:  68%|██████▊   | 67/99 [07:39<03:35,  6.74s/it]"
     ]
    },
    {
     "name": "stdout",
     "output_type": "stream",
     "text": [
      "🚀 Training K-Nearest Neighbors on ('Zernike moments', 'LBP', 'Edge', 'Edge2')...\n",
      "🚀 Training Support Vector Machine on ('Zernike moments', 'LBP', 'Edge', 'Edge2')...\n"
     ]
    },
    {
     "name": "stderr",
     "output_type": "stream",
     "text": []
    },
    {
     "name": "stdout",
     "output_type": "stream",
     "text": [
      "🚀 Training Random Forest on ('Zernike moments', 'LBP', 'Edge', 'Edge2')...\n"
     ]
    },
    {
     "name": "stderr",
     "output_type": "stream",
     "text": [
      "Training models..: 100%|██████████| 3/3 [00:05<00:00,  1.98s/it]\n",
      "Choosing cominations of features..:  69%|██████▊   | 68/99 [07:45<03:21,  6.50s/it]"
     ]
    },
    {
     "name": "stdout",
     "output_type": "stream",
     "text": [
      "🚀 Training K-Nearest Neighbors on ('Zernike moments', 'GLCM', 'Edge', 'Edge2')...\n",
      "🚀 Training Support Vector Machine on ('Zernike moments', 'GLCM', 'Edge', 'Edge2')...\n"
     ]
    },
    {
     "name": "stderr",
     "output_type": "stream",
     "text": []
    },
    {
     "name": "stdout",
     "output_type": "stream",
     "text": [
      "🚀 Training Random Forest on ('Zernike moments', 'GLCM', 'Edge', 'Edge2')...\n"
     ]
    },
    {
     "name": "stderr",
     "output_type": "stream",
     "text": [
      "Training models..: 100%|██████████| 3/3 [00:05<00:00,  1.93s/it]\n",
      "Choosing cominations of features..:  70%|██████▉   | 69/99 [07:51<03:08,  6.29s/it]"
     ]
    },
    {
     "name": "stdout",
     "output_type": "stream",
     "text": [
      "🚀 Training K-Nearest Neighbors on ('LBP', 'GLCM', 'Edge', 'Edge2')...\n",
      "🚀 Training Support Vector Machine on ('LBP', 'GLCM', 'Edge', 'Edge2')...\n"
     ]
    },
    {
     "name": "stderr",
     "output_type": "stream",
     "text": []
    },
    {
     "name": "stdout",
     "output_type": "stream",
     "text": [
      "🚀 Training Random Forest on ('LBP', 'GLCM', 'Edge', 'Edge2')...\n"
     ]
    },
    {
     "name": "stderr",
     "output_type": "stream",
     "text": [
      "Training models..: 100%|██████████| 3/3 [00:04<00:00,  1.65s/it]\n",
      "Choosing cominations of features..:  71%|███████   | 70/99 [07:56<02:50,  5.89s/it]"
     ]
    },
    {
     "name": "stdout",
     "output_type": "stream",
     "text": [
      "🚀 Training K-Nearest Neighbors on ('Basic', 'Enhanced Color', 'Zernike moments', 'LBP', 'GLCM')...\n",
      "🚀 Training Support Vector Machine on ('Basic', 'Enhanced Color', 'Zernike moments', 'LBP', 'GLCM')...\n"
     ]
    },
    {
     "name": "stderr",
     "output_type": "stream",
     "text": []
    },
    {
     "name": "stdout",
     "output_type": "stream",
     "text": [
      "🚀 Training Random Forest on ('Basic', 'Enhanced Color', 'Zernike moments', 'LBP', 'GLCM')...\n"
     ]
    },
    {
     "name": "stderr",
     "output_type": "stream",
     "text": [
      "Training models..: 100%|██████████| 3/3 [00:09<00:00,  3.10s/it]\n",
      "Choosing cominations of features..:  72%|███████▏  | 71/99 [08:05<03:13,  6.91s/it]"
     ]
    },
    {
     "name": "stdout",
     "output_type": "stream",
     "text": [
      "🚀 Training K-Nearest Neighbors on ('Basic', 'Enhanced Color', 'Zernike moments', 'LBP', 'Edge')...\n",
      "🚀 Training Support Vector Machine on ('Basic', 'Enhanced Color', 'Zernike moments', 'LBP', 'Edge')...\n"
     ]
    },
    {
     "name": "stderr",
     "output_type": "stream",
     "text": []
    },
    {
     "name": "stdout",
     "output_type": "stream",
     "text": [
      "🚀 Training Random Forest on ('Basic', 'Enhanced Color', 'Zernike moments', 'LBP', 'Edge')...\n"
     ]
    },
    {
     "name": "stderr",
     "output_type": "stream",
     "text": [
      "Training models..: 100%|██████████| 3/3 [00:08<00:00,  2.85s/it]\n",
      "Choosing cominations of features..:  73%|███████▎  | 72/99 [08:14<03:19,  7.40s/it]"
     ]
    },
    {
     "name": "stdout",
     "output_type": "stream",
     "text": [
      "🚀 Training K-Nearest Neighbors on ('Basic', 'Enhanced Color', 'Zernike moments', 'LBP', 'Edge2')...\n",
      "🚀 Training Support Vector Machine on ('Basic', 'Enhanced Color', 'Zernike moments', 'LBP', 'Edge2')...\n"
     ]
    },
    {
     "name": "stderr",
     "output_type": "stream",
     "text": []
    },
    {
     "name": "stdout",
     "output_type": "stream",
     "text": [
      "🚀 Training Random Forest on ('Basic', 'Enhanced Color', 'Zernike moments', 'LBP', 'Edge2')...\n"
     ]
    },
    {
     "name": "stderr",
     "output_type": "stream",
     "text": [
      "Training models..: 100%|██████████| 3/3 [00:08<00:00,  2.85s/it]\n",
      "Choosing cominations of features..:  74%|███████▎  | 73/99 [08:22<03:21,  7.75s/it]"
     ]
    },
    {
     "name": "stdout",
     "output_type": "stream",
     "text": [
      "🚀 Training K-Nearest Neighbors on ('Basic', 'Enhanced Color', 'Zernike moments', 'GLCM', 'Edge')...\n",
      "🚀 Training Support Vector Machine on ('Basic', 'Enhanced Color', 'Zernike moments', 'GLCM', 'Edge')...\n"
     ]
    },
    {
     "name": "stderr",
     "output_type": "stream",
     "text": []
    },
    {
     "name": "stdout",
     "output_type": "stream",
     "text": [
      "🚀 Training Random Forest on ('Basic', 'Enhanced Color', 'Zernike moments', 'GLCM', 'Edge')...\n"
     ]
    },
    {
     "name": "stderr",
     "output_type": "stream",
     "text": [
      "Training models..: 100%|██████████| 3/3 [00:10<00:00,  3.51s/it]\n",
      "Choosing cominations of features..:  75%|███████▍  | 74/99 [08:33<03:34,  8.59s/it]"
     ]
    },
    {
     "name": "stdout",
     "output_type": "stream",
     "text": [
      "🚀 Training K-Nearest Neighbors on ('Basic', 'Enhanced Color', 'Zernike moments', 'GLCM', 'Edge2')...\n",
      "🚀 Training Support Vector Machine on ('Basic', 'Enhanced Color', 'Zernike moments', 'GLCM', 'Edge2')...\n"
     ]
    },
    {
     "name": "stderr",
     "output_type": "stream",
     "text": []
    },
    {
     "name": "stdout",
     "output_type": "stream",
     "text": [
      "🚀 Training Random Forest on ('Basic', 'Enhanced Color', 'Zernike moments', 'GLCM', 'Edge2')...\n"
     ]
    },
    {
     "name": "stderr",
     "output_type": "stream",
     "text": [
      "Training models..: 100%|██████████| 3/3 [00:12<00:00,  4.10s/it]\n",
      "Choosing cominations of features..:  76%|███████▌  | 75/99 [08:45<03:52,  9.71s/it]"
     ]
    },
    {
     "name": "stdout",
     "output_type": "stream",
     "text": [
      "🚀 Training K-Nearest Neighbors on ('Basic', 'Enhanced Color', 'Zernike moments', 'Edge', 'Edge2')...\n",
      "🚀 Training Support Vector Machine on ('Basic', 'Enhanced Color', 'Zernike moments', 'Edge', 'Edge2')...\n"
     ]
    },
    {
     "name": "stderr",
     "output_type": "stream",
     "text": []
    },
    {
     "name": "stdout",
     "output_type": "stream",
     "text": [
      "🚀 Training Random Forest on ('Basic', 'Enhanced Color', 'Zernike moments', 'Edge', 'Edge2')...\n"
     ]
    },
    {
     "name": "stderr",
     "output_type": "stream",
     "text": [
      "Training models..: 100%|██████████| 3/3 [00:13<00:00,  4.41s/it]\n",
      "Choosing cominations of features..:  77%|███████▋  | 76/99 [08:58<04:07, 10.77s/it]"
     ]
    },
    {
     "name": "stdout",
     "output_type": "stream",
     "text": [
      "🚀 Training K-Nearest Neighbors on ('Basic', 'Enhanced Color', 'LBP', 'GLCM', 'Edge')...\n",
      "🚀 Training Support Vector Machine on ('Basic', 'Enhanced Color', 'LBP', 'GLCM', 'Edge')...\n"
     ]
    },
    {
     "name": "stderr",
     "output_type": "stream",
     "text": []
    },
    {
     "name": "stdout",
     "output_type": "stream",
     "text": [
      "🚀 Training Random Forest on ('Basic', 'Enhanced Color', 'LBP', 'GLCM', 'Edge')...\n"
     ]
    },
    {
     "name": "stderr",
     "output_type": "stream",
     "text": [
      "Training models..: 100%|██████████| 3/3 [00:13<00:00,  4.33s/it]\n",
      "Choosing cominations of features..:  78%|███████▊  | 77/99 [09:11<04:11, 11.45s/it]"
     ]
    },
    {
     "name": "stdout",
     "output_type": "stream",
     "text": [
      "🚀 Training K-Nearest Neighbors on ('Basic', 'Enhanced Color', 'LBP', 'GLCM', 'Edge2')...\n",
      "🚀 Training Support Vector Machine on ('Basic', 'Enhanced Color', 'LBP', 'GLCM', 'Edge2')...\n"
     ]
    },
    {
     "name": "stderr",
     "output_type": "stream",
     "text": []
    },
    {
     "name": "stdout",
     "output_type": "stream",
     "text": [
      "🚀 Training Random Forest on ('Basic', 'Enhanced Color', 'LBP', 'GLCM', 'Edge2')...\n"
     ]
    },
    {
     "name": "stderr",
     "output_type": "stream",
     "text": [
      "Training models..: 100%|██████████| 3/3 [00:09<00:00,  3.32s/it]\n",
      "Choosing cominations of features..:  79%|███████▉  | 78/99 [09:21<03:51, 11.01s/it]"
     ]
    },
    {
     "name": "stdout",
     "output_type": "stream",
     "text": [
      "🚀 Training K-Nearest Neighbors on ('Basic', 'Enhanced Color', 'LBP', 'Edge', 'Edge2')...\n",
      "🚀 Training Support Vector Machine on ('Basic', 'Enhanced Color', 'LBP', 'Edge', 'Edge2')...\n"
     ]
    },
    {
     "name": "stderr",
     "output_type": "stream",
     "text": []
    },
    {
     "name": "stdout",
     "output_type": "stream",
     "text": [
      "🚀 Training Random Forest on ('Basic', 'Enhanced Color', 'LBP', 'Edge', 'Edge2')...\n"
     ]
    },
    {
     "name": "stderr",
     "output_type": "stream",
     "text": [
      "Training models..: 100%|██████████| 3/3 [00:09<00:00,  3.27s/it]\n",
      "Choosing cominations of features..:  80%|███████▉  | 79/99 [09:31<03:33, 10.66s/it]"
     ]
    },
    {
     "name": "stdout",
     "output_type": "stream",
     "text": [
      "🚀 Training K-Nearest Neighbors on ('Basic', 'Enhanced Color', 'GLCM', 'Edge', 'Edge2')...\n",
      "🚀 Training Support Vector Machine on ('Basic', 'Enhanced Color', 'GLCM', 'Edge', 'Edge2')...\n"
     ]
    },
    {
     "name": "stderr",
     "output_type": "stream",
     "text": []
    },
    {
     "name": "stdout",
     "output_type": "stream",
     "text": [
      "🚀 Training Random Forest on ('Basic', 'Enhanced Color', 'GLCM', 'Edge', 'Edge2')...\n"
     ]
    },
    {
     "name": "stderr",
     "output_type": "stream",
     "text": [
      "Training models..: 100%|██████████| 3/3 [00:09<00:00,  3.30s/it]\n",
      "Choosing cominations of features..:  81%|████████  | 80/99 [09:41<03:18, 10.44s/it]"
     ]
    },
    {
     "name": "stdout",
     "output_type": "stream",
     "text": [
      "🚀 Training K-Nearest Neighbors on ('Basic', 'Zernike moments', 'LBP', 'GLCM', 'Edge')...\n",
      "🚀 Training Support Vector Machine on ('Basic', 'Zernike moments', 'LBP', 'GLCM', 'Edge')...\n"
     ]
    },
    {
     "name": "stderr",
     "output_type": "stream",
     "text": []
    },
    {
     "name": "stdout",
     "output_type": "stream",
     "text": [
      "🚀 Training Random Forest on ('Basic', 'Zernike moments', 'LBP', 'GLCM', 'Edge')...\n"
     ]
    },
    {
     "name": "stderr",
     "output_type": "stream",
     "text": [
      "Training models..: 100%|██████████| 3/3 [00:07<00:00,  2.51s/it]\n",
      "Choosing cominations of features..:  82%|████████▏ | 81/99 [09:49<02:52,  9.57s/it]"
     ]
    },
    {
     "name": "stdout",
     "output_type": "stream",
     "text": [
      "🚀 Training K-Nearest Neighbors on ('Basic', 'Zernike moments', 'LBP', 'GLCM', 'Edge2')...\n",
      "🚀 Training Support Vector Machine on ('Basic', 'Zernike moments', 'LBP', 'GLCM', 'Edge2')...\n"
     ]
    },
    {
     "name": "stderr",
     "output_type": "stream",
     "text": []
    },
    {
     "name": "stdout",
     "output_type": "stream",
     "text": [
      "🚀 Training Random Forest on ('Basic', 'Zernike moments', 'LBP', 'GLCM', 'Edge2')...\n"
     ]
    },
    {
     "name": "stderr",
     "output_type": "stream",
     "text": [
      "Training models..: 100%|██████████| 3/3 [00:07<00:00,  2.40s/it]\n",
      "Choosing cominations of features..:  83%|████████▎ | 82/99 [09:56<02:30,  8.86s/it]"
     ]
    },
    {
     "name": "stdout",
     "output_type": "stream",
     "text": [
      "🚀 Training K-Nearest Neighbors on ('Basic', 'Zernike moments', 'LBP', 'Edge', 'Edge2')...\n",
      "🚀 Training Support Vector Machine on ('Basic', 'Zernike moments', 'LBP', 'Edge', 'Edge2')...\n"
     ]
    },
    {
     "name": "stderr",
     "output_type": "stream",
     "text": []
    },
    {
     "name": "stdout",
     "output_type": "stream",
     "text": [
      "🚀 Training Random Forest on ('Basic', 'Zernike moments', 'LBP', 'Edge', 'Edge2')...\n"
     ]
    },
    {
     "name": "stderr",
     "output_type": "stream",
     "text": [
      "Training models..: 100%|██████████| 3/3 [00:06<00:00,  2.22s/it]\n",
      "Choosing cominations of features..:  84%|████████▍ | 83/99 [10:03<02:11,  8.21s/it]"
     ]
    },
    {
     "name": "stdout",
     "output_type": "stream",
     "text": [
      "🚀 Training K-Nearest Neighbors on ('Basic', 'Zernike moments', 'GLCM', 'Edge', 'Edge2')...\n",
      "🚀 Training Support Vector Machine on ('Basic', 'Zernike moments', 'GLCM', 'Edge', 'Edge2')...\n"
     ]
    },
    {
     "name": "stderr",
     "output_type": "stream",
     "text": []
    },
    {
     "name": "stdout",
     "output_type": "stream",
     "text": [
      "🚀 Training Random Forest on ('Basic', 'Zernike moments', 'GLCM', 'Edge', 'Edge2')...\n"
     ]
    },
    {
     "name": "stderr",
     "output_type": "stream",
     "text": [
      "Training models..: 100%|██████████| 3/3 [00:07<00:00,  2.41s/it]\n",
      "Choosing cominations of features..:  85%|████████▍ | 84/99 [10:10<01:58,  7.92s/it]"
     ]
    },
    {
     "name": "stdout",
     "output_type": "stream",
     "text": [
      "🚀 Training K-Nearest Neighbors on ('Basic', 'LBP', 'GLCM', 'Edge', 'Edge2')...\n",
      "🚀 Training Support Vector Machine on ('Basic', 'LBP', 'GLCM', 'Edge', 'Edge2')...\n"
     ]
    },
    {
     "name": "stderr",
     "output_type": "stream",
     "text": []
    },
    {
     "name": "stdout",
     "output_type": "stream",
     "text": [
      "🚀 Training Random Forest on ('Basic', 'LBP', 'GLCM', 'Edge', 'Edge2')...\n"
     ]
    },
    {
     "name": "stderr",
     "output_type": "stream",
     "text": [
      "Training models..: 100%|██████████| 3/3 [00:06<00:00,  2.13s/it]\n",
      "Choosing cominations of features..:  86%|████████▌ | 85/99 [10:16<01:44,  7.47s/it]"
     ]
    },
    {
     "name": "stdout",
     "output_type": "stream",
     "text": [
      "🚀 Training K-Nearest Neighbors on ('Enhanced Color', 'Zernike moments', 'LBP', 'GLCM', 'Edge')...\n",
      "🚀 Training Support Vector Machine on ('Enhanced Color', 'Zernike moments', 'LBP', 'GLCM', 'Edge')...\n"
     ]
    },
    {
     "name": "stderr",
     "output_type": "stream",
     "text": []
    },
    {
     "name": "stdout",
     "output_type": "stream",
     "text": [
      "🚀 Training Random Forest on ('Enhanced Color', 'Zernike moments', 'LBP', 'GLCM', 'Edge')...\n"
     ]
    },
    {
     "name": "stderr",
     "output_type": "stream",
     "text": [
      "Training models..: 100%|██████████| 3/3 [00:09<00:00,  3.12s/it]\n",
      "Choosing cominations of features..:  87%|████████▋ | 86/99 [10:26<01:44,  8.04s/it]"
     ]
    },
    {
     "name": "stdout",
     "output_type": "stream",
     "text": [
      "🚀 Training K-Nearest Neighbors on ('Enhanced Color', 'Zernike moments', 'LBP', 'GLCM', 'Edge2')...\n",
      "🚀 Training Support Vector Machine on ('Enhanced Color', 'Zernike moments', 'LBP', 'GLCM', 'Edge2')...\n"
     ]
    },
    {
     "name": "stderr",
     "output_type": "stream",
     "text": []
    },
    {
     "name": "stdout",
     "output_type": "stream",
     "text": [
      "🚀 Training Random Forest on ('Enhanced Color', 'Zernike moments', 'LBP', 'GLCM', 'Edge2')...\n"
     ]
    },
    {
     "name": "stderr",
     "output_type": "stream",
     "text": [
      "Training models..: 100%|██████████| 3/3 [00:08<00:00,  2.87s/it]\n",
      "Choosing cominations of features..:  88%|████████▊ | 87/99 [10:34<01:38,  8.21s/it]"
     ]
    },
    {
     "name": "stdout",
     "output_type": "stream",
     "text": [
      "🚀 Training K-Nearest Neighbors on ('Enhanced Color', 'Zernike moments', 'LBP', 'Edge', 'Edge2')...\n",
      "🚀 Training Support Vector Machine on ('Enhanced Color', 'Zernike moments', 'LBP', 'Edge', 'Edge2')...\n"
     ]
    },
    {
     "name": "stderr",
     "output_type": "stream",
     "text": []
    },
    {
     "name": "stdout",
     "output_type": "stream",
     "text": [
      "🚀 Training Random Forest on ('Enhanced Color', 'Zernike moments', 'LBP', 'Edge', 'Edge2')...\n"
     ]
    },
    {
     "name": "stderr",
     "output_type": "stream",
     "text": [
      "Training models..: 100%|██████████| 3/3 [00:07<00:00,  2.61s/it]\n",
      "Choosing cominations of features..:  89%|████████▉ | 88/99 [10:42<01:29,  8.10s/it]"
     ]
    },
    {
     "name": "stdout",
     "output_type": "stream",
     "text": [
      "🚀 Training K-Nearest Neighbors on ('Enhanced Color', 'Zernike moments', 'GLCM', 'Edge', 'Edge2')...\n",
      "🚀 Training Support Vector Machine on ('Enhanced Color', 'Zernike moments', 'GLCM', 'Edge', 'Edge2')...\n"
     ]
    },
    {
     "name": "stderr",
     "output_type": "stream",
     "text": []
    },
    {
     "name": "stdout",
     "output_type": "stream",
     "text": [
      "🚀 Training Random Forest on ('Enhanced Color', 'Zernike moments', 'GLCM', 'Edge', 'Edge2')...\n"
     ]
    },
    {
     "name": "stderr",
     "output_type": "stream",
     "text": [
      "Training models..: 100%|██████████| 3/3 [00:08<00:00,  2.70s/it]\n",
      "Choosing cominations of features..:  90%|████████▉ | 89/99 [10:50<01:20,  8.10s/it]"
     ]
    },
    {
     "name": "stdout",
     "output_type": "stream",
     "text": [
      "🚀 Training K-Nearest Neighbors on ('Enhanced Color', 'LBP', 'GLCM', 'Edge', 'Edge2')...\n",
      "🚀 Training Support Vector Machine on ('Enhanced Color', 'LBP', 'GLCM', 'Edge', 'Edge2')...\n"
     ]
    },
    {
     "name": "stderr",
     "output_type": "stream",
     "text": []
    },
    {
     "name": "stdout",
     "output_type": "stream",
     "text": [
      "🚀 Training Random Forest on ('Enhanced Color', 'LBP', 'GLCM', 'Edge', 'Edge2')...\n"
     ]
    },
    {
     "name": "stderr",
     "output_type": "stream",
     "text": [
      "Training models..: 100%|██████████| 3/3 [00:07<00:00,  2.55s/it]\n",
      "Choosing cominations of features..:  91%|█████████ | 90/99 [10:58<01:11,  7.96s/it]"
     ]
    },
    {
     "name": "stdout",
     "output_type": "stream",
     "text": [
      "🚀 Training K-Nearest Neighbors on ('Zernike moments', 'LBP', 'GLCM', 'Edge', 'Edge2')...\n",
      "🚀 Training Support Vector Machine on ('Zernike moments', 'LBP', 'GLCM', 'Edge', 'Edge2')...\n"
     ]
    },
    {
     "name": "stderr",
     "output_type": "stream",
     "text": []
    },
    {
     "name": "stdout",
     "output_type": "stream",
     "text": [
      "🚀 Training Random Forest on ('Zernike moments', 'LBP', 'GLCM', 'Edge', 'Edge2')...\n"
     ]
    },
    {
     "name": "stderr",
     "output_type": "stream",
     "text": [
      "Training models..: 100%|██████████| 3/3 [00:06<00:00,  2.12s/it]\n",
      "Choosing cominations of features..:  92%|█████████▏| 91/99 [11:04<00:59,  7.48s/it]"
     ]
    },
    {
     "name": "stdout",
     "output_type": "stream",
     "text": [
      "🚀 Training K-Nearest Neighbors on ('Basic', 'Enhanced Color', 'Zernike moments', 'LBP', 'GLCM', 'Edge')...\n",
      "🚀 Training Support Vector Machine on ('Basic', 'Enhanced Color', 'Zernike moments', 'LBP', 'GLCM', 'Edge')...\n"
     ]
    },
    {
     "name": "stderr",
     "output_type": "stream",
     "text": []
    },
    {
     "name": "stdout",
     "output_type": "stream",
     "text": [
      "🚀 Training Random Forest on ('Basic', 'Enhanced Color', 'Zernike moments', 'LBP', 'GLCM', 'Edge')...\n"
     ]
    },
    {
     "name": "stderr",
     "output_type": "stream",
     "text": [
      "Training models..: 100%|██████████| 3/3 [00:09<00:00,  3.08s/it]\n",
      "Choosing cominations of features..:  93%|█████████▎| 92/99 [11:13<00:56,  8.01s/it]"
     ]
    },
    {
     "name": "stdout",
     "output_type": "stream",
     "text": [
      "🚀 Training K-Nearest Neighbors on ('Basic', 'Enhanced Color', 'Zernike moments', 'LBP', 'GLCM', 'Edge2')...\n",
      "🚀 Training Support Vector Machine on ('Basic', 'Enhanced Color', 'Zernike moments', 'LBP', 'GLCM', 'Edge2')...\n"
     ]
    },
    {
     "name": "stderr",
     "output_type": "stream",
     "text": []
    },
    {
     "name": "stdout",
     "output_type": "stream",
     "text": [
      "🚀 Training Random Forest on ('Basic', 'Enhanced Color', 'Zernike moments', 'LBP', 'GLCM', 'Edge2')...\n"
     ]
    },
    {
     "name": "stderr",
     "output_type": "stream",
     "text": [
      "Training models..: 100%|██████████| 3/3 [00:09<00:00,  3.13s/it]\n",
      "Choosing cominations of features..:  94%|█████████▍| 93/99 [11:23<00:50,  8.43s/it]"
     ]
    },
    {
     "name": "stdout",
     "output_type": "stream",
     "text": [
      "🚀 Training K-Nearest Neighbors on ('Basic', 'Enhanced Color', 'Zernike moments', 'LBP', 'Edge', 'Edge2')...\n",
      "🚀 Training Support Vector Machine on ('Basic', 'Enhanced Color', 'Zernike moments', 'LBP', 'Edge', 'Edge2')...\n"
     ]
    },
    {
     "name": "stderr",
     "output_type": "stream",
     "text": []
    },
    {
     "name": "stdout",
     "output_type": "stream",
     "text": [
      "🚀 Training Random Forest on ('Basic', 'Enhanced Color', 'Zernike moments', 'LBP', 'Edge', 'Edge2')...\n"
     ]
    },
    {
     "name": "stderr",
     "output_type": "stream",
     "text": [
      "Training models..: 100%|██████████| 3/3 [00:08<00:00,  2.86s/it]\n",
      "Choosing cominations of features..:  95%|█████████▍| 94/99 [11:31<00:42,  8.48s/it]"
     ]
    },
    {
     "name": "stdout",
     "output_type": "stream",
     "text": [
      "🚀 Training K-Nearest Neighbors on ('Basic', 'Enhanced Color', 'Zernike moments', 'GLCM', 'Edge', 'Edge2')...\n",
      "🚀 Training Support Vector Machine on ('Basic', 'Enhanced Color', 'Zernike moments', 'GLCM', 'Edge', 'Edge2')...\n"
     ]
    },
    {
     "name": "stderr",
     "output_type": "stream",
     "text": []
    },
    {
     "name": "stdout",
     "output_type": "stream",
     "text": [
      "🚀 Training Random Forest on ('Basic', 'Enhanced Color', 'Zernike moments', 'GLCM', 'Edge', 'Edge2')...\n"
     ]
    },
    {
     "name": "stderr",
     "output_type": "stream",
     "text": [
      "Training models..: 100%|██████████| 3/3 [00:08<00:00,  2.88s/it]\n",
      "Choosing cominations of features..:  96%|█████████▌| 95/99 [11:40<00:34,  8.53s/it]"
     ]
    },
    {
     "name": "stdout",
     "output_type": "stream",
     "text": [
      "🚀 Training K-Nearest Neighbors on ('Basic', 'Enhanced Color', 'LBP', 'GLCM', 'Edge', 'Edge2')...\n",
      "🚀 Training Support Vector Machine on ('Basic', 'Enhanced Color', 'LBP', 'GLCM', 'Edge', 'Edge2')...\n"
     ]
    },
    {
     "name": "stderr",
     "output_type": "stream",
     "text": []
    },
    {
     "name": "stdout",
     "output_type": "stream",
     "text": [
      "🚀 Training Random Forest on ('Basic', 'Enhanced Color', 'LBP', 'GLCM', 'Edge', 'Edge2')...\n"
     ]
    },
    {
     "name": "stderr",
     "output_type": "stream",
     "text": [
      "Training models..: 100%|██████████| 3/3 [00:08<00:00,  2.84s/it]\n",
      "Choosing cominations of features..:  97%|█████████▋| 96/99 [11:49<00:25,  8.53s/it]"
     ]
    },
    {
     "name": "stdout",
     "output_type": "stream",
     "text": [
      "🚀 Training K-Nearest Neighbors on ('Basic', 'Zernike moments', 'LBP', 'GLCM', 'Edge', 'Edge2')...\n",
      "🚀 Training Support Vector Machine on ('Basic', 'Zernike moments', 'LBP', 'GLCM', 'Edge', 'Edge2')...\n"
     ]
    },
    {
     "name": "stderr",
     "output_type": "stream",
     "text": []
    },
    {
     "name": "stdout",
     "output_type": "stream",
     "text": [
      "🚀 Training Random Forest on ('Basic', 'Zernike moments', 'LBP', 'GLCM', 'Edge', 'Edge2')...\n"
     ]
    },
    {
     "name": "stderr",
     "output_type": "stream",
     "text": [
      "Training models..: 100%|██████████| 3/3 [00:07<00:00,  2.46s/it]\n",
      "Choosing cominations of features..:  98%|█████████▊| 97/99 [11:56<00:16,  8.19s/it]"
     ]
    },
    {
     "name": "stdout",
     "output_type": "stream",
     "text": [
      "🚀 Training K-Nearest Neighbors on ('Enhanced Color', 'Zernike moments', 'LBP', 'GLCM', 'Edge', 'Edge2')...\n",
      "🚀 Training Support Vector Machine on ('Enhanced Color', 'Zernike moments', 'LBP', 'GLCM', 'Edge', 'Edge2')...\n"
     ]
    },
    {
     "name": "stderr",
     "output_type": "stream",
     "text": []
    },
    {
     "name": "stdout",
     "output_type": "stream",
     "text": [
      "🚀 Training Random Forest on ('Enhanced Color', 'Zernike moments', 'LBP', 'GLCM', 'Edge', 'Edge2')...\n"
     ]
    },
    {
     "name": "stderr",
     "output_type": "stream",
     "text": [
      "Training models..: 100%|██████████| 3/3 [00:09<00:00,  3.12s/it]\n",
      "Choosing cominations of features..:  99%|█████████▉| 98/99 [12:05<00:08,  8.54s/it]"
     ]
    },
    {
     "name": "stdout",
     "output_type": "stream",
     "text": [
      "🚀 Training K-Nearest Neighbors on ('Basic', 'Enhanced Color', 'Zernike moments', 'LBP', 'GLCM', 'Edge', 'Edge2')...\n",
      "🚀 Training Support Vector Machine on ('Basic', 'Enhanced Color', 'Zernike moments', 'LBP', 'GLCM', 'Edge', 'Edge2')...\n"
     ]
    },
    {
     "name": "stderr",
     "output_type": "stream",
     "text": []
    },
    {
     "name": "stdout",
     "output_type": "stream",
     "text": [
      "🚀 Training Random Forest on ('Basic', 'Enhanced Color', 'Zernike moments', 'LBP', 'GLCM', 'Edge', 'Edge2')...\n"
     ]
    },
    {
     "name": "stderr",
     "output_type": "stream",
     "text": [
      "Training models..: 100%|██████████| 3/3 [00:09<00:00,  3.22s/it]\n",
      "Choosing cominations of features..: 100%|██████████| 99/99 [12:15<00:00,  7.43s/it]\n"
     ]
    }
   ],
   "source": [
    "df=pd.read_csv(f'/home/duyle/Rice_photos/features_extracted/moments/all_with_zernike_pluscolor_enhanced_edge_edge2_TBR-45.csv')\n",
    "\n",
    "\n",
    "# Ensure 'Label' column is included\n",
    "for feature_combo in tqdm.tqdm(feature_combinations,'Choosing cominations of features..'):\n",
    "    selected_features = []\n",
    "    \n",
    "    # Combine selected feature groups\n",
    "    for group in feature_combo:\n",
    "        selected_features.extend(feature_groups[group])\n",
    "\n",
    "    df_selected = df[selected_features + [\"Label\"]]\n",
    "    X = df_selected.drop(columns=['Label'])\n",
    "    y = df_selected['Label']\n",
    "\n",
    "    # Normalize the features\n",
    "    scaler = StandardScaler()\n",
    "    X_scaled = scaler.fit_transform(X)\n",
    "\n",
    "    X_train, X_test, y_train, y_test = train_test_split(X_scaled, y, test_size=0.33, random_state=42, stratify=y)\n",
    "\n",
    "\n",
    "\n",
    "    for name, model in tqdm.tqdm(models.items(), 'Training models..'):\n",
    "        print(f\"🚀 Training {name} on {feature_combo}...\")\n",
    "        model.fit(X_train, y_train)\n",
    "        y_pred = model.predict(X_test)\n",
    "\n",
    "        accuracy = accuracy_score(y_test, y_pred)\n",
    "        precision = precision_score(y_test, y_pred, average='weighted')\n",
    "        recall = recall_score(y_test, y_pred, average='weighted')\n",
    "        f1 = f1_score(y_test, y_pred, average='weighted')\n",
    "        cv_scores = cross_val_score(model, X_train, y_train, cv=5, scoring='accuracy')\n",
    "\n",
    "        all_results.append({\n",
    "            \"Model\": name,\n",
    "            \"Dataset\": selected_features,\n",
    "            \"Feature Combination\": \"+\".join(feature_combo),\n",
    "            \"Accuracy\": round(accuracy, 4),\n",
    "            \"Precision\": round(precision,4),\n",
    "            \"Recall\": round(recall,4),\n",
    "            \"F1 Score\": round(f1,4),\n",
    "            \"CV_scores(5fold)\": round(np.mean(cv_scores),4)\n",
    "        })\n",
    "        \n",
    "        # print(f\"🔍 Tuning hyperparameters for {name}...\")\n",
    "\n",
    "        # random_search = RandomizedSearchCV(\n",
    "        #     model,\n",
    "        #     param_distributions[name],  # Get corresponding param grid\n",
    "        #     n_iter=20,  # Number of parameter settings sampled\n",
    "        #     scoring='accuracy',\n",
    "        #     cv=5,  # 5-fold cross-validation\n",
    "        #     verbose=1,\n",
    "        #     random_state=42,\n",
    "        #     # n_jobs=-1  # Use all available CPUs\n",
    "        # )\n",
    "\n",
    "        # random_search.fit(X_train, y_train)  # Perform search\n",
    "\n",
    "        # # Get the best model from the search\n",
    "        # best_model = random_search.best_estimator_\n",
    "        # best_params = random_search.best_params_\n",
    "\n",
    "        # # Make predictions using the best model\n",
    "        # y_pred = best_model.predict(X_test)\n",
    "\n",
    "        # # Compute evaluation metrics\n",
    "        # accuracy = accuracy_score(y_test, y_pred)\n",
    "        # precision = precision_score(y_test, y_pred, average='weighted')\n",
    "        # recall = recall_score(y_test, y_pred, average='weighted')\n",
    "        # f1 = f1_score(y_test, y_pred, average='weighted')\n",
    "        # cv_scores = cross_val_score(best_model, X_train, y_train, cv=5, scoring='accuracy')\n",
    "\n",
    "        # # Save results\n",
    "        # all_results.append({\n",
    "        #     \"Model\": name,\n",
    "        #     \"Best Params\": best_params,\n",
    "        #     \"COMBINATION\": feature_combo,\n",
    "        #     \"Accuracy\": accuracy,\n",
    "        #     \"Precision\": precision,\n",
    "        #     \"Recall\": recall,\n",
    "        #     \"F1 Score\": f1,\n",
    "        #     \"CV_scores(5fold)\": np.mean(cv_scores)\n",
    "        # })\n",
    "\n",
    "\n"
   ]
  },
  {
   "cell_type": "code",
   "execution_count": 109,
   "metadata": {},
   "outputs": [
    {
     "data": {
      "application/vnd.microsoft.datawrangler.viewer.v0+json": {
       "columns": [
        {
         "name": "index",
         "rawType": "int64",
         "type": "integer"
        },
        {
         "name": "Model",
         "rawType": "object",
         "type": "string"
        },
        {
         "name": "Dataset",
         "rawType": "object",
         "type": "unknown"
        },
        {
         "name": "Feature Combination",
         "rawType": "object",
         "type": "string"
        },
        {
         "name": "Accuracy",
         "rawType": "float64",
         "type": "float"
        },
        {
         "name": "Precision",
         "rawType": "float64",
         "type": "float"
        },
        {
         "name": "Recall",
         "rawType": "float64",
         "type": "float"
        },
        {
         "name": "F1 Score",
         "rawType": "float64",
         "type": "float"
        },
        {
         "name": "CV_scores(5fold)",
         "rawType": "float64",
         "type": "float"
        }
       ],
       "conversionMethod": "pd.DataFrame",
       "ref": "d2c89feb-86b2-4bfe-9a3c-b8f07d53ab69",
       "rows": [
        [
         "0",
         "K-Nearest Neighbors",
         "['area', 'length', 'width', 'ratio', 'major_axis_length', 'minor_axis_length', 'convex_hull_area', 'convex_hull_perimeter', 'mean_r', 'mean_g', 'mean_b', 'std_r', 'std_g', 'std_b', 'red_sqr', 'green_sqr', 'blue_sqr', 'texture_mean', 'texture_std', 'texture_uniformity', 'texture_third_moment', 'mean_h', 'mean_s', 'mean_v', 'std_h', 'std_s', 'std_v', 'hue_sqr', 'sat_sqr', 'val_sqr', 'mean_y', 'mean_cr', 'mean_cb', 'std_y', 'std_cr', 'std_cb', 'y_sqr', 'cr_sqr', 'cb_sqr', 'mean_l', 'mean_a', 'mean_b', 'std_l', 'std_a', 'std_b_lab', 'l_sqr', 'a_sqr', 'b_lab_sqr', 'skew_r', 'skew_g', 'skew_b', 'skew_h', 'skew_s', 'skew_v', 'skew_y', 'skew_cr', 'skew_cb', 'skew_l', 'skew_a', 'skew_b_lab', 'kurtosis_r', 'kurtosis_g', 'kurtosis_b', 'kurtosis_h', 'kurtosis_s', 'kurtosis_v', 'kurtosis_y', 'kurtosis_cr', 'kurtosis_cb', 'kurtosis_l', 'kurtosis_a', 'kurtosis_b_lab', 'zernike_0', 'zernike_1', 'zernike_2', 'zernike_3', 'zernike_4', 'zernike_5', 'zernike_6', 'zernike_7', 'zernike_8', 'zernike_9', 'zernike_10', 'zernike_11', 'zernike_12', 'zernike_13', 'zernike_14', 'zernike_15', 'zernike_16', 'zernike_17', 'zernike_18', 'zernike_19', 'zernike_20', 'zernike_21', 'zernike_22', 'zernike_23', 'zernike_24']",
         "Basic+Enhanced Color+Zernike moments",
         "0.8225",
         "0.8415",
         "0.8225",
         "0.8206",
         "0.8058"
        ],
        [
         "1",
         "Support Vector Machine",
         "['area', 'length', 'width', 'ratio', 'major_axis_length', 'minor_axis_length', 'convex_hull_area', 'convex_hull_perimeter', 'mean_r', 'mean_g', 'mean_b', 'std_r', 'std_g', 'std_b', 'red_sqr', 'green_sqr', 'blue_sqr', 'texture_mean', 'texture_std', 'texture_uniformity', 'texture_third_moment', 'mean_h', 'mean_s', 'mean_v', 'std_h', 'std_s', 'std_v', 'hue_sqr', 'sat_sqr', 'val_sqr', 'mean_y', 'mean_cr', 'mean_cb', 'std_y', 'std_cr', 'std_cb', 'y_sqr', 'cr_sqr', 'cb_sqr', 'mean_l', 'mean_a', 'mean_b', 'std_l', 'std_a', 'std_b_lab', 'l_sqr', 'a_sqr', 'b_lab_sqr', 'skew_r', 'skew_g', 'skew_b', 'skew_h', 'skew_s', 'skew_v', 'skew_y', 'skew_cr', 'skew_cb', 'skew_l', 'skew_a', 'skew_b_lab', 'kurtosis_r', 'kurtosis_g', 'kurtosis_b', 'kurtosis_h', 'kurtosis_s', 'kurtosis_v', 'kurtosis_y', 'kurtosis_cr', 'kurtosis_cb', 'kurtosis_l', 'kurtosis_a', 'kurtosis_b_lab', 'zernike_0', 'zernike_1', 'zernike_2', 'zernike_3', 'zernike_4', 'zernike_5', 'zernike_6', 'zernike_7', 'zernike_8', 'zernike_9', 'zernike_10', 'zernike_11', 'zernike_12', 'zernike_13', 'zernike_14', 'zernike_15', 'zernike_16', 'zernike_17', 'zernike_18', 'zernike_19', 'zernike_20', 'zernike_21', 'zernike_22', 'zernike_23', 'zernike_24']",
         "Basic+Enhanced Color+Zernike moments",
         "0.899",
         "0.8993",
         "0.899",
         "0.899",
         "0.8863"
        ],
        [
         "2",
         "Random Forest",
         "['area', 'length', 'width', 'ratio', 'major_axis_length', 'minor_axis_length', 'convex_hull_area', 'convex_hull_perimeter', 'mean_r', 'mean_g', 'mean_b', 'std_r', 'std_g', 'std_b', 'red_sqr', 'green_sqr', 'blue_sqr', 'texture_mean', 'texture_std', 'texture_uniformity', 'texture_third_moment', 'mean_h', 'mean_s', 'mean_v', 'std_h', 'std_s', 'std_v', 'hue_sqr', 'sat_sqr', 'val_sqr', 'mean_y', 'mean_cr', 'mean_cb', 'std_y', 'std_cr', 'std_cb', 'y_sqr', 'cr_sqr', 'cb_sqr', 'mean_l', 'mean_a', 'mean_b', 'std_l', 'std_a', 'std_b_lab', 'l_sqr', 'a_sqr', 'b_lab_sqr', 'skew_r', 'skew_g', 'skew_b', 'skew_h', 'skew_s', 'skew_v', 'skew_y', 'skew_cr', 'skew_cb', 'skew_l', 'skew_a', 'skew_b_lab', 'kurtosis_r', 'kurtosis_g', 'kurtosis_b', 'kurtosis_h', 'kurtosis_s', 'kurtosis_v', 'kurtosis_y', 'kurtosis_cr', 'kurtosis_cb', 'kurtosis_l', 'kurtosis_a', 'kurtosis_b_lab', 'zernike_0', 'zernike_1', 'zernike_2', 'zernike_3', 'zernike_4', 'zernike_5', 'zernike_6', 'zernike_7', 'zernike_8', 'zernike_9', 'zernike_10', 'zernike_11', 'zernike_12', 'zernike_13', 'zernike_14', 'zernike_15', 'zernike_16', 'zernike_17', 'zernike_18', 'zernike_19', 'zernike_20', 'zernike_21', 'zernike_22', 'zernike_23', 'zernike_24']",
         "Basic+Enhanced Color+Zernike moments",
         "0.8666",
         "0.8666",
         "0.8666",
         "0.8666",
         "0.8703"
        ],
        [
         "3",
         "K-Nearest Neighbors",
         "['area', 'length', 'width', 'ratio', 'major_axis_length', 'minor_axis_length', 'convex_hull_area', 'convex_hull_perimeter', 'mean_r', 'mean_g', 'mean_b', 'std_r', 'std_g', 'std_b', 'red_sqr', 'green_sqr', 'blue_sqr', 'texture_mean', 'texture_std', 'texture_uniformity', 'texture_third_moment', 'mean_h', 'mean_s', 'mean_v', 'std_h', 'std_s', 'std_v', 'hue_sqr', 'sat_sqr', 'val_sqr', 'mean_y', 'mean_cr', 'mean_cb', 'std_y', 'std_cr', 'std_cb', 'y_sqr', 'cr_sqr', 'cb_sqr', 'mean_l', 'mean_a', 'mean_b', 'std_l', 'std_a', 'std_b_lab', 'l_sqr', 'a_sqr', 'b_lab_sqr', 'skew_r', 'skew_g', 'skew_b', 'skew_h', 'skew_s', 'skew_v', 'skew_y', 'skew_cr', 'skew_cb', 'skew_l', 'skew_a', 'skew_b_lab', 'kurtosis_r', 'kurtosis_g', 'kurtosis_b', 'kurtosis_h', 'kurtosis_s', 'kurtosis_v', 'kurtosis_y', 'kurtosis_cr', 'kurtosis_cb', 'kurtosis_l', 'kurtosis_a', 'kurtosis_b_lab', 'LBP_0', 'LBP_1', 'LBP_2', 'LBP_3', 'LBP_4', 'LBP_5', 'LBP_6', 'LBP_7', 'LBP_8', 'LBP_9']",
         "Basic+Enhanced Color+LBP",
         "0.8031",
         "0.8269",
         "0.8031",
         "0.8002",
         "0.8"
        ],
        [
         "4",
         "Support Vector Machine",
         "['area', 'length', 'width', 'ratio', 'major_axis_length', 'minor_axis_length', 'convex_hull_area', 'convex_hull_perimeter', 'mean_r', 'mean_g', 'mean_b', 'std_r', 'std_g', 'std_b', 'red_sqr', 'green_sqr', 'blue_sqr', 'texture_mean', 'texture_std', 'texture_uniformity', 'texture_third_moment', 'mean_h', 'mean_s', 'mean_v', 'std_h', 'std_s', 'std_v', 'hue_sqr', 'sat_sqr', 'val_sqr', 'mean_y', 'mean_cr', 'mean_cb', 'std_y', 'std_cr', 'std_cb', 'y_sqr', 'cr_sqr', 'cb_sqr', 'mean_l', 'mean_a', 'mean_b', 'std_l', 'std_a', 'std_b_lab', 'l_sqr', 'a_sqr', 'b_lab_sqr', 'skew_r', 'skew_g', 'skew_b', 'skew_h', 'skew_s', 'skew_v', 'skew_y', 'skew_cr', 'skew_cb', 'skew_l', 'skew_a', 'skew_b_lab', 'kurtosis_r', 'kurtosis_g', 'kurtosis_b', 'kurtosis_h', 'kurtosis_s', 'kurtosis_v', 'kurtosis_y', 'kurtosis_cr', 'kurtosis_cb', 'kurtosis_l', 'kurtosis_a', 'kurtosis_b_lab', 'LBP_0', 'LBP_1', 'LBP_2', 'LBP_3', 'LBP_4', 'LBP_5', 'LBP_6', 'LBP_7', 'LBP_8', 'LBP_9']",
         "Basic+Enhanced Color+LBP",
         "0.8938",
         "0.8938",
         "0.8938",
         "0.8938",
         "0.876"
        ],
        [
         "5",
         "Random Forest",
         "['area', 'length', 'width', 'ratio', 'major_axis_length', 'minor_axis_length', 'convex_hull_area', 'convex_hull_perimeter', 'mean_r', 'mean_g', 'mean_b', 'std_r', 'std_g', 'std_b', 'red_sqr', 'green_sqr', 'blue_sqr', 'texture_mean', 'texture_std', 'texture_uniformity', 'texture_third_moment', 'mean_h', 'mean_s', 'mean_v', 'std_h', 'std_s', 'std_v', 'hue_sqr', 'sat_sqr', 'val_sqr', 'mean_y', 'mean_cr', 'mean_cb', 'std_y', 'std_cr', 'std_cb', 'y_sqr', 'cr_sqr', 'cb_sqr', 'mean_l', 'mean_a', 'mean_b', 'std_l', 'std_a', 'std_b_lab', 'l_sqr', 'a_sqr', 'b_lab_sqr', 'skew_r', 'skew_g', 'skew_b', 'skew_h', 'skew_s', 'skew_v', 'skew_y', 'skew_cr', 'skew_cb', 'skew_l', 'skew_a', 'skew_b_lab', 'kurtosis_r', 'kurtosis_g', 'kurtosis_b', 'kurtosis_h', 'kurtosis_s', 'kurtosis_v', 'kurtosis_y', 'kurtosis_cr', 'kurtosis_cb', 'kurtosis_l', 'kurtosis_a', 'kurtosis_b_lab', 'LBP_0', 'LBP_1', 'LBP_2', 'LBP_3', 'LBP_4', 'LBP_5', 'LBP_6', 'LBP_7', 'LBP_8', 'LBP_9']",
         "Basic+Enhanced Color+LBP",
         "0.8601",
         "0.8601",
         "0.8601",
         "0.8601",
         "0.8735"
        ],
        [
         "6",
         "K-Nearest Neighbors",
         "['area', 'length', 'width', 'ratio', 'major_axis_length', 'minor_axis_length', 'convex_hull_area', 'convex_hull_perimeter', 'mean_r', 'mean_g', 'mean_b', 'std_r', 'std_g', 'std_b', 'red_sqr', 'green_sqr', 'blue_sqr', 'texture_mean', 'texture_std', 'texture_uniformity', 'texture_third_moment', 'mean_h', 'mean_s', 'mean_v', 'std_h', 'std_s', 'std_v', 'hue_sqr', 'sat_sqr', 'val_sqr', 'mean_y', 'mean_cr', 'mean_cb', 'std_y', 'std_cr', 'std_cb', 'y_sqr', 'cr_sqr', 'cb_sqr', 'mean_l', 'mean_a', 'mean_b', 'std_l', 'std_a', 'std_b_lab', 'l_sqr', 'a_sqr', 'b_lab_sqr', 'skew_r', 'skew_g', 'skew_b', 'skew_h', 'skew_s', 'skew_v', 'skew_y', 'skew_cr', 'skew_cb', 'skew_l', 'skew_a', 'skew_b_lab', 'kurtosis_r', 'kurtosis_g', 'kurtosis_b', 'kurtosis_h', 'kurtosis_s', 'kurtosis_v', 'kurtosis_y', 'kurtosis_cr', 'kurtosis_cb', 'kurtosis_l', 'kurtosis_a', 'kurtosis_b_lab', 'GLCM_0', 'GLCM_1', 'GLCM_2', 'GLCM_3', 'GLCM_4', 'GLCM_5', 'GLCM_6', 'GLCM_7', 'GLCM_8', 'GLCM_9', 'GLCM_10', 'GLCM_11', 'GLCM_12', 'GLCM_13', 'GLCM_14', 'GLCM_15']",
         "Basic+Enhanced Color+GLCM",
         "0.7992",
         "0.8195",
         "0.7992",
         "0.7967",
         "0.8102"
        ],
        [
         "7",
         "Support Vector Machine",
         "['area', 'length', 'width', 'ratio', 'major_axis_length', 'minor_axis_length', 'convex_hull_area', 'convex_hull_perimeter', 'mean_r', 'mean_g', 'mean_b', 'std_r', 'std_g', 'std_b', 'red_sqr', 'green_sqr', 'blue_sqr', 'texture_mean', 'texture_std', 'texture_uniformity', 'texture_third_moment', 'mean_h', 'mean_s', 'mean_v', 'std_h', 'std_s', 'std_v', 'hue_sqr', 'sat_sqr', 'val_sqr', 'mean_y', 'mean_cr', 'mean_cb', 'std_y', 'std_cr', 'std_cb', 'y_sqr', 'cr_sqr', 'cb_sqr', 'mean_l', 'mean_a', 'mean_b', 'std_l', 'std_a', 'std_b_lab', 'l_sqr', 'a_sqr', 'b_lab_sqr', 'skew_r', 'skew_g', 'skew_b', 'skew_h', 'skew_s', 'skew_v', 'skew_y', 'skew_cr', 'skew_cb', 'skew_l', 'skew_a', 'skew_b_lab', 'kurtosis_r', 'kurtosis_g', 'kurtosis_b', 'kurtosis_h', 'kurtosis_s', 'kurtosis_v', 'kurtosis_y', 'kurtosis_cr', 'kurtosis_cb', 'kurtosis_l', 'kurtosis_a', 'kurtosis_b_lab', 'GLCM_0', 'GLCM_1', 'GLCM_2', 'GLCM_3', 'GLCM_4', 'GLCM_5', 'GLCM_6', 'GLCM_7', 'GLCM_8', 'GLCM_9', 'GLCM_10', 'GLCM_11', 'GLCM_12', 'GLCM_13', 'GLCM_14', 'GLCM_15']",
         "Basic+Enhanced Color+GLCM",
         "0.8977",
         "0.8982",
         "0.8977",
         "0.8977",
         "0.8914"
        ],
        [
         "8",
         "Random Forest",
         "['area', 'length', 'width', 'ratio', 'major_axis_length', 'minor_axis_length', 'convex_hull_area', 'convex_hull_perimeter', 'mean_r', 'mean_g', 'mean_b', 'std_r', 'std_g', 'std_b', 'red_sqr', 'green_sqr', 'blue_sqr', 'texture_mean', 'texture_std', 'texture_uniformity', 'texture_third_moment', 'mean_h', 'mean_s', 'mean_v', 'std_h', 'std_s', 'std_v', 'hue_sqr', 'sat_sqr', 'val_sqr', 'mean_y', 'mean_cr', 'mean_cb', 'std_y', 'std_cr', 'std_cb', 'y_sqr', 'cr_sqr', 'cb_sqr', 'mean_l', 'mean_a', 'mean_b', 'std_l', 'std_a', 'std_b_lab', 'l_sqr', 'a_sqr', 'b_lab_sqr', 'skew_r', 'skew_g', 'skew_b', 'skew_h', 'skew_s', 'skew_v', 'skew_y', 'skew_cr', 'skew_cb', 'skew_l', 'skew_a', 'skew_b_lab', 'kurtosis_r', 'kurtosis_g', 'kurtosis_b', 'kurtosis_h', 'kurtosis_s', 'kurtosis_v', 'kurtosis_y', 'kurtosis_cr', 'kurtosis_cb', 'kurtosis_l', 'kurtosis_a', 'kurtosis_b_lab', 'GLCM_0', 'GLCM_1', 'GLCM_2', 'GLCM_3', 'GLCM_4', 'GLCM_5', 'GLCM_6', 'GLCM_7', 'GLCM_8', 'GLCM_9', 'GLCM_10', 'GLCM_11', 'GLCM_12', 'GLCM_13', 'GLCM_14', 'GLCM_15']",
         "Basic+Enhanced Color+GLCM",
         "0.8705",
         "0.8708",
         "0.8705",
         "0.8705",
         "0.8684"
        ],
        [
         "9",
         "K-Nearest Neighbors",
         "['area', 'length', 'width', 'ratio', 'major_axis_length', 'minor_axis_length', 'convex_hull_area', 'convex_hull_perimeter', 'mean_r', 'mean_g', 'mean_b', 'std_r', 'std_g', 'std_b', 'red_sqr', 'green_sqr', 'blue_sqr', 'texture_mean', 'texture_std', 'texture_uniformity', 'texture_third_moment', 'mean_h', 'mean_s', 'mean_v', 'std_h', 'std_s', 'std_v', 'hue_sqr', 'sat_sqr', 'val_sqr', 'mean_y', 'mean_cr', 'mean_cb', 'std_y', 'std_cr', 'std_cb', 'y_sqr', 'cr_sqr', 'cb_sqr', 'mean_l', 'mean_a', 'mean_b', 'std_l', 'std_a', 'std_b_lab', 'l_sqr', 'a_sqr', 'b_lab_sqr', 'skew_r', 'skew_g', 'skew_b', 'skew_h', 'skew_s', 'skew_v', 'skew_y', 'skew_cr', 'skew_cb', 'skew_l', 'skew_a', 'skew_b_lab', 'kurtosis_r', 'kurtosis_g', 'kurtosis_b', 'kurtosis_h', 'kurtosis_s', 'kurtosis_v', 'kurtosis_y', 'kurtosis_cr', 'kurtosis_cb', 'kurtosis_l', 'kurtosis_a', 'kurtosis_b_lab', 'edge_energy_vertical', 'edge_energy_horizontal', 'edge_energy_diag_45', 'edge_energy_diag_135', 'edge_energy_non_directional']",
         "Basic+Enhanced Color+Edge",
         "0.8225",
         "0.8423",
         "0.8225",
         "0.8205",
         "0.8115"
        ],
        [
         "10",
         "Support Vector Machine",
         "['area', 'length', 'width', 'ratio', 'major_axis_length', 'minor_axis_length', 'convex_hull_area', 'convex_hull_perimeter', 'mean_r', 'mean_g', 'mean_b', 'std_r', 'std_g', 'std_b', 'red_sqr', 'green_sqr', 'blue_sqr', 'texture_mean', 'texture_std', 'texture_uniformity', 'texture_third_moment', 'mean_h', 'mean_s', 'mean_v', 'std_h', 'std_s', 'std_v', 'hue_sqr', 'sat_sqr', 'val_sqr', 'mean_y', 'mean_cr', 'mean_cb', 'std_y', 'std_cr', 'std_cb', 'y_sqr', 'cr_sqr', 'cb_sqr', 'mean_l', 'mean_a', 'mean_b', 'std_l', 'std_a', 'std_b_lab', 'l_sqr', 'a_sqr', 'b_lab_sqr', 'skew_r', 'skew_g', 'skew_b', 'skew_h', 'skew_s', 'skew_v', 'skew_y', 'skew_cr', 'skew_cb', 'skew_l', 'skew_a', 'skew_b_lab', 'kurtosis_r', 'kurtosis_g', 'kurtosis_b', 'kurtosis_h', 'kurtosis_s', 'kurtosis_v', 'kurtosis_y', 'kurtosis_cr', 'kurtosis_cb', 'kurtosis_l', 'kurtosis_a', 'kurtosis_b_lab', 'edge_energy_vertical', 'edge_energy_horizontal', 'edge_energy_diag_45', 'edge_energy_diag_135', 'edge_energy_non_directional']",
         "Basic+Enhanced Color+Edge",
         "0.8873",
         "0.8877",
         "0.8873",
         "0.8873",
         "0.8907"
        ],
        [
         "11",
         "Random Forest",
         "['area', 'length', 'width', 'ratio', 'major_axis_length', 'minor_axis_length', 'convex_hull_area', 'convex_hull_perimeter', 'mean_r', 'mean_g', 'mean_b', 'std_r', 'std_g', 'std_b', 'red_sqr', 'green_sqr', 'blue_sqr', 'texture_mean', 'texture_std', 'texture_uniformity', 'texture_third_moment', 'mean_h', 'mean_s', 'mean_v', 'std_h', 'std_s', 'std_v', 'hue_sqr', 'sat_sqr', 'val_sqr', 'mean_y', 'mean_cr', 'mean_cb', 'std_y', 'std_cr', 'std_cb', 'y_sqr', 'cr_sqr', 'cb_sqr', 'mean_l', 'mean_a', 'mean_b', 'std_l', 'std_a', 'std_b_lab', 'l_sqr', 'a_sqr', 'b_lab_sqr', 'skew_r', 'skew_g', 'skew_b', 'skew_h', 'skew_s', 'skew_v', 'skew_y', 'skew_cr', 'skew_cb', 'skew_l', 'skew_a', 'skew_b_lab', 'kurtosis_r', 'kurtosis_g', 'kurtosis_b', 'kurtosis_h', 'kurtosis_s', 'kurtosis_v', 'kurtosis_y', 'kurtosis_cr', 'kurtosis_cb', 'kurtosis_l', 'kurtosis_a', 'kurtosis_b_lab', 'edge_energy_vertical', 'edge_energy_horizontal', 'edge_energy_diag_45', 'edge_energy_diag_135', 'edge_energy_non_directional']",
         "Basic+Enhanced Color+Edge",
         "0.8705",
         "0.8706",
         "0.8705",
         "0.8705",
         "0.8684"
        ],
        [
         "12",
         "K-Nearest Neighbors",
         "['area', 'length', 'width', 'ratio', 'major_axis_length', 'minor_axis_length', 'convex_hull_area', 'convex_hull_perimeter', 'mean_r', 'mean_g', 'mean_b', 'std_r', 'std_g', 'std_b', 'red_sqr', 'green_sqr', 'blue_sqr', 'texture_mean', 'texture_std', 'texture_uniformity', 'texture_third_moment', 'mean_h', 'mean_s', 'mean_v', 'std_h', 'std_s', 'std_v', 'hue_sqr', 'sat_sqr', 'val_sqr', 'mean_y', 'mean_cr', 'mean_cb', 'std_y', 'std_cr', 'std_cb', 'y_sqr', 'cr_sqr', 'cb_sqr', 'mean_l', 'mean_a', 'mean_b', 'std_l', 'std_a', 'std_b_lab', 'l_sqr', 'a_sqr', 'b_lab_sqr', 'skew_r', 'skew_g', 'skew_b', 'skew_h', 'skew_s', 'skew_v', 'skew_y', 'skew_cr', 'skew_cb', 'skew_l', 'skew_a', 'skew_b_lab', 'kurtosis_r', 'kurtosis_g', 'kurtosis_b', 'kurtosis_h', 'kurtosis_s', 'kurtosis_v', 'kurtosis_y', 'kurtosis_cr', 'kurtosis_cb', 'kurtosis_l', 'kurtosis_a', 'kurtosis_b_lab']",
         "Basic+Enhanced Color+Edge2",
         "0.8199",
         "0.8379",
         "0.8199",
         "0.8181",
         "0.8045"
        ],
        [
         "13",
         "Support Vector Machine",
         "['area', 'length', 'width', 'ratio', 'major_axis_length', 'minor_axis_length', 'convex_hull_area', 'convex_hull_perimeter', 'mean_r', 'mean_g', 'mean_b', 'std_r', 'std_g', 'std_b', 'red_sqr', 'green_sqr', 'blue_sqr', 'texture_mean', 'texture_std', 'texture_uniformity', 'texture_third_moment', 'mean_h', 'mean_s', 'mean_v', 'std_h', 'std_s', 'std_v', 'hue_sqr', 'sat_sqr', 'val_sqr', 'mean_y', 'mean_cr', 'mean_cb', 'std_y', 'std_cr', 'std_cb', 'y_sqr', 'cr_sqr', 'cb_sqr', 'mean_l', 'mean_a', 'mean_b', 'std_l', 'std_a', 'std_b_lab', 'l_sqr', 'a_sqr', 'b_lab_sqr', 'skew_r', 'skew_g', 'skew_b', 'skew_h', 'skew_s', 'skew_v', 'skew_y', 'skew_cr', 'skew_cb', 'skew_l', 'skew_a', 'skew_b_lab', 'kurtosis_r', 'kurtosis_g', 'kurtosis_b', 'kurtosis_h', 'kurtosis_s', 'kurtosis_v', 'kurtosis_y', 'kurtosis_cr', 'kurtosis_cb', 'kurtosis_l', 'kurtosis_a', 'kurtosis_b_lab']",
         "Basic+Enhanced Color+Edge2",
         "0.8964",
         "0.8968",
         "0.8964",
         "0.8964",
         "0.8843"
        ],
        [
         "14",
         "Random Forest",
         "['area', 'length', 'width', 'ratio', 'major_axis_length', 'minor_axis_length', 'convex_hull_area', 'convex_hull_perimeter', 'mean_r', 'mean_g', 'mean_b', 'std_r', 'std_g', 'std_b', 'red_sqr', 'green_sqr', 'blue_sqr', 'texture_mean', 'texture_std', 'texture_uniformity', 'texture_third_moment', 'mean_h', 'mean_s', 'mean_v', 'std_h', 'std_s', 'std_v', 'hue_sqr', 'sat_sqr', 'val_sqr', 'mean_y', 'mean_cr', 'mean_cb', 'std_y', 'std_cr', 'std_cb', 'y_sqr', 'cr_sqr', 'cb_sqr', 'mean_l', 'mean_a', 'mean_b', 'std_l', 'std_a', 'std_b_lab', 'l_sqr', 'a_sqr', 'b_lab_sqr', 'skew_r', 'skew_g', 'skew_b', 'skew_h', 'skew_s', 'skew_v', 'skew_y', 'skew_cr', 'skew_cb', 'skew_l', 'skew_a', 'skew_b_lab', 'kurtosis_r', 'kurtosis_g', 'kurtosis_b', 'kurtosis_h', 'kurtosis_s', 'kurtosis_v', 'kurtosis_y', 'kurtosis_cr', 'kurtosis_cb', 'kurtosis_l', 'kurtosis_a', 'kurtosis_b_lab']",
         "Basic+Enhanced Color+Edge2",
         "0.8653",
         "0.8653",
         "0.8653",
         "0.8653",
         "0.869"
        ],
        [
         "15",
         "K-Nearest Neighbors",
         "['area', 'length', 'width', 'ratio', 'major_axis_length', 'minor_axis_length', 'convex_hull_area', 'convex_hull_perimeter', 'mean_r', 'mean_g', 'mean_b', 'std_r', 'std_g', 'std_b', 'red_sqr', 'green_sqr', 'blue_sqr', 'texture_mean', 'texture_std', 'texture_uniformity', 'texture_third_moment', 'zernike_0', 'zernike_1', 'zernike_2', 'zernike_3', 'zernike_4', 'zernike_5', 'zernike_6', 'zernike_7', 'zernike_8', 'zernike_9', 'zernike_10', 'zernike_11', 'zernike_12', 'zernike_13', 'zernike_14', 'zernike_15', 'zernike_16', 'zernike_17', 'zernike_18', 'zernike_19', 'zernike_20', 'zernike_21', 'zernike_22', 'zernike_23', 'zernike_24', 'LBP_0', 'LBP_1', 'LBP_2', 'LBP_3', 'LBP_4', 'LBP_5', 'LBP_6', 'LBP_7', 'LBP_8', 'LBP_9']",
         "Basic+Zernike moments+LBP",
         "0.8005",
         "0.8171",
         "0.8005",
         "0.7985",
         "0.7738"
        ],
        [
         "16",
         "Support Vector Machine",
         "['area', 'length', 'width', 'ratio', 'major_axis_length', 'minor_axis_length', 'convex_hull_area', 'convex_hull_perimeter', 'mean_r', 'mean_g', 'mean_b', 'std_r', 'std_g', 'std_b', 'red_sqr', 'green_sqr', 'blue_sqr', 'texture_mean', 'texture_std', 'texture_uniformity', 'texture_third_moment', 'zernike_0', 'zernike_1', 'zernike_2', 'zernike_3', 'zernike_4', 'zernike_5', 'zernike_6', 'zernike_7', 'zernike_8', 'zernike_9', 'zernike_10', 'zernike_11', 'zernike_12', 'zernike_13', 'zernike_14', 'zernike_15', 'zernike_16', 'zernike_17', 'zernike_18', 'zernike_19', 'zernike_20', 'zernike_21', 'zernike_22', 'zernike_23', 'zernike_24', 'LBP_0', 'LBP_1', 'LBP_2', 'LBP_3', 'LBP_4', 'LBP_5', 'LBP_6', 'LBP_7', 'LBP_8', 'LBP_9']",
         "Basic+Zernike moments+LBP",
         "0.8459",
         "0.8484",
         "0.8459",
         "0.8458",
         "0.8351"
        ],
        [
         "17",
         "Random Forest",
         "['area', 'length', 'width', 'ratio', 'major_axis_length', 'minor_axis_length', 'convex_hull_area', 'convex_hull_perimeter', 'mean_r', 'mean_g', 'mean_b', 'std_r', 'std_g', 'std_b', 'red_sqr', 'green_sqr', 'blue_sqr', 'texture_mean', 'texture_std', 'texture_uniformity', 'texture_third_moment', 'zernike_0', 'zernike_1', 'zernike_2', 'zernike_3', 'zernike_4', 'zernike_5', 'zernike_6', 'zernike_7', 'zernike_8', 'zernike_9', 'zernike_10', 'zernike_11', 'zernike_12', 'zernike_13', 'zernike_14', 'zernike_15', 'zernike_16', 'zernike_17', 'zernike_18', 'zernike_19', 'zernike_20', 'zernike_21', 'zernike_22', 'zernike_23', 'zernike_24', 'LBP_0', 'LBP_1', 'LBP_2', 'LBP_3', 'LBP_4', 'LBP_5', 'LBP_6', 'LBP_7', 'LBP_8', 'LBP_9']",
         "Basic+Zernike moments+LBP",
         "0.8277",
         "0.8305",
         "0.8277",
         "0.8276",
         "0.8019"
        ],
        [
         "18",
         "K-Nearest Neighbors",
         "['area', 'length', 'width', 'ratio', 'major_axis_length', 'minor_axis_length', 'convex_hull_area', 'convex_hull_perimeter', 'mean_r', 'mean_g', 'mean_b', 'std_r', 'std_g', 'std_b', 'red_sqr', 'green_sqr', 'blue_sqr', 'texture_mean', 'texture_std', 'texture_uniformity', 'texture_third_moment', 'zernike_0', 'zernike_1', 'zernike_2', 'zernike_3', 'zernike_4', 'zernike_5', 'zernike_6', 'zernike_7', 'zernike_8', 'zernike_9', 'zernike_10', 'zernike_11', 'zernike_12', 'zernike_13', 'zernike_14', 'zernike_15', 'zernike_16', 'zernike_17', 'zernike_18', 'zernike_19', 'zernike_20', 'zernike_21', 'zernike_22', 'zernike_23', 'zernike_24', 'GLCM_0', 'GLCM_1', 'GLCM_2', 'GLCM_3', 'GLCM_4', 'GLCM_5', 'GLCM_6', 'GLCM_7', 'GLCM_8', 'GLCM_9', 'GLCM_10', 'GLCM_11', 'GLCM_12', 'GLCM_13', 'GLCM_14', 'GLCM_15']",
         "Basic+Zernike moments+GLCM",
         "0.8096",
         "0.8262",
         "0.8096",
         "0.8078",
         "0.793"
        ],
        [
         "19",
         "Support Vector Machine",
         "['area', 'length', 'width', 'ratio', 'major_axis_length', 'minor_axis_length', 'convex_hull_area', 'convex_hull_perimeter', 'mean_r', 'mean_g', 'mean_b', 'std_r', 'std_g', 'std_b', 'red_sqr', 'green_sqr', 'blue_sqr', 'texture_mean', 'texture_std', 'texture_uniformity', 'texture_third_moment', 'zernike_0', 'zernike_1', 'zernike_2', 'zernike_3', 'zernike_4', 'zernike_5', 'zernike_6', 'zernike_7', 'zernike_8', 'zernike_9', 'zernike_10', 'zernike_11', 'zernike_12', 'zernike_13', 'zernike_14', 'zernike_15', 'zernike_16', 'zernike_17', 'zernike_18', 'zernike_19', 'zernike_20', 'zernike_21', 'zernike_22', 'zernike_23', 'zernike_24', 'GLCM_0', 'GLCM_1', 'GLCM_2', 'GLCM_3', 'GLCM_4', 'GLCM_5', 'GLCM_6', 'GLCM_7', 'GLCM_8', 'GLCM_9', 'GLCM_10', 'GLCM_11', 'GLCM_12', 'GLCM_13', 'GLCM_14', 'GLCM_15']",
         "Basic+Zernike moments+GLCM",
         "0.8536",
         "0.8549",
         "0.8536",
         "0.8536",
         "0.855"
        ],
        [
         "20",
         "Random Forest",
         "['area', 'length', 'width', 'ratio', 'major_axis_length', 'minor_axis_length', 'convex_hull_area', 'convex_hull_perimeter', 'mean_r', 'mean_g', 'mean_b', 'std_r', 'std_g', 'std_b', 'red_sqr', 'green_sqr', 'blue_sqr', 'texture_mean', 'texture_std', 'texture_uniformity', 'texture_third_moment', 'zernike_0', 'zernike_1', 'zernike_2', 'zernike_3', 'zernike_4', 'zernike_5', 'zernike_6', 'zernike_7', 'zernike_8', 'zernike_9', 'zernike_10', 'zernike_11', 'zernike_12', 'zernike_13', 'zernike_14', 'zernike_15', 'zernike_16', 'zernike_17', 'zernike_18', 'zernike_19', 'zernike_20', 'zernike_21', 'zernike_22', 'zernike_23', 'zernike_24', 'GLCM_0', 'GLCM_1', 'GLCM_2', 'GLCM_3', 'GLCM_4', 'GLCM_5', 'GLCM_6', 'GLCM_7', 'GLCM_8', 'GLCM_9', 'GLCM_10', 'GLCM_11', 'GLCM_12', 'GLCM_13', 'GLCM_14', 'GLCM_15']",
         "Basic+Zernike moments+GLCM",
         "0.8251",
         "0.8273",
         "0.8251",
         "0.825",
         "0.8109"
        ],
        [
         "21",
         "K-Nearest Neighbors",
         "['area', 'length', 'width', 'ratio', 'major_axis_length', 'minor_axis_length', 'convex_hull_area', 'convex_hull_perimeter', 'mean_r', 'mean_g', 'mean_b', 'std_r', 'std_g', 'std_b', 'red_sqr', 'green_sqr', 'blue_sqr', 'texture_mean', 'texture_std', 'texture_uniformity', 'texture_third_moment', 'zernike_0', 'zernike_1', 'zernike_2', 'zernike_3', 'zernike_4', 'zernike_5', 'zernike_6', 'zernike_7', 'zernike_8', 'zernike_9', 'zernike_10', 'zernike_11', 'zernike_12', 'zernike_13', 'zernike_14', 'zernike_15', 'zernike_16', 'zernike_17', 'zernike_18', 'zernike_19', 'zernike_20', 'zernike_21', 'zernike_22', 'zernike_23', 'zernike_24', 'edge_energy_vertical', 'edge_energy_horizontal', 'edge_energy_diag_45', 'edge_energy_diag_135', 'edge_energy_non_directional']",
         "Basic+Zernike moments+Edge",
         "0.8057",
         "0.8188",
         "0.8057",
         "0.8043",
         "0.7949"
        ],
        [
         "22",
         "Support Vector Machine",
         "['area', 'length', 'width', 'ratio', 'major_axis_length', 'minor_axis_length', 'convex_hull_area', 'convex_hull_perimeter', 'mean_r', 'mean_g', 'mean_b', 'std_r', 'std_g', 'std_b', 'red_sqr', 'green_sqr', 'blue_sqr', 'texture_mean', 'texture_std', 'texture_uniformity', 'texture_third_moment', 'zernike_0', 'zernike_1', 'zernike_2', 'zernike_3', 'zernike_4', 'zernike_5', 'zernike_6', 'zernike_7', 'zernike_8', 'zernike_9', 'zernike_10', 'zernike_11', 'zernike_12', 'zernike_13', 'zernike_14', 'zernike_15', 'zernike_16', 'zernike_17', 'zernike_18', 'zernike_19', 'zernike_20', 'zernike_21', 'zernike_22', 'zernike_23', 'zernike_24', 'edge_energy_vertical', 'edge_energy_horizontal', 'edge_energy_diag_45', 'edge_energy_diag_135', 'edge_energy_non_directional']",
         "Basic+Zernike moments+Edge",
         "0.8433",
         "0.8445",
         "0.8433",
         "0.8432",
         "0.846"
        ],
        [
         "23",
         "Random Forest",
         "['area', 'length', 'width', 'ratio', 'major_axis_length', 'minor_axis_length', 'convex_hull_area', 'convex_hull_perimeter', 'mean_r', 'mean_g', 'mean_b', 'std_r', 'std_g', 'std_b', 'red_sqr', 'green_sqr', 'blue_sqr', 'texture_mean', 'texture_std', 'texture_uniformity', 'texture_third_moment', 'zernike_0', 'zernike_1', 'zernike_2', 'zernike_3', 'zernike_4', 'zernike_5', 'zernike_6', 'zernike_7', 'zernike_8', 'zernike_9', 'zernike_10', 'zernike_11', 'zernike_12', 'zernike_13', 'zernike_14', 'zernike_15', 'zernike_16', 'zernike_17', 'zernike_18', 'zernike_19', 'zernike_20', 'zernike_21', 'zernike_22', 'zernike_23', 'zernike_24', 'edge_energy_vertical', 'edge_energy_horizontal', 'edge_energy_diag_45', 'edge_energy_diag_135', 'edge_energy_non_directional']",
         "Basic+Zernike moments+Edge",
         "0.8277",
         "0.8305",
         "0.8277",
         "0.8276",
         "0.8006"
        ],
        [
         "24",
         "K-Nearest Neighbors",
         "['area', 'length', 'width', 'ratio', 'major_axis_length', 'minor_axis_length', 'convex_hull_area', 'convex_hull_perimeter', 'mean_r', 'mean_g', 'mean_b', 'std_r', 'std_g', 'std_b', 'red_sqr', 'green_sqr', 'blue_sqr', 'texture_mean', 'texture_std', 'texture_uniformity', 'texture_third_moment', 'zernike_0', 'zernike_1', 'zernike_2', 'zernike_3', 'zernike_4', 'zernike_5', 'zernike_6', 'zernike_7', 'zernike_8', 'zernike_9', 'zernike_10', 'zernike_11', 'zernike_12', 'zernike_13', 'zernike_14', 'zernike_15', 'zernike_16', 'zernike_17', 'zernike_18', 'zernike_19', 'zernike_20', 'zernike_21', 'zernike_22', 'zernike_23', 'zernike_24']",
         "Basic+Zernike moments+Edge2",
         "0.807",
         "0.8227",
         "0.807",
         "0.8052",
         "0.7834"
        ],
        [
         "25",
         "Support Vector Machine",
         "['area', 'length', 'width', 'ratio', 'major_axis_length', 'minor_axis_length', 'convex_hull_area', 'convex_hull_perimeter', 'mean_r', 'mean_g', 'mean_b', 'std_r', 'std_g', 'std_b', 'red_sqr', 'green_sqr', 'blue_sqr', 'texture_mean', 'texture_std', 'texture_uniformity', 'texture_third_moment', 'zernike_0', 'zernike_1', 'zernike_2', 'zernike_3', 'zernike_4', 'zernike_5', 'zernike_6', 'zernike_7', 'zernike_8', 'zernike_9', 'zernike_10', 'zernike_11', 'zernike_12', 'zernike_13', 'zernike_14', 'zernike_15', 'zernike_16', 'zernike_17', 'zernike_18', 'zernike_19', 'zernike_20', 'zernike_21', 'zernike_22', 'zernike_23', 'zernike_24']",
         "Basic+Zernike moments+Edge2",
         "0.8588",
         "0.8598",
         "0.8588",
         "0.8588",
         "0.8377"
        ],
        [
         "26",
         "Random Forest",
         "['area', 'length', 'width', 'ratio', 'major_axis_length', 'minor_axis_length', 'convex_hull_area', 'convex_hull_perimeter', 'mean_r', 'mean_g', 'mean_b', 'std_r', 'std_g', 'std_b', 'red_sqr', 'green_sqr', 'blue_sqr', 'texture_mean', 'texture_std', 'texture_uniformity', 'texture_third_moment', 'zernike_0', 'zernike_1', 'zernike_2', 'zernike_3', 'zernike_4', 'zernike_5', 'zernike_6', 'zernike_7', 'zernike_8', 'zernike_9', 'zernike_10', 'zernike_11', 'zernike_12', 'zernike_13', 'zernike_14', 'zernike_15', 'zernike_16', 'zernike_17', 'zernike_18', 'zernike_19', 'zernike_20', 'zernike_21', 'zernike_22', 'zernike_23', 'zernike_24']",
         "Basic+Zernike moments+Edge2",
         "0.8238",
         "0.8267",
         "0.8238",
         "0.8237",
         "0.8"
        ],
        [
         "27",
         "K-Nearest Neighbors",
         "['area', 'length', 'width', 'ratio', 'major_axis_length', 'minor_axis_length', 'convex_hull_area', 'convex_hull_perimeter', 'mean_r', 'mean_g', 'mean_b', 'std_r', 'std_g', 'std_b', 'red_sqr', 'green_sqr', 'blue_sqr', 'texture_mean', 'texture_std', 'texture_uniformity', 'texture_third_moment', 'LBP_0', 'LBP_1', 'LBP_2', 'LBP_3', 'LBP_4', 'LBP_5', 'LBP_6', 'LBP_7', 'LBP_8', 'LBP_9', 'GLCM_0', 'GLCM_1', 'GLCM_2', 'GLCM_3', 'GLCM_4', 'GLCM_5', 'GLCM_6', 'GLCM_7', 'GLCM_8', 'GLCM_9', 'GLCM_10', 'GLCM_11', 'GLCM_12', 'GLCM_13', 'GLCM_14', 'GLCM_15']",
         "Basic+LBP+GLCM",
         "0.7837",
         "0.8048",
         "0.7837",
         "0.7807",
         "0.7668"
        ],
        [
         "28",
         "Support Vector Machine",
         "['area', 'length', 'width', 'ratio', 'major_axis_length', 'minor_axis_length', 'convex_hull_area', 'convex_hull_perimeter', 'mean_r', 'mean_g', 'mean_b', 'std_r', 'std_g', 'std_b', 'red_sqr', 'green_sqr', 'blue_sqr', 'texture_mean', 'texture_std', 'texture_uniformity', 'texture_third_moment', 'LBP_0', 'LBP_1', 'LBP_2', 'LBP_3', 'LBP_4', 'LBP_5', 'LBP_6', 'LBP_7', 'LBP_8', 'LBP_9', 'GLCM_0', 'GLCM_1', 'GLCM_2', 'GLCM_3', 'GLCM_4', 'GLCM_5', 'GLCM_6', 'GLCM_7', 'GLCM_8', 'GLCM_9', 'GLCM_10', 'GLCM_11', 'GLCM_12', 'GLCM_13', 'GLCM_14', 'GLCM_15']",
         "Basic+LBP+GLCM",
         "0.8433",
         "0.8464",
         "0.8433",
         "0.8431",
         "0.8371"
        ],
        [
         "29",
         "Random Forest",
         "['area', 'length', 'width', 'ratio', 'major_axis_length', 'minor_axis_length', 'convex_hull_area', 'convex_hull_perimeter', 'mean_r', 'mean_g', 'mean_b', 'std_r', 'std_g', 'std_b', 'red_sqr', 'green_sqr', 'blue_sqr', 'texture_mean', 'texture_std', 'texture_uniformity', 'texture_third_moment', 'LBP_0', 'LBP_1', 'LBP_2', 'LBP_3', 'LBP_4', 'LBP_5', 'LBP_6', 'LBP_7', 'LBP_8', 'LBP_9', 'GLCM_0', 'GLCM_1', 'GLCM_2', 'GLCM_3', 'GLCM_4', 'GLCM_5', 'GLCM_6', 'GLCM_7', 'GLCM_8', 'GLCM_9', 'GLCM_10', 'GLCM_11', 'GLCM_12', 'GLCM_13', 'GLCM_14', 'GLCM_15']",
         "Basic+LBP+GLCM",
         "0.8212",
         "0.8214",
         "0.8212",
         "0.8213",
         "0.8089"
        ],
        [
         "30",
         "K-Nearest Neighbors",
         "['area', 'length', 'width', 'ratio', 'major_axis_length', 'minor_axis_length', 'convex_hull_area', 'convex_hull_perimeter', 'mean_r', 'mean_g', 'mean_b', 'std_r', 'std_g', 'std_b', 'red_sqr', 'green_sqr', 'blue_sqr', 'texture_mean', 'texture_std', 'texture_uniformity', 'texture_third_moment', 'LBP_0', 'LBP_1', 'LBP_2', 'LBP_3', 'LBP_4', 'LBP_5', 'LBP_6', 'LBP_7', 'LBP_8', 'LBP_9', 'edge_energy_vertical', 'edge_energy_horizontal', 'edge_energy_diag_45', 'edge_energy_diag_135', 'edge_energy_non_directional']",
         "Basic+LBP+Edge",
         "0.7759",
         "0.7983",
         "0.7759",
         "0.7726",
         "0.7693"
        ],
        [
         "31",
         "Support Vector Machine",
         "['area', 'length', 'width', 'ratio', 'major_axis_length', 'minor_axis_length', 'convex_hull_area', 'convex_hull_perimeter', 'mean_r', 'mean_g', 'mean_b', 'std_r', 'std_g', 'std_b', 'red_sqr', 'green_sqr', 'blue_sqr', 'texture_mean', 'texture_std', 'texture_uniformity', 'texture_third_moment', 'LBP_0', 'LBP_1', 'LBP_2', 'LBP_3', 'LBP_4', 'LBP_5', 'LBP_6', 'LBP_7', 'LBP_8', 'LBP_9', 'edge_energy_vertical', 'edge_energy_horizontal', 'edge_energy_diag_45', 'edge_energy_diag_135', 'edge_energy_non_directional']",
         "Basic+LBP+Edge",
         "0.8355",
         "0.8365",
         "0.8355",
         "0.8355",
         "0.816"
        ],
        [
         "32",
         "Random Forest",
         "['area', 'length', 'width', 'ratio', 'major_axis_length', 'minor_axis_length', 'convex_hull_area', 'convex_hull_perimeter', 'mean_r', 'mean_g', 'mean_b', 'std_r', 'std_g', 'std_b', 'red_sqr', 'green_sqr', 'blue_sqr', 'texture_mean', 'texture_std', 'texture_uniformity', 'texture_third_moment', 'LBP_0', 'LBP_1', 'LBP_2', 'LBP_3', 'LBP_4', 'LBP_5', 'LBP_6', 'LBP_7', 'LBP_8', 'LBP_9', 'edge_energy_vertical', 'edge_energy_horizontal', 'edge_energy_diag_45', 'edge_energy_diag_135', 'edge_energy_non_directional']",
         "Basic+LBP+Edge",
         "0.8031",
         "0.8048",
         "0.8031",
         "0.803",
         "0.7968"
        ],
        [
         "33",
         "K-Nearest Neighbors",
         "['area', 'length', 'width', 'ratio', 'major_axis_length', 'minor_axis_length', 'convex_hull_area', 'convex_hull_perimeter', 'mean_r', 'mean_g', 'mean_b', 'std_r', 'std_g', 'std_b', 'red_sqr', 'green_sqr', 'blue_sqr', 'texture_mean', 'texture_std', 'texture_uniformity', 'texture_third_moment', 'LBP_0', 'LBP_1', 'LBP_2', 'LBP_3', 'LBP_4', 'LBP_5', 'LBP_6', 'LBP_7', 'LBP_8', 'LBP_9']",
         "Basic+LBP+Edge2",
         "0.7837",
         "0.8014",
         "0.7837",
         "0.7812",
         "0.7687"
        ],
        [
         "34",
         "Support Vector Machine",
         "['area', 'length', 'width', 'ratio', 'major_axis_length', 'minor_axis_length', 'convex_hull_area', 'convex_hull_perimeter', 'mean_r', 'mean_g', 'mean_b', 'std_r', 'std_g', 'std_b', 'red_sqr', 'green_sqr', 'blue_sqr', 'texture_mean', 'texture_std', 'texture_uniformity', 'texture_third_moment', 'LBP_0', 'LBP_1', 'LBP_2', 'LBP_3', 'LBP_4', 'LBP_5', 'LBP_6', 'LBP_7', 'LBP_8', 'LBP_9']",
         "Basic+LBP+Edge2",
         "0.8394",
         "0.8412",
         "0.8394",
         "0.8393",
         "0.8166"
        ],
        [
         "35",
         "Random Forest",
         "['area', 'length', 'width', 'ratio', 'major_axis_length', 'minor_axis_length', 'convex_hull_area', 'convex_hull_perimeter', 'mean_r', 'mean_g', 'mean_b', 'std_r', 'std_g', 'std_b', 'red_sqr', 'green_sqr', 'blue_sqr', 'texture_mean', 'texture_std', 'texture_uniformity', 'texture_third_moment', 'LBP_0', 'LBP_1', 'LBP_2', 'LBP_3', 'LBP_4', 'LBP_5', 'LBP_6', 'LBP_7', 'LBP_8', 'LBP_9']",
         "Basic+LBP+Edge2",
         "0.8031",
         "0.8038",
         "0.8031",
         "0.8031",
         "0.8051"
        ],
        [
         "36",
         "K-Nearest Neighbors",
         "['area', 'length', 'width', 'ratio', 'major_axis_length', 'minor_axis_length', 'convex_hull_area', 'convex_hull_perimeter', 'mean_r', 'mean_g', 'mean_b', 'std_r', 'std_g', 'std_b', 'red_sqr', 'green_sqr', 'blue_sqr', 'texture_mean', 'texture_std', 'texture_uniformity', 'texture_third_moment', 'GLCM_0', 'GLCM_1', 'GLCM_2', 'GLCM_3', 'GLCM_4', 'GLCM_5', 'GLCM_6', 'GLCM_7', 'GLCM_8', 'GLCM_9', 'GLCM_10', 'GLCM_11', 'GLCM_12', 'GLCM_13', 'GLCM_14', 'GLCM_15', 'edge_energy_vertical', 'edge_energy_horizontal', 'edge_energy_diag_45', 'edge_energy_diag_135', 'edge_energy_non_directional']",
         "Basic+GLCM+Edge",
         "0.7759",
         "0.7965",
         "0.7759",
         "0.7729",
         "0.777"
        ],
        [
         "37",
         "Support Vector Machine",
         "['area', 'length', 'width', 'ratio', 'major_axis_length', 'minor_axis_length', 'convex_hull_area', 'convex_hull_perimeter', 'mean_r', 'mean_g', 'mean_b', 'std_r', 'std_g', 'std_b', 'red_sqr', 'green_sqr', 'blue_sqr', 'texture_mean', 'texture_std', 'texture_uniformity', 'texture_third_moment', 'GLCM_0', 'GLCM_1', 'GLCM_2', 'GLCM_3', 'GLCM_4', 'GLCM_5', 'GLCM_6', 'GLCM_7', 'GLCM_8', 'GLCM_9', 'GLCM_10', 'GLCM_11', 'GLCM_12', 'GLCM_13', 'GLCM_14', 'GLCM_15', 'edge_energy_vertical', 'edge_energy_horizontal', 'edge_energy_diag_45', 'edge_energy_diag_135', 'edge_energy_non_directional']",
         "Basic+GLCM+Edge",
         "0.8355",
         "0.8369",
         "0.8355",
         "0.8355",
         "0.8339"
        ],
        [
         "38",
         "Random Forest",
         "['area', 'length', 'width', 'ratio', 'major_axis_length', 'minor_axis_length', 'convex_hull_area', 'convex_hull_perimeter', 'mean_r', 'mean_g', 'mean_b', 'std_r', 'std_g', 'std_b', 'red_sqr', 'green_sqr', 'blue_sqr', 'texture_mean', 'texture_std', 'texture_uniformity', 'texture_third_moment', 'GLCM_0', 'GLCM_1', 'GLCM_2', 'GLCM_3', 'GLCM_4', 'GLCM_5', 'GLCM_6', 'GLCM_7', 'GLCM_8', 'GLCM_9', 'GLCM_10', 'GLCM_11', 'GLCM_12', 'GLCM_13', 'GLCM_14', 'GLCM_15', 'edge_energy_vertical', 'edge_energy_horizontal', 'edge_energy_diag_45', 'edge_energy_diag_135', 'edge_energy_non_directional']",
         "Basic+GLCM+Edge",
         "0.8044",
         "0.805",
         "0.8044",
         "0.8044",
         "0.8141"
        ],
        [
         "39",
         "K-Nearest Neighbors",
         "['area', 'length', 'width', 'ratio', 'major_axis_length', 'minor_axis_length', 'convex_hull_area', 'convex_hull_perimeter', 'mean_r', 'mean_g', 'mean_b', 'std_r', 'std_g', 'std_b', 'red_sqr', 'green_sqr', 'blue_sqr', 'texture_mean', 'texture_std', 'texture_uniformity', 'texture_third_moment', 'GLCM_0', 'GLCM_1', 'GLCM_2', 'GLCM_3', 'GLCM_4', 'GLCM_5', 'GLCM_6', 'GLCM_7', 'GLCM_8', 'GLCM_9', 'GLCM_10', 'GLCM_11', 'GLCM_12', 'GLCM_13', 'GLCM_14', 'GLCM_15']",
         "Basic+GLCM+Edge2",
         "0.7837",
         "0.7991",
         "0.7837",
         "0.7816",
         "0.7866"
        ],
        [
         "40",
         "Support Vector Machine",
         "['area', 'length', 'width', 'ratio', 'major_axis_length', 'minor_axis_length', 'convex_hull_area', 'convex_hull_perimeter', 'mean_r', 'mean_g', 'mean_b', 'std_r', 'std_g', 'std_b', 'red_sqr', 'green_sqr', 'blue_sqr', 'texture_mean', 'texture_std', 'texture_uniformity', 'texture_third_moment', 'GLCM_0', 'GLCM_1', 'GLCM_2', 'GLCM_3', 'GLCM_4', 'GLCM_5', 'GLCM_6', 'GLCM_7', 'GLCM_8', 'GLCM_9', 'GLCM_10', 'GLCM_11', 'GLCM_12', 'GLCM_13', 'GLCM_14', 'GLCM_15']",
         "Basic+GLCM+Edge2",
         "0.8484",
         "0.8513",
         "0.8484",
         "0.8483",
         "0.8415"
        ],
        [
         "41",
         "Random Forest",
         "['area', 'length', 'width', 'ratio', 'major_axis_length', 'minor_axis_length', 'convex_hull_area', 'convex_hull_perimeter', 'mean_r', 'mean_g', 'mean_b', 'std_r', 'std_g', 'std_b', 'red_sqr', 'green_sqr', 'blue_sqr', 'texture_mean', 'texture_std', 'texture_uniformity', 'texture_third_moment', 'GLCM_0', 'GLCM_1', 'GLCM_2', 'GLCM_3', 'GLCM_4', 'GLCM_5', 'GLCM_6', 'GLCM_7', 'GLCM_8', 'GLCM_9', 'GLCM_10', 'GLCM_11', 'GLCM_12', 'GLCM_13', 'GLCM_14', 'GLCM_15']",
         "Basic+GLCM+Edge2",
         "0.829",
         "0.8295",
         "0.829",
         "0.829",
         "0.8166"
        ],
        [
         "42",
         "K-Nearest Neighbors",
         "['area', 'length', 'width', 'ratio', 'major_axis_length', 'minor_axis_length', 'convex_hull_area', 'convex_hull_perimeter', 'mean_r', 'mean_g', 'mean_b', 'std_r', 'std_g', 'std_b', 'red_sqr', 'green_sqr', 'blue_sqr', 'texture_mean', 'texture_std', 'texture_uniformity', 'texture_third_moment', 'edge_energy_vertical', 'edge_energy_horizontal', 'edge_energy_diag_45', 'edge_energy_diag_135', 'edge_energy_non_directional']",
         "Basic+Edge+Edge2",
         "0.7915",
         "0.8019",
         "0.7915",
         "0.7902",
         "0.7891"
        ],
        [
         "43",
         "Support Vector Machine",
         "['area', 'length', 'width', 'ratio', 'major_axis_length', 'minor_axis_length', 'convex_hull_area', 'convex_hull_perimeter', 'mean_r', 'mean_g', 'mean_b', 'std_r', 'std_g', 'std_b', 'red_sqr', 'green_sqr', 'blue_sqr', 'texture_mean', 'texture_std', 'texture_uniformity', 'texture_third_moment', 'edge_energy_vertical', 'edge_energy_horizontal', 'edge_energy_diag_45', 'edge_energy_diag_135', 'edge_energy_non_directional']",
         "Basic+Edge+Edge2",
         "0.842",
         "0.8438",
         "0.842",
         "0.8419",
         "0.8096"
        ],
        [
         "44",
         "Random Forest",
         "['area', 'length', 'width', 'ratio', 'major_axis_length', 'minor_axis_length', 'convex_hull_area', 'convex_hull_perimeter', 'mean_r', 'mean_g', 'mean_b', 'std_r', 'std_g', 'std_b', 'red_sqr', 'green_sqr', 'blue_sqr', 'texture_mean', 'texture_std', 'texture_uniformity', 'texture_third_moment', 'edge_energy_vertical', 'edge_energy_horizontal', 'edge_energy_diag_45', 'edge_energy_diag_135', 'edge_energy_non_directional']",
         "Basic+Edge+Edge2",
         "0.8199",
         "0.8205",
         "0.8199",
         "0.82",
         "0.8051"
        ],
        [
         "45",
         "K-Nearest Neighbors",
         "['mean_h', 'mean_s', 'mean_v', 'std_h', 'std_s', 'std_v', 'hue_sqr', 'sat_sqr', 'val_sqr', 'mean_y', 'mean_cr', 'mean_cb', 'std_y', 'std_cr', 'std_cb', 'y_sqr', 'cr_sqr', 'cb_sqr', 'mean_l', 'mean_a', 'mean_b', 'std_l', 'std_a', 'std_b_lab', 'l_sqr', 'a_sqr', 'b_lab_sqr', 'skew_r', 'skew_g', 'skew_b', 'skew_h', 'skew_s', 'skew_v', 'skew_y', 'skew_cr', 'skew_cb', 'skew_l', 'skew_a', 'skew_b_lab', 'kurtosis_r', 'kurtosis_g', 'kurtosis_b', 'kurtosis_h', 'kurtosis_s', 'kurtosis_v', 'kurtosis_y', 'kurtosis_cr', 'kurtosis_cb', 'kurtosis_l', 'kurtosis_a', 'kurtosis_b_lab', 'zernike_0', 'zernike_1', 'zernike_2', 'zernike_3', 'zernike_4', 'zernike_5', 'zernike_6', 'zernike_7', 'zernike_8', 'zernike_9', 'zernike_10', 'zernike_11', 'zernike_12', 'zernike_13', 'zernike_14', 'zernike_15', 'zernike_16', 'zernike_17', 'zernike_18', 'zernike_19', 'zernike_20', 'zernike_21', 'zernike_22', 'zernike_23', 'zernike_24', 'LBP_0', 'LBP_1', 'LBP_2', 'LBP_3', 'LBP_4', 'LBP_5', 'LBP_6', 'LBP_7', 'LBP_8', 'LBP_9']",
         "Enhanced Color+Zernike moments+LBP",
         "0.8212",
         "0.8388",
         "0.8212",
         "0.8195",
         "0.8109"
        ],
        [
         "46",
         "Support Vector Machine",
         "['mean_h', 'mean_s', 'mean_v', 'std_h', 'std_s', 'std_v', 'hue_sqr', 'sat_sqr', 'val_sqr', 'mean_y', 'mean_cr', 'mean_cb', 'std_y', 'std_cr', 'std_cb', 'y_sqr', 'cr_sqr', 'cb_sqr', 'mean_l', 'mean_a', 'mean_b', 'std_l', 'std_a', 'std_b_lab', 'l_sqr', 'a_sqr', 'b_lab_sqr', 'skew_r', 'skew_g', 'skew_b', 'skew_h', 'skew_s', 'skew_v', 'skew_y', 'skew_cr', 'skew_cb', 'skew_l', 'skew_a', 'skew_b_lab', 'kurtosis_r', 'kurtosis_g', 'kurtosis_b', 'kurtosis_h', 'kurtosis_s', 'kurtosis_v', 'kurtosis_y', 'kurtosis_cr', 'kurtosis_cb', 'kurtosis_l', 'kurtosis_a', 'kurtosis_b_lab', 'zernike_0', 'zernike_1', 'zernike_2', 'zernike_3', 'zernike_4', 'zernike_5', 'zernike_6', 'zernike_7', 'zernike_8', 'zernike_9', 'zernike_10', 'zernike_11', 'zernike_12', 'zernike_13', 'zernike_14', 'zernike_15', 'zernike_16', 'zernike_17', 'zernike_18', 'zernike_19', 'zernike_20', 'zernike_21', 'zernike_22', 'zernike_23', 'zernike_24', 'LBP_0', 'LBP_1', 'LBP_2', 'LBP_3', 'LBP_4', 'LBP_5', 'LBP_6', 'LBP_7', 'LBP_8', 'LBP_9']",
         "Enhanced Color+Zernike moments+LBP",
         "0.899",
         "0.8992",
         "0.899",
         "0.899",
         "0.8805"
        ],
        [
         "47",
         "Random Forest",
         "['mean_h', 'mean_s', 'mean_v', 'std_h', 'std_s', 'std_v', 'hue_sqr', 'sat_sqr', 'val_sqr', 'mean_y', 'mean_cr', 'mean_cb', 'std_y', 'std_cr', 'std_cb', 'y_sqr', 'cr_sqr', 'cb_sqr', 'mean_l', 'mean_a', 'mean_b', 'std_l', 'std_a', 'std_b_lab', 'l_sqr', 'a_sqr', 'b_lab_sqr', 'skew_r', 'skew_g', 'skew_b', 'skew_h', 'skew_s', 'skew_v', 'skew_y', 'skew_cr', 'skew_cb', 'skew_l', 'skew_a', 'skew_b_lab', 'kurtosis_r', 'kurtosis_g', 'kurtosis_b', 'kurtosis_h', 'kurtosis_s', 'kurtosis_v', 'kurtosis_y', 'kurtosis_cr', 'kurtosis_cb', 'kurtosis_l', 'kurtosis_a', 'kurtosis_b_lab', 'zernike_0', 'zernike_1', 'zernike_2', 'zernike_3', 'zernike_4', 'zernike_5', 'zernike_6', 'zernike_7', 'zernike_8', 'zernike_9', 'zernike_10', 'zernike_11', 'zernike_12', 'zernike_13', 'zernike_14', 'zernike_15', 'zernike_16', 'zernike_17', 'zernike_18', 'zernike_19', 'zernike_20', 'zernike_21', 'zernike_22', 'zernike_23', 'zernike_24', 'LBP_0', 'LBP_1', 'LBP_2', 'LBP_3', 'LBP_4', 'LBP_5', 'LBP_6', 'LBP_7', 'LBP_8', 'LBP_9']",
         "Enhanced Color+Zernike moments+LBP",
         "0.8562",
         "0.8569",
         "0.8562",
         "0.8562",
         "0.8607"
        ],
        [
         "48",
         "K-Nearest Neighbors",
         "['mean_h', 'mean_s', 'mean_v', 'std_h', 'std_s', 'std_v', 'hue_sqr', 'sat_sqr', 'val_sqr', 'mean_y', 'mean_cr', 'mean_cb', 'std_y', 'std_cr', 'std_cb', 'y_sqr', 'cr_sqr', 'cb_sqr', 'mean_l', 'mean_a', 'mean_b', 'std_l', 'std_a', 'std_b_lab', 'l_sqr', 'a_sqr', 'b_lab_sqr', 'skew_r', 'skew_g', 'skew_b', 'skew_h', 'skew_s', 'skew_v', 'skew_y', 'skew_cr', 'skew_cb', 'skew_l', 'skew_a', 'skew_b_lab', 'kurtosis_r', 'kurtosis_g', 'kurtosis_b', 'kurtosis_h', 'kurtosis_s', 'kurtosis_v', 'kurtosis_y', 'kurtosis_cr', 'kurtosis_cb', 'kurtosis_l', 'kurtosis_a', 'kurtosis_b_lab', 'zernike_0', 'zernike_1', 'zernike_2', 'zernike_3', 'zernike_4', 'zernike_5', 'zernike_6', 'zernike_7', 'zernike_8', 'zernike_9', 'zernike_10', 'zernike_11', 'zernike_12', 'zernike_13', 'zernike_14', 'zernike_15', 'zernike_16', 'zernike_17', 'zernike_18', 'zernike_19', 'zernike_20', 'zernike_21', 'zernike_22', 'zernike_23', 'zernike_24', 'GLCM_0', 'GLCM_1', 'GLCM_2', 'GLCM_3', 'GLCM_4', 'GLCM_5', 'GLCM_6', 'GLCM_7', 'GLCM_8', 'GLCM_9', 'GLCM_10', 'GLCM_11', 'GLCM_12', 'GLCM_13', 'GLCM_14', 'GLCM_15']",
         "Enhanced Color+Zernike moments+GLCM",
         "0.8161",
         "0.8318",
         "0.8161",
         "0.8144",
         "0.8211"
        ],
        [
         "49",
         "Support Vector Machine",
         "['mean_h', 'mean_s', 'mean_v', 'std_h', 'std_s', 'std_v', 'hue_sqr', 'sat_sqr', 'val_sqr', 'mean_y', 'mean_cr', 'mean_cb', 'std_y', 'std_cr', 'std_cb', 'y_sqr', 'cr_sqr', 'cb_sqr', 'mean_l', 'mean_a', 'mean_b', 'std_l', 'std_a', 'std_b_lab', 'l_sqr', 'a_sqr', 'b_lab_sqr', 'skew_r', 'skew_g', 'skew_b', 'skew_h', 'skew_s', 'skew_v', 'skew_y', 'skew_cr', 'skew_cb', 'skew_l', 'skew_a', 'skew_b_lab', 'kurtosis_r', 'kurtosis_g', 'kurtosis_b', 'kurtosis_h', 'kurtosis_s', 'kurtosis_v', 'kurtosis_y', 'kurtosis_cr', 'kurtosis_cb', 'kurtosis_l', 'kurtosis_a', 'kurtosis_b_lab', 'zernike_0', 'zernike_1', 'zernike_2', 'zernike_3', 'zernike_4', 'zernike_5', 'zernike_6', 'zernike_7', 'zernike_8', 'zernike_9', 'zernike_10', 'zernike_11', 'zernike_12', 'zernike_13', 'zernike_14', 'zernike_15', 'zernike_16', 'zernike_17', 'zernike_18', 'zernike_19', 'zernike_20', 'zernike_21', 'zernike_22', 'zernike_23', 'zernike_24', 'GLCM_0', 'GLCM_1', 'GLCM_2', 'GLCM_3', 'GLCM_4', 'GLCM_5', 'GLCM_6', 'GLCM_7', 'GLCM_8', 'GLCM_9', 'GLCM_10', 'GLCM_11', 'GLCM_12', 'GLCM_13', 'GLCM_14', 'GLCM_15']",
         "Enhanced Color+Zernike moments+GLCM",
         "0.8795",
         "0.8804",
         "0.8795",
         "0.8795",
         "0.8856"
        ]
       ],
       "shape": {
        "columns": 8,
        "rows": 297
       }
      },
      "text/html": [
       "<div>\n",
       "<style scoped>\n",
       "    .dataframe tbody tr th:only-of-type {\n",
       "        vertical-align: middle;\n",
       "    }\n",
       "\n",
       "    .dataframe tbody tr th {\n",
       "        vertical-align: top;\n",
       "    }\n",
       "\n",
       "    .dataframe thead th {\n",
       "        text-align: right;\n",
       "    }\n",
       "</style>\n",
       "<table border=\"1\" class=\"dataframe\">\n",
       "  <thead>\n",
       "    <tr style=\"text-align: right;\">\n",
       "      <th></th>\n",
       "      <th>Model</th>\n",
       "      <th>Dataset</th>\n",
       "      <th>Feature Combination</th>\n",
       "      <th>Accuracy</th>\n",
       "      <th>Precision</th>\n",
       "      <th>Recall</th>\n",
       "      <th>F1 Score</th>\n",
       "      <th>CV_scores(5fold)</th>\n",
       "    </tr>\n",
       "  </thead>\n",
       "  <tbody>\n",
       "    <tr>\n",
       "      <th>0</th>\n",
       "      <td>K-Nearest Neighbors</td>\n",
       "      <td>[area, length, width, ratio, major_axis_length...</td>\n",
       "      <td>Basic+Enhanced Color+Zernike moments</td>\n",
       "      <td>0.8225</td>\n",
       "      <td>0.8415</td>\n",
       "      <td>0.8225</td>\n",
       "      <td>0.8206</td>\n",
       "      <td>0.8058</td>\n",
       "    </tr>\n",
       "    <tr>\n",
       "      <th>1</th>\n",
       "      <td>Support Vector Machine</td>\n",
       "      <td>[area, length, width, ratio, major_axis_length...</td>\n",
       "      <td>Basic+Enhanced Color+Zernike moments</td>\n",
       "      <td>0.8990</td>\n",
       "      <td>0.8993</td>\n",
       "      <td>0.8990</td>\n",
       "      <td>0.8990</td>\n",
       "      <td>0.8863</td>\n",
       "    </tr>\n",
       "    <tr>\n",
       "      <th>2</th>\n",
       "      <td>Random Forest</td>\n",
       "      <td>[area, length, width, ratio, major_axis_length...</td>\n",
       "      <td>Basic+Enhanced Color+Zernike moments</td>\n",
       "      <td>0.8666</td>\n",
       "      <td>0.8666</td>\n",
       "      <td>0.8666</td>\n",
       "      <td>0.8666</td>\n",
       "      <td>0.8703</td>\n",
       "    </tr>\n",
       "    <tr>\n",
       "      <th>3</th>\n",
       "      <td>K-Nearest Neighbors</td>\n",
       "      <td>[area, length, width, ratio, major_axis_length...</td>\n",
       "      <td>Basic+Enhanced Color+LBP</td>\n",
       "      <td>0.8031</td>\n",
       "      <td>0.8269</td>\n",
       "      <td>0.8031</td>\n",
       "      <td>0.8002</td>\n",
       "      <td>0.8000</td>\n",
       "    </tr>\n",
       "    <tr>\n",
       "      <th>4</th>\n",
       "      <td>Support Vector Machine</td>\n",
       "      <td>[area, length, width, ratio, major_axis_length...</td>\n",
       "      <td>Basic+Enhanced Color+LBP</td>\n",
       "      <td>0.8938</td>\n",
       "      <td>0.8938</td>\n",
       "      <td>0.8938</td>\n",
       "      <td>0.8938</td>\n",
       "      <td>0.8760</td>\n",
       "    </tr>\n",
       "    <tr>\n",
       "      <th>...</th>\n",
       "      <td>...</td>\n",
       "      <td>...</td>\n",
       "      <td>...</td>\n",
       "      <td>...</td>\n",
       "      <td>...</td>\n",
       "      <td>...</td>\n",
       "      <td>...</td>\n",
       "      <td>...</td>\n",
       "    </tr>\n",
       "    <tr>\n",
       "      <th>292</th>\n",
       "      <td>Support Vector Machine</td>\n",
       "      <td>[mean_h, mean_s, mean_v, std_h, std_s, std_v, ...</td>\n",
       "      <td>Enhanced Color+Zernike moments+LBP+GLCM+Edge+E...</td>\n",
       "      <td>0.8912</td>\n",
       "      <td>0.8922</td>\n",
       "      <td>0.8912</td>\n",
       "      <td>0.8912</td>\n",
       "      <td>0.8914</td>\n",
       "    </tr>\n",
       "    <tr>\n",
       "      <th>293</th>\n",
       "      <td>Random Forest</td>\n",
       "      <td>[mean_h, mean_s, mean_v, std_h, std_s, std_v, ...</td>\n",
       "      <td>Enhanced Color+Zernike moments+LBP+GLCM+Edge+E...</td>\n",
       "      <td>0.8601</td>\n",
       "      <td>0.8609</td>\n",
       "      <td>0.8601</td>\n",
       "      <td>0.8601</td>\n",
       "      <td>0.8671</td>\n",
       "    </tr>\n",
       "    <tr>\n",
       "      <th>294</th>\n",
       "      <td>K-Nearest Neighbors</td>\n",
       "      <td>[area, length, width, ratio, major_axis_length...</td>\n",
       "      <td>Basic+Enhanced Color+Zernike moments+LBP+GLCM+...</td>\n",
       "      <td>0.8225</td>\n",
       "      <td>0.8423</td>\n",
       "      <td>0.8225</td>\n",
       "      <td>0.8205</td>\n",
       "      <td>0.8204</td>\n",
       "    </tr>\n",
       "    <tr>\n",
       "      <th>295</th>\n",
       "      <td>Support Vector Machine</td>\n",
       "      <td>[area, length, width, ratio, major_axis_length...</td>\n",
       "      <td>Basic+Enhanced Color+Zernike moments+LBP+GLCM+...</td>\n",
       "      <td>0.8977</td>\n",
       "      <td>0.8982</td>\n",
       "      <td>0.8977</td>\n",
       "      <td>0.8977</td>\n",
       "      <td>0.8933</td>\n",
       "    </tr>\n",
       "    <tr>\n",
       "      <th>296</th>\n",
       "      <td>Random Forest</td>\n",
       "      <td>[area, length, width, ratio, major_axis_length...</td>\n",
       "      <td>Basic+Enhanced Color+Zernike moments+LBP+GLCM+...</td>\n",
       "      <td>0.8588</td>\n",
       "      <td>0.8598</td>\n",
       "      <td>0.8588</td>\n",
       "      <td>0.8588</td>\n",
       "      <td>0.8716</td>\n",
       "    </tr>\n",
       "  </tbody>\n",
       "</table>\n",
       "<p>297 rows × 8 columns</p>\n",
       "</div>"
      ],
      "text/plain": [
       "                      Model  \\\n",
       "0       K-Nearest Neighbors   \n",
       "1    Support Vector Machine   \n",
       "2             Random Forest   \n",
       "3       K-Nearest Neighbors   \n",
       "4    Support Vector Machine   \n",
       "..                      ...   \n",
       "292  Support Vector Machine   \n",
       "293           Random Forest   \n",
       "294     K-Nearest Neighbors   \n",
       "295  Support Vector Machine   \n",
       "296           Random Forest   \n",
       "\n",
       "                                               Dataset  \\\n",
       "0    [area, length, width, ratio, major_axis_length...   \n",
       "1    [area, length, width, ratio, major_axis_length...   \n",
       "2    [area, length, width, ratio, major_axis_length...   \n",
       "3    [area, length, width, ratio, major_axis_length...   \n",
       "4    [area, length, width, ratio, major_axis_length...   \n",
       "..                                                 ...   \n",
       "292  [mean_h, mean_s, mean_v, std_h, std_s, std_v, ...   \n",
       "293  [mean_h, mean_s, mean_v, std_h, std_s, std_v, ...   \n",
       "294  [area, length, width, ratio, major_axis_length...   \n",
       "295  [area, length, width, ratio, major_axis_length...   \n",
       "296  [area, length, width, ratio, major_axis_length...   \n",
       "\n",
       "                                   Feature Combination  Accuracy  Precision  \\\n",
       "0                 Basic+Enhanced Color+Zernike moments    0.8225     0.8415   \n",
       "1                 Basic+Enhanced Color+Zernike moments    0.8990     0.8993   \n",
       "2                 Basic+Enhanced Color+Zernike moments    0.8666     0.8666   \n",
       "3                             Basic+Enhanced Color+LBP    0.8031     0.8269   \n",
       "4                             Basic+Enhanced Color+LBP    0.8938     0.8938   \n",
       "..                                                 ...       ...        ...   \n",
       "292  Enhanced Color+Zernike moments+LBP+GLCM+Edge+E...    0.8912     0.8922   \n",
       "293  Enhanced Color+Zernike moments+LBP+GLCM+Edge+E...    0.8601     0.8609   \n",
       "294  Basic+Enhanced Color+Zernike moments+LBP+GLCM+...    0.8225     0.8423   \n",
       "295  Basic+Enhanced Color+Zernike moments+LBP+GLCM+...    0.8977     0.8982   \n",
       "296  Basic+Enhanced Color+Zernike moments+LBP+GLCM+...    0.8588     0.8598   \n",
       "\n",
       "     Recall  F1 Score  CV_scores(5fold)  \n",
       "0    0.8225    0.8206            0.8058  \n",
       "1    0.8990    0.8990            0.8863  \n",
       "2    0.8666    0.8666            0.8703  \n",
       "3    0.8031    0.8002            0.8000  \n",
       "4    0.8938    0.8938            0.8760  \n",
       "..      ...       ...               ...  \n",
       "292  0.8912    0.8912            0.8914  \n",
       "293  0.8601    0.8601            0.8671  \n",
       "294  0.8225    0.8205            0.8204  \n",
       "295  0.8977    0.8977            0.8933  \n",
       "296  0.8588    0.8588            0.8716  \n",
       "\n",
       "[297 rows x 8 columns]"
      ]
     },
     "execution_count": 109,
     "metadata": {},
     "output_type": "execute_result"
    }
   ],
   "source": [
    "results_df = pd.DataFrame(all_results)\n",
    "results_df"
   ]
  },
  {
   "cell_type": "code",
   "execution_count": 85,
   "metadata": {},
   "outputs": [],
   "source": [
    "results_df['Dataset'] = results_df['Dataset'].replace('Nep-87','Thien_uu-8')"
   ]
  },
  {
   "cell_type": "code",
   "execution_count": 86,
   "metadata": {},
   "outputs": [
    {
     "data": {
      "application/vnd.microsoft.datawrangler.viewer.v0+json": {
       "columns": [
        {
         "name": "index",
         "rawType": "int64",
         "type": "integer"
        },
        {
         "name": "Model",
         "rawType": "object",
         "type": "string"
        },
        {
         "name": "Dataset",
         "rawType": "object",
         "type": "string"
        },
        {
         "name": "Feature Combination",
         "rawType": "object",
         "type": "string"
        },
        {
         "name": "Accuracy",
         "rawType": "float64",
         "type": "float"
        },
        {
         "name": "Precision",
         "rawType": "float64",
         "type": "float"
        },
        {
         "name": "Recall",
         "rawType": "float64",
         "type": "float"
        },
        {
         "name": "F1 Score",
         "rawType": "float64",
         "type": "float"
        },
        {
         "name": "CV_scores(5fold)",
         "rawType": "float64",
         "type": "float"
        }
       ],
       "conversionMethod": "pd.DataFrame",
       "ref": "907c040d-4bb8-4d33-b96e-698f348bc077",
       "rows": [
        [
         "0",
         "K-Nearest Neighbors",
         "Thien_uu-8",
         "Basic+Enhanced Color+Skewness and Kurtosis",
         "0.9179",
         "0.9198",
         "0.9179",
         "0.9178",
         "0.9191"
        ],
        [
         "1",
         "Support Vector Machine",
         "Thien_uu-8",
         "Basic+Enhanced Color+Skewness and Kurtosis",
         "0.9582",
         "0.9583",
         "0.9582",
         "0.9582",
         "0.9517"
        ],
        [
         "2",
         "Random Forest",
         "Thien_uu-8",
         "Basic+Enhanced Color+Skewness and Kurtosis",
         "0.9265",
         "0.9265",
         "0.9265",
         "0.9265",
         "0.9475"
        ],
        [
         "3",
         "K-Nearest Neighbors",
         "Thien_uu-8",
         "Basic+Enhanced Color+Zernike moments",
         "0.9496",
         "0.9505",
         "0.9496",
         "0.9496",
         "0.9574"
        ],
        [
         "4",
         "Support Vector Machine",
         "Thien_uu-8",
         "Basic+Enhanced Color+Zernike moments",
         "0.9625",
         "0.9625",
         "0.9625",
         "0.9625",
         "0.9695"
        ],
        [
         "5",
         "Random Forest",
         "Thien_uu-8",
         "Basic+Enhanced Color+Zernike moments",
         "0.9568",
         "0.9569",
         "0.9568",
         "0.9568",
         "0.9617"
        ],
        [
         "6",
         "K-Nearest Neighbors",
         "Thien_uu-8",
         "Basic+Enhanced Color+Hu moments",
         "0.9395",
         "0.9405",
         "0.9395",
         "0.9395",
         "0.9418"
        ],
        [
         "7",
         "Support Vector Machine",
         "Thien_uu-8",
         "Basic+Enhanced Color+Hu moments",
         "0.951",
         "0.951",
         "0.951",
         "0.951",
         "0.9695"
        ],
        [
         "8",
         "Random Forest",
         "Thien_uu-8",
         "Basic+Enhanced Color+Hu moments",
         "0.9467",
         "0.9468",
         "0.9467",
         "0.9467",
         "0.956"
        ],
        [
         "9",
         "K-Nearest Neighbors",
         "Thien_uu-8",
         "Basic+Enhanced Color+LBP",
         "0.928",
         "0.9298",
         "0.928",
         "0.9279",
         "0.9234"
        ],
        [
         "10",
         "Support Vector Machine",
         "Thien_uu-8",
         "Basic+Enhanced Color+LBP",
         "0.9539",
         "0.9539",
         "0.9539",
         "0.9539",
         "0.961"
        ],
        [
         "11",
         "Random Forest",
         "Thien_uu-8",
         "Basic+Enhanced Color+LBP",
         "0.9337",
         "0.9339",
         "0.9337",
         "0.9337",
         "0.9475"
        ],
        [
         "12",
         "K-Nearest Neighbors",
         "Thien_uu-8",
         "Basic+Enhanced Color+GLCM",
         "0.9251",
         "0.9263",
         "0.9251",
         "0.9251",
         "0.934"
        ],
        [
         "13",
         "Support Vector Machine",
         "Thien_uu-8",
         "Basic+Enhanced Color+GLCM",
         "0.9481",
         "0.9482",
         "0.9481",
         "0.9481",
         "0.9645"
        ],
        [
         "14",
         "Random Forest",
         "Thien_uu-8",
         "Basic+Enhanced Color+GLCM",
         "0.928",
         "0.9281",
         "0.928",
         "0.9279",
         "0.9525"
        ],
        [
         "15",
         "K-Nearest Neighbors",
         "Thien_uu-8",
         "Basic+Enhanced Color+Edge",
         "0.928",
         "0.9295",
         "0.928",
         "0.9279",
         "0.9312"
        ],
        [
         "16",
         "Support Vector Machine",
         "Thien_uu-8",
         "Basic+Enhanced Color+Edge",
         "0.951",
         "0.951",
         "0.951",
         "0.951",
         "0.9581"
        ],
        [
         "17",
         "Random Forest",
         "Thien_uu-8",
         "Basic+Enhanced Color+Edge",
         "0.9352",
         "0.9352",
         "0.9352",
         "0.9352",
         "0.9468"
        ],
        [
         "18",
         "K-Nearest Neighbors",
         "Thien_uu-8",
         "Basic+Skewness and Kurtosis+Zernike moments",
         "0.9467",
         "0.9476",
         "0.9467",
         "0.9467",
         "0.9503"
        ],
        [
         "19",
         "Support Vector Machine",
         "Thien_uu-8",
         "Basic+Skewness and Kurtosis+Zernike moments",
         "0.9568",
         "0.9568",
         "0.9568",
         "0.9568",
         "0.9666"
        ],
        [
         "20",
         "Random Forest",
         "Thien_uu-8",
         "Basic+Skewness and Kurtosis+Zernike moments",
         "0.9467",
         "0.947",
         "0.9467",
         "0.9467",
         "0.9574"
        ],
        [
         "21",
         "K-Nearest Neighbors",
         "Thien_uu-8",
         "Basic+Skewness and Kurtosis+Hu moments",
         "0.9395",
         "0.9403",
         "0.9395",
         "0.9395",
         "0.9319"
        ],
        [
         "22",
         "Support Vector Machine",
         "Thien_uu-8",
         "Basic+Skewness and Kurtosis+Hu moments",
         "0.9553",
         "0.9554",
         "0.9553",
         "0.9553",
         "0.9532"
        ],
        [
         "23",
         "Random Forest",
         "Thien_uu-8",
         "Basic+Skewness and Kurtosis+Hu moments",
         "0.9409",
         "0.941",
         "0.9409",
         "0.9409",
         "0.9517"
        ],
        [
         "24",
         "K-Nearest Neighbors",
         "Thien_uu-8",
         "Basic+Skewness and Kurtosis+LBP",
         "0.8948",
         "0.8982",
         "0.8948",
         "0.8947",
         "0.9092"
        ],
        [
         "25",
         "Support Vector Machine",
         "Thien_uu-8",
         "Basic+Skewness and Kurtosis+LBP",
         "0.9337",
         "0.9338",
         "0.9337",
         "0.9337",
         "0.951"
        ],
        [
         "26",
         "Random Forest",
         "Thien_uu-8",
         "Basic+Skewness and Kurtosis+LBP",
         "0.9207",
         "0.9207",
         "0.9207",
         "0.9207",
         "0.9397"
        ],
        [
         "27",
         "K-Nearest Neighbors",
         "Thien_uu-8",
         "Basic+Skewness and Kurtosis+GLCM",
         "0.8991",
         "0.9006",
         "0.8991",
         "0.8991",
         "0.912"
        ],
        [
         "28",
         "Support Vector Machine",
         "Thien_uu-8",
         "Basic+Skewness and Kurtosis+GLCM",
         "0.9409",
         "0.9409",
         "0.9409",
         "0.9409",
         "0.9489"
        ],
        [
         "29",
         "Random Forest",
         "Thien_uu-8",
         "Basic+Skewness and Kurtosis+GLCM",
         "0.9222",
         "0.9222",
         "0.9222",
         "0.9222",
         "0.9397"
        ],
        [
         "30",
         "K-Nearest Neighbors",
         "Thien_uu-8",
         "Basic+Skewness and Kurtosis+Edge",
         "0.915",
         "0.9161",
         "0.915",
         "0.915",
         "0.9156"
        ],
        [
         "31",
         "Support Vector Machine",
         "Thien_uu-8",
         "Basic+Skewness and Kurtosis+Edge",
         "0.9438",
         "0.9438",
         "0.9438",
         "0.9438",
         "0.9482"
        ],
        [
         "32",
         "Random Forest",
         "Thien_uu-8",
         "Basic+Skewness and Kurtosis+Edge",
         "0.9265",
         "0.9265",
         "0.9265",
         "0.9265",
         "0.9383"
        ],
        [
         "33",
         "K-Nearest Neighbors",
         "Thien_uu-8",
         "Basic+Zernike moments+Hu moments",
         "0.9467",
         "0.9476",
         "0.9467",
         "0.9467",
         "0.9468"
        ],
        [
         "34",
         "Support Vector Machine",
         "Thien_uu-8",
         "Basic+Zernike moments+Hu moments",
         "0.9597",
         "0.9597",
         "0.9597",
         "0.9597",
         "0.9624"
        ],
        [
         "35",
         "Random Forest",
         "Thien_uu-8",
         "Basic+Zernike moments+Hu moments",
         "0.951",
         "0.951",
         "0.951",
         "0.951",
         "0.9546"
        ],
        [
         "36",
         "K-Nearest Neighbors",
         "Thien_uu-8",
         "Basic+Zernike moments+LBP",
         "0.9467",
         "0.9474",
         "0.9467",
         "0.9467",
         "0.9517"
        ],
        [
         "37",
         "Support Vector Machine",
         "Thien_uu-8",
         "Basic+Zernike moments+LBP",
         "0.9568",
         "0.9568",
         "0.9568",
         "0.9568",
         "0.9596"
        ],
        [
         "38",
         "Random Forest",
         "Thien_uu-8",
         "Basic+Zernike moments+LBP",
         "0.951",
         "0.951",
         "0.951",
         "0.951",
         "0.9546"
        ],
        [
         "39",
         "K-Nearest Neighbors",
         "Thien_uu-8",
         "Basic+Zernike moments+GLCM",
         "0.9481",
         "0.9485",
         "0.9481",
         "0.9481",
         "0.9532"
        ],
        [
         "40",
         "Support Vector Machine",
         "Thien_uu-8",
         "Basic+Zernike moments+GLCM",
         "0.9597",
         "0.9597",
         "0.9597",
         "0.9597",
         "0.9631"
        ],
        [
         "41",
         "Random Forest",
         "Thien_uu-8",
         "Basic+Zernike moments+GLCM",
         "0.9496",
         "0.9496",
         "0.9496",
         "0.9496",
         "0.9567"
        ],
        [
         "42",
         "K-Nearest Neighbors",
         "Thien_uu-8",
         "Basic+Zernike moments+Edge",
         "0.9467",
         "0.9474",
         "0.9467",
         "0.9467",
         "0.9525"
        ],
        [
         "43",
         "Support Vector Machine",
         "Thien_uu-8",
         "Basic+Zernike moments+Edge",
         "0.9611",
         "0.9611",
         "0.9611",
         "0.9611",
         "0.9645"
        ],
        [
         "44",
         "Random Forest",
         "Thien_uu-8",
         "Basic+Zernike moments+Edge",
         "0.9539",
         "0.9539",
         "0.9539",
         "0.9539",
         "0.9553"
        ],
        [
         "45",
         "K-Nearest Neighbors",
         "Thien_uu-8",
         "Basic+Hu moments+LBP",
         "0.9337",
         "0.9356",
         "0.9337",
         "0.9337",
         "0.9319"
        ],
        [
         "46",
         "Support Vector Machine",
         "Thien_uu-8",
         "Basic+Hu moments+LBP",
         "0.9481",
         "0.9481",
         "0.9481",
         "0.9481",
         "0.951"
        ],
        [
         "47",
         "Random Forest",
         "Thien_uu-8",
         "Basic+Hu moments+LBP",
         "0.9409",
         "0.941",
         "0.9409",
         "0.9409",
         "0.9482"
        ],
        [
         "48",
         "K-Nearest Neighbors",
         "Thien_uu-8",
         "Basic+Hu moments+GLCM",
         "0.9352",
         "0.9358",
         "0.9352",
         "0.9352",
         "0.9404"
        ],
        [
         "49",
         "Support Vector Machine",
         "Thien_uu-8",
         "Basic+Hu moments+GLCM",
         "0.9539",
         "0.9539",
         "0.9539",
         "0.9539",
         "0.9525"
        ]
       ],
       "shape": {
        "columns": 8,
        "rows": 657
       }
      },
      "text/html": [
       "<div>\n",
       "<style scoped>\n",
       "    .dataframe tbody tr th:only-of-type {\n",
       "        vertical-align: middle;\n",
       "    }\n",
       "\n",
       "    .dataframe tbody tr th {\n",
       "        vertical-align: top;\n",
       "    }\n",
       "\n",
       "    .dataframe thead th {\n",
       "        text-align: right;\n",
       "    }\n",
       "</style>\n",
       "<table border=\"1\" class=\"dataframe\">\n",
       "  <thead>\n",
       "    <tr style=\"text-align: right;\">\n",
       "      <th></th>\n",
       "      <th>Model</th>\n",
       "      <th>Dataset</th>\n",
       "      <th>Feature Combination</th>\n",
       "      <th>Accuracy</th>\n",
       "      <th>Precision</th>\n",
       "      <th>Recall</th>\n",
       "      <th>F1 Score</th>\n",
       "      <th>CV_scores(5fold)</th>\n",
       "    </tr>\n",
       "  </thead>\n",
       "  <tbody>\n",
       "    <tr>\n",
       "      <th>0</th>\n",
       "      <td>K-Nearest Neighbors</td>\n",
       "      <td>Thien_uu-8</td>\n",
       "      <td>Basic+Enhanced Color+Skewness and Kurtosis</td>\n",
       "      <td>0.9179</td>\n",
       "      <td>0.9198</td>\n",
       "      <td>0.9179</td>\n",
       "      <td>0.9178</td>\n",
       "      <td>0.9191</td>\n",
       "    </tr>\n",
       "    <tr>\n",
       "      <th>1</th>\n",
       "      <td>Support Vector Machine</td>\n",
       "      <td>Thien_uu-8</td>\n",
       "      <td>Basic+Enhanced Color+Skewness and Kurtosis</td>\n",
       "      <td>0.9582</td>\n",
       "      <td>0.9583</td>\n",
       "      <td>0.9582</td>\n",
       "      <td>0.9582</td>\n",
       "      <td>0.9517</td>\n",
       "    </tr>\n",
       "    <tr>\n",
       "      <th>2</th>\n",
       "      <td>Random Forest</td>\n",
       "      <td>Thien_uu-8</td>\n",
       "      <td>Basic+Enhanced Color+Skewness and Kurtosis</td>\n",
       "      <td>0.9265</td>\n",
       "      <td>0.9265</td>\n",
       "      <td>0.9265</td>\n",
       "      <td>0.9265</td>\n",
       "      <td>0.9475</td>\n",
       "    </tr>\n",
       "    <tr>\n",
       "      <th>3</th>\n",
       "      <td>K-Nearest Neighbors</td>\n",
       "      <td>Thien_uu-8</td>\n",
       "      <td>Basic+Enhanced Color+Zernike moments</td>\n",
       "      <td>0.9496</td>\n",
       "      <td>0.9505</td>\n",
       "      <td>0.9496</td>\n",
       "      <td>0.9496</td>\n",
       "      <td>0.9574</td>\n",
       "    </tr>\n",
       "    <tr>\n",
       "      <th>4</th>\n",
       "      <td>Support Vector Machine</td>\n",
       "      <td>Thien_uu-8</td>\n",
       "      <td>Basic+Enhanced Color+Zernike moments</td>\n",
       "      <td>0.9625</td>\n",
       "      <td>0.9625</td>\n",
       "      <td>0.9625</td>\n",
       "      <td>0.9625</td>\n",
       "      <td>0.9695</td>\n",
       "    </tr>\n",
       "    <tr>\n",
       "      <th>...</th>\n",
       "      <td>...</td>\n",
       "      <td>...</td>\n",
       "      <td>...</td>\n",
       "      <td>...</td>\n",
       "      <td>...</td>\n",
       "      <td>...</td>\n",
       "      <td>...</td>\n",
       "      <td>...</td>\n",
       "    </tr>\n",
       "    <tr>\n",
       "      <th>652</th>\n",
       "      <td>Support Vector Machine</td>\n",
       "      <td>Thien_uu-8</td>\n",
       "      <td>Enhanced Color+Skewness and Kurtosis+Zernike m...</td>\n",
       "      <td>0.9640</td>\n",
       "      <td>0.9640</td>\n",
       "      <td>0.9640</td>\n",
       "      <td>0.9640</td>\n",
       "      <td>0.9666</td>\n",
       "    </tr>\n",
       "    <tr>\n",
       "      <th>653</th>\n",
       "      <td>Random Forest</td>\n",
       "      <td>Thien_uu-8</td>\n",
       "      <td>Enhanced Color+Skewness and Kurtosis+Zernike m...</td>\n",
       "      <td>0.9510</td>\n",
       "      <td>0.9511</td>\n",
       "      <td>0.9510</td>\n",
       "      <td>0.9510</td>\n",
       "      <td>0.9588</td>\n",
       "    </tr>\n",
       "    <tr>\n",
       "      <th>654</th>\n",
       "      <td>K-Nearest Neighbors</td>\n",
       "      <td>Thien_uu-8</td>\n",
       "      <td>Basic+Enhanced Color+Skewness and Kurtosis+Zer...</td>\n",
       "      <td>0.9496</td>\n",
       "      <td>0.9502</td>\n",
       "      <td>0.9496</td>\n",
       "      <td>0.9496</td>\n",
       "      <td>0.9553</td>\n",
       "    </tr>\n",
       "    <tr>\n",
       "      <th>655</th>\n",
       "      <td>Support Vector Machine</td>\n",
       "      <td>Thien_uu-8</td>\n",
       "      <td>Basic+Enhanced Color+Skewness and Kurtosis+Zer...</td>\n",
       "      <td>0.9640</td>\n",
       "      <td>0.9640</td>\n",
       "      <td>0.9640</td>\n",
       "      <td>0.9640</td>\n",
       "      <td>0.9688</td>\n",
       "    </tr>\n",
       "    <tr>\n",
       "      <th>656</th>\n",
       "      <td>Random Forest</td>\n",
       "      <td>Thien_uu-8</td>\n",
       "      <td>Basic+Enhanced Color+Skewness and Kurtosis+Zer...</td>\n",
       "      <td>0.9539</td>\n",
       "      <td>0.9539</td>\n",
       "      <td>0.9539</td>\n",
       "      <td>0.9539</td>\n",
       "      <td>0.9603</td>\n",
       "    </tr>\n",
       "  </tbody>\n",
       "</table>\n",
       "<p>657 rows × 8 columns</p>\n",
       "</div>"
      ],
      "text/plain": [
       "                      Model     Dataset  \\\n",
       "0       K-Nearest Neighbors  Thien_uu-8   \n",
       "1    Support Vector Machine  Thien_uu-8   \n",
       "2             Random Forest  Thien_uu-8   \n",
       "3       K-Nearest Neighbors  Thien_uu-8   \n",
       "4    Support Vector Machine  Thien_uu-8   \n",
       "..                      ...         ...   \n",
       "652  Support Vector Machine  Thien_uu-8   \n",
       "653           Random Forest  Thien_uu-8   \n",
       "654     K-Nearest Neighbors  Thien_uu-8   \n",
       "655  Support Vector Machine  Thien_uu-8   \n",
       "656           Random Forest  Thien_uu-8   \n",
       "\n",
       "                                   Feature Combination  Accuracy  Precision  \\\n",
       "0           Basic+Enhanced Color+Skewness and Kurtosis    0.9179     0.9198   \n",
       "1           Basic+Enhanced Color+Skewness and Kurtosis    0.9582     0.9583   \n",
       "2           Basic+Enhanced Color+Skewness and Kurtosis    0.9265     0.9265   \n",
       "3                 Basic+Enhanced Color+Zernike moments    0.9496     0.9505   \n",
       "4                 Basic+Enhanced Color+Zernike moments    0.9625     0.9625   \n",
       "..                                                 ...       ...        ...   \n",
       "652  Enhanced Color+Skewness and Kurtosis+Zernike m...    0.9640     0.9640   \n",
       "653  Enhanced Color+Skewness and Kurtosis+Zernike m...    0.9510     0.9511   \n",
       "654  Basic+Enhanced Color+Skewness and Kurtosis+Zer...    0.9496     0.9502   \n",
       "655  Basic+Enhanced Color+Skewness and Kurtosis+Zer...    0.9640     0.9640   \n",
       "656  Basic+Enhanced Color+Skewness and Kurtosis+Zer...    0.9539     0.9539   \n",
       "\n",
       "     Recall  F1 Score  CV_scores(5fold)  \n",
       "0    0.9179    0.9178            0.9191  \n",
       "1    0.9582    0.9582            0.9517  \n",
       "2    0.9265    0.9265            0.9475  \n",
       "3    0.9496    0.9496            0.9574  \n",
       "4    0.9625    0.9625            0.9695  \n",
       "..      ...       ...               ...  \n",
       "652  0.9640    0.9640            0.9666  \n",
       "653  0.9510    0.9510            0.9588  \n",
       "654  0.9496    0.9496            0.9553  \n",
       "655  0.9640    0.9640            0.9688  \n",
       "656  0.9539    0.9539            0.9603  \n",
       "\n",
       "[657 rows x 8 columns]"
      ]
     },
     "execution_count": 86,
     "metadata": {},
     "output_type": "execute_result"
    }
   ],
   "source": [
    "results_df"
   ]
  },
  {
   "cell_type": "code",
   "execution_count": 91,
   "metadata": {},
   "outputs": [],
   "source": [
    "results_df.to_csv('new_data_test_Xi-23.csv', index=False)"
   ]
  },
  {
   "cell_type": "code",
   "execution_count": 56,
   "metadata": {},
   "outputs": [
    {
     "data": {
      "application/vnd.microsoft.datawrangler.viewer.v0+json": {
       "columns": [
        {
         "name": "index",
         "rawType": "int64",
         "type": "integer"
        },
        {
         "name": "Model",
         "rawType": "object",
         "type": "string"
        },
        {
         "name": "Dataset",
         "rawType": "object",
         "type": "string"
        },
        {
         "name": "Feature Combination",
         "rawType": "object",
         "type": "string"
        },
        {
         "name": "Accuracy",
         "rawType": "float64",
         "type": "float"
        },
        {
         "name": "Precision",
         "rawType": "float64",
         "type": "float"
        },
        {
         "name": "Recall",
         "rawType": "float64",
         "type": "float"
        },
        {
         "name": "F1 Score",
         "rawType": "float64",
         "type": "float"
        },
        {
         "name": "CV_scores(5fold)",
         "rawType": "float64",
         "type": "float"
        }
       ],
       "conversionMethod": "pd.DataFrame",
       "ref": "ae9e8b85-3d7b-4f23-a4aa-b37e2eb46f75",
       "rows": [
        [
         "0",
         "K-Nearest Neighbors",
         "Q-5",
         "Basic+Enhanced Color+Skewness and Kurtosis",
         "0.8971",
         "0.9009",
         "0.8971",
         "0.897",
         "0.888"
        ],
        [
         "1",
         "Support Vector Machine",
         "Q-5",
         "Basic+Enhanced Color+Skewness and Kurtosis",
         "0.9355",
         "0.9355",
         "0.9355",
         "0.9355",
         "0.9315"
        ],
        [
         "2",
         "Random Forest",
         "Q-5",
         "Basic+Enhanced Color+Skewness and Kurtosis",
         "0.9293",
         "0.9294",
         "0.9293",
         "0.9293",
         "0.9201"
        ],
        [
         "3",
         "K-Nearest Neighbors",
         "Q-5",
         "Basic+Enhanced Color+Zernike moments",
         "0.9355",
         "0.9369",
         "0.9355",
         "0.9355",
         "0.922"
        ],
        [
         "4",
         "Support Vector Machine",
         "Q-5",
         "Basic+Enhanced Color+Zernike moments",
         "0.9493",
         "0.9494",
         "0.9493",
         "0.9493",
         "0.9394"
        ],
        [
         "5",
         "Random Forest",
         "Q-5",
         "Basic+Enhanced Color+Zernike moments",
         "0.9263",
         "0.9263",
         "0.9263",
         "0.9263",
         "0.9254"
        ],
        [
         "6",
         "K-Nearest Neighbors",
         "Q-5",
         "Basic+Enhanced Color+Hu moments",
         "0.9194",
         "0.9228",
         "0.9194",
         "0.9193",
         "0.9069"
        ],
        [
         "7",
         "Support Vector Machine",
         "Q-5",
         "Basic+Enhanced Color+Hu moments",
         "0.9409",
         "0.9409",
         "0.9409",
         "0.9409",
         "0.9368"
        ],
        [
         "8",
         "Random Forest",
         "Q-5",
         "Basic+Enhanced Color+Hu moments",
         "0.927",
         "0.927",
         "0.927",
         "0.927",
         "0.9194"
        ],
        [
         "9",
         "K-Nearest Neighbors",
         "Q-5",
         "Basic+Enhanced Color+LBP",
         "0.9017",
         "0.9053",
         "0.9017",
         "0.9016",
         "0.8929"
        ],
        [
         "10",
         "Support Vector Machine",
         "Q-5",
         "Basic+Enhanced Color+LBP",
         "0.9263",
         "0.9264",
         "0.9263",
         "0.9263",
         "0.9262"
        ],
        [
         "11",
         "Random Forest",
         "Q-5",
         "Basic+Enhanced Color+LBP",
         "0.9224",
         "0.9225",
         "0.9224",
         "0.9224",
         "0.9201"
        ],
        [
         "12",
         "K-Nearest Neighbors",
         "Q-5",
         "Basic+Enhanced Color+GLCM",
         "0.9086",
         "0.9146",
         "0.9086",
         "0.9084",
         "0.9001"
        ],
        [
         "13",
         "Support Vector Machine",
         "Q-5",
         "Basic+Enhanced Color+GLCM",
         "0.9363",
         "0.9365",
         "0.9363",
         "0.9363",
         "0.9247"
        ],
        [
         "14",
         "Random Forest",
         "Q-5",
         "Basic+Enhanced Color+GLCM",
         "0.9255",
         "0.9255",
         "0.9255",
         "0.9255",
         "0.9232"
        ],
        [
         "15",
         "K-Nearest Neighbors",
         "Q-5",
         "Basic+Enhanced Color+Edge",
         "0.9163",
         "0.9188",
         "0.9163",
         "0.9162",
         "0.9001"
        ],
        [
         "16",
         "Support Vector Machine",
         "Q-5",
         "Basic+Enhanced Color+Edge",
         "0.9339",
         "0.9341",
         "0.9339",
         "0.934",
         "0.9281"
        ],
        [
         "17",
         "Random Forest",
         "Q-5",
         "Basic+Enhanced Color+Edge",
         "0.9247",
         "0.9248",
         "0.9247",
         "0.9247",
         "0.922"
        ],
        [
         "18",
         "K-Nearest Neighbors",
         "Q-5",
         "Basic+Skewness and Kurtosis+Zernike moments",
         "0.9209",
         "0.9229",
         "0.9209",
         "0.9209",
         "0.9035"
        ],
        [
         "19",
         "Support Vector Machine",
         "Q-5",
         "Basic+Skewness and Kurtosis+Zernike moments",
         "0.9478",
         "0.9479",
         "0.9478",
         "0.9478",
         "0.9391"
        ],
        [
         "20",
         "Random Forest",
         "Q-5",
         "Basic+Skewness and Kurtosis+Zernike moments",
         "0.9232",
         "0.9232",
         "0.9232",
         "0.9232",
         "0.9114"
        ],
        [
         "21",
         "K-Nearest Neighbors",
         "Q-5",
         "Basic+Skewness and Kurtosis+Hu moments",
         "0.9078",
         "0.9134",
         "0.9078",
         "0.9077",
         "0.894"
        ],
        [
         "22",
         "Support Vector Machine",
         "Q-5",
         "Basic+Skewness and Kurtosis+Hu moments",
         "0.9332",
         "0.9339",
         "0.9332",
         "0.9332",
         "0.9338"
        ],
        [
         "23",
         "Random Forest",
         "Q-5",
         "Basic+Skewness and Kurtosis+Hu moments",
         "0.9217",
         "0.9218",
         "0.9217",
         "0.9217",
         "0.9084"
        ],
        [
         "24",
         "K-Nearest Neighbors",
         "Q-5",
         "Basic+Skewness and Kurtosis+LBP",
         "0.8771",
         "0.8832",
         "0.8771",
         "0.8768",
         "0.8785"
        ],
        [
         "25",
         "Support Vector Machine",
         "Q-5",
         "Basic+Skewness and Kurtosis+LBP",
         "0.9293",
         "0.93",
         "0.9293",
         "0.9293",
         "0.9198"
        ],
        [
         "26",
         "Random Forest",
         "Q-5",
         "Basic+Skewness and Kurtosis+LBP",
         "0.9109",
         "0.9113",
         "0.9109",
         "0.9109",
         "0.9016"
        ],
        [
         "27",
         "K-Nearest Neighbors",
         "Q-5",
         "Basic+Skewness and Kurtosis+GLCM",
         "0.894",
         "0.9013",
         "0.894",
         "0.8937",
         "0.8834"
        ],
        [
         "28",
         "Support Vector Machine",
         "Q-5",
         "Basic+Skewness and Kurtosis+GLCM",
         "0.9278",
         "0.9285",
         "0.9278",
         "0.9278",
         "0.9311"
        ],
        [
         "29",
         "Random Forest",
         "Q-5",
         "Basic+Skewness and Kurtosis+GLCM",
         "0.9209",
         "0.9212",
         "0.9209",
         "0.9209",
         "0.9095"
        ],
        [
         "30",
         "K-Nearest Neighbors",
         "Q-5",
         "Basic+Skewness and Kurtosis+Edge",
         "0.8917",
         "0.8954",
         "0.8917",
         "0.8916",
         "0.888"
        ],
        [
         "31",
         "Support Vector Machine",
         "Q-5",
         "Basic+Skewness and Kurtosis+Edge",
         "0.927",
         "0.9272",
         "0.927",
         "0.927",
         "0.9247"
        ],
        [
         "32",
         "Random Forest",
         "Q-5",
         "Basic+Skewness and Kurtosis+Edge",
         "0.9163",
         "0.9169",
         "0.9163",
         "0.9163",
         "0.9069"
        ],
        [
         "33",
         "K-Nearest Neighbors",
         "Q-5",
         "Basic+Zernike moments+Hu moments",
         "0.9194",
         "0.9208",
         "0.9194",
         "0.9193",
         "0.9092"
        ],
        [
         "34",
         "Support Vector Machine",
         "Q-5",
         "Basic+Zernike moments+Hu moments",
         "0.9409",
         "0.9411",
         "0.9409",
         "0.9409",
         "0.9338"
        ],
        [
         "35",
         "Random Forest",
         "Q-5",
         "Basic+Zernike moments+Hu moments",
         "0.9209",
         "0.9209",
         "0.9209",
         "0.9209",
         "0.913"
        ],
        [
         "36",
         "K-Nearest Neighbors",
         "Q-5",
         "Basic+Zernike moments+LBP",
         "0.9247",
         "0.9263",
         "0.9247",
         "0.9247",
         "0.9126"
        ],
        [
         "37",
         "Support Vector Machine",
         "Q-5",
         "Basic+Zernike moments+LBP",
         "0.947",
         "0.9475",
         "0.947",
         "0.947",
         "0.9398"
        ],
        [
         "38",
         "Random Forest",
         "Q-5",
         "Basic+Zernike moments+LBP",
         "0.9209",
         "0.9209",
         "0.9209",
         "0.9209",
         "0.9126"
        ],
        [
         "39",
         "K-Nearest Neighbors",
         "Q-5",
         "Basic+Zernike moments+GLCM",
         "0.9263",
         "0.9283",
         "0.9263",
         "0.9262",
         "0.9152"
        ],
        [
         "40",
         "Support Vector Machine",
         "Q-5",
         "Basic+Zernike moments+GLCM",
         "0.9432",
         "0.9435",
         "0.9432",
         "0.9432",
         "0.944"
        ],
        [
         "41",
         "Random Forest",
         "Q-5",
         "Basic+Zernike moments+GLCM",
         "0.9232",
         "0.9233",
         "0.9232",
         "0.9232",
         "0.9171"
        ],
        [
         "42",
         "K-Nearest Neighbors",
         "Q-5",
         "Basic+Zernike moments+Edge",
         "0.9224",
         "0.9229",
         "0.9224",
         "0.9224",
         "0.9122"
        ],
        [
         "43",
         "Support Vector Machine",
         "Q-5",
         "Basic+Zernike moments+Edge",
         "0.9432",
         "0.9432",
         "0.9432",
         "0.9432",
         "0.9376"
        ],
        [
         "44",
         "Random Forest",
         "Q-5",
         "Basic+Zernike moments+Edge",
         "0.9217",
         "0.9217",
         "0.9217",
         "0.9217",
         "0.916"
        ],
        [
         "45",
         "K-Nearest Neighbors",
         "Q-5",
         "Basic+Hu moments+LBP",
         "0.8978",
         "0.9038",
         "0.8978",
         "0.8976",
         "0.894"
        ],
        [
         "46",
         "Support Vector Machine",
         "Q-5",
         "Basic+Hu moments+LBP",
         "0.9339",
         "0.9348",
         "0.9339",
         "0.934",
         "0.9213"
        ],
        [
         "47",
         "Random Forest",
         "Q-5",
         "Basic+Hu moments+LBP",
         "0.9194",
         "0.9196",
         "0.9194",
         "0.9194",
         "0.9054"
        ],
        [
         "48",
         "K-Nearest Neighbors",
         "Q-5",
         "Basic+Hu moments+GLCM",
         "0.8971",
         "0.9051",
         "0.8971",
         "0.8968",
         "0.8876"
        ],
        [
         "49",
         "Support Vector Machine",
         "Q-5",
         "Basic+Hu moments+GLCM",
         "0.9347",
         "0.9358",
         "0.9347",
         "0.9347",
         "0.927"
        ]
       ],
       "shape": {
        "columns": 8,
        "rows": 657
       }
      },
      "text/html": [
       "<div>\n",
       "<style scoped>\n",
       "    .dataframe tbody tr th:only-of-type {\n",
       "        vertical-align: middle;\n",
       "    }\n",
       "\n",
       "    .dataframe tbody tr th {\n",
       "        vertical-align: top;\n",
       "    }\n",
       "\n",
       "    .dataframe thead th {\n",
       "        text-align: right;\n",
       "    }\n",
       "</style>\n",
       "<table border=\"1\" class=\"dataframe\">\n",
       "  <thead>\n",
       "    <tr style=\"text-align: right;\">\n",
       "      <th></th>\n",
       "      <th>Model</th>\n",
       "      <th>Dataset</th>\n",
       "      <th>Feature Combination</th>\n",
       "      <th>Accuracy</th>\n",
       "      <th>Precision</th>\n",
       "      <th>Recall</th>\n",
       "      <th>F1 Score</th>\n",
       "      <th>CV_scores(5fold)</th>\n",
       "    </tr>\n",
       "  </thead>\n",
       "  <tbody>\n",
       "    <tr>\n",
       "      <th>0</th>\n",
       "      <td>K-Nearest Neighbors</td>\n",
       "      <td>Q-5</td>\n",
       "      <td>Basic+Enhanced Color+Skewness and Kurtosis</td>\n",
       "      <td>0.8971</td>\n",
       "      <td>0.9009</td>\n",
       "      <td>0.8971</td>\n",
       "      <td>0.8970</td>\n",
       "      <td>0.8880</td>\n",
       "    </tr>\n",
       "    <tr>\n",
       "      <th>1</th>\n",
       "      <td>Support Vector Machine</td>\n",
       "      <td>Q-5</td>\n",
       "      <td>Basic+Enhanced Color+Skewness and Kurtosis</td>\n",
       "      <td>0.9355</td>\n",
       "      <td>0.9355</td>\n",
       "      <td>0.9355</td>\n",
       "      <td>0.9355</td>\n",
       "      <td>0.9315</td>\n",
       "    </tr>\n",
       "    <tr>\n",
       "      <th>2</th>\n",
       "      <td>Random Forest</td>\n",
       "      <td>Q-5</td>\n",
       "      <td>Basic+Enhanced Color+Skewness and Kurtosis</td>\n",
       "      <td>0.9293</td>\n",
       "      <td>0.9294</td>\n",
       "      <td>0.9293</td>\n",
       "      <td>0.9293</td>\n",
       "      <td>0.9201</td>\n",
       "    </tr>\n",
       "    <tr>\n",
       "      <th>3</th>\n",
       "      <td>K-Nearest Neighbors</td>\n",
       "      <td>Q-5</td>\n",
       "      <td>Basic+Enhanced Color+Zernike moments</td>\n",
       "      <td>0.9355</td>\n",
       "      <td>0.9369</td>\n",
       "      <td>0.9355</td>\n",
       "      <td>0.9355</td>\n",
       "      <td>0.9220</td>\n",
       "    </tr>\n",
       "    <tr>\n",
       "      <th>4</th>\n",
       "      <td>Support Vector Machine</td>\n",
       "      <td>Q-5</td>\n",
       "      <td>Basic+Enhanced Color+Zernike moments</td>\n",
       "      <td>0.9493</td>\n",
       "      <td>0.9494</td>\n",
       "      <td>0.9493</td>\n",
       "      <td>0.9493</td>\n",
       "      <td>0.9394</td>\n",
       "    </tr>\n",
       "    <tr>\n",
       "      <th>...</th>\n",
       "      <td>...</td>\n",
       "      <td>...</td>\n",
       "      <td>...</td>\n",
       "      <td>...</td>\n",
       "      <td>...</td>\n",
       "      <td>...</td>\n",
       "      <td>...</td>\n",
       "      <td>...</td>\n",
       "    </tr>\n",
       "    <tr>\n",
       "      <th>652</th>\n",
       "      <td>Support Vector Machine</td>\n",
       "      <td>Q-5</td>\n",
       "      <td>Enhanced Color+Skewness and Kurtosis+Zernike m...</td>\n",
       "      <td>0.9485</td>\n",
       "      <td>0.9486</td>\n",
       "      <td>0.9485</td>\n",
       "      <td>0.9485</td>\n",
       "      <td>0.9410</td>\n",
       "    </tr>\n",
       "    <tr>\n",
       "      <th>653</th>\n",
       "      <td>Random Forest</td>\n",
       "      <td>Q-5</td>\n",
       "      <td>Enhanced Color+Skewness and Kurtosis+Zernike m...</td>\n",
       "      <td>0.9178</td>\n",
       "      <td>0.9178</td>\n",
       "      <td>0.9178</td>\n",
       "      <td>0.9178</td>\n",
       "      <td>0.9217</td>\n",
       "    </tr>\n",
       "    <tr>\n",
       "      <th>654</th>\n",
       "      <td>K-Nearest Neighbors</td>\n",
       "      <td>Q-5</td>\n",
       "      <td>Basic+Enhanced Color+Skewness and Kurtosis+Zer...</td>\n",
       "      <td>0.9224</td>\n",
       "      <td>0.9266</td>\n",
       "      <td>0.9224</td>\n",
       "      <td>0.9223</td>\n",
       "      <td>0.9095</td>\n",
       "    </tr>\n",
       "    <tr>\n",
       "      <th>655</th>\n",
       "      <td>Support Vector Machine</td>\n",
       "      <td>Q-5</td>\n",
       "      <td>Basic+Enhanced Color+Skewness and Kurtosis+Zer...</td>\n",
       "      <td>0.9524</td>\n",
       "      <td>0.9524</td>\n",
       "      <td>0.9524</td>\n",
       "      <td>0.9524</td>\n",
       "      <td>0.9432</td>\n",
       "    </tr>\n",
       "    <tr>\n",
       "      <th>656</th>\n",
       "      <td>Random Forest</td>\n",
       "      <td>Q-5</td>\n",
       "      <td>Basic+Enhanced Color+Skewness and Kurtosis+Zer...</td>\n",
       "      <td>0.9247</td>\n",
       "      <td>0.9247</td>\n",
       "      <td>0.9247</td>\n",
       "      <td>0.9247</td>\n",
       "      <td>0.9258</td>\n",
       "    </tr>\n",
       "  </tbody>\n",
       "</table>\n",
       "<p>657 rows × 8 columns</p>\n",
       "</div>"
      ],
      "text/plain": [
       "                      Model Dataset  \\\n",
       "0       K-Nearest Neighbors     Q-5   \n",
       "1    Support Vector Machine     Q-5   \n",
       "2             Random Forest     Q-5   \n",
       "3       K-Nearest Neighbors     Q-5   \n",
       "4    Support Vector Machine     Q-5   \n",
       "..                      ...     ...   \n",
       "652  Support Vector Machine     Q-5   \n",
       "653           Random Forest     Q-5   \n",
       "654     K-Nearest Neighbors     Q-5   \n",
       "655  Support Vector Machine     Q-5   \n",
       "656           Random Forest     Q-5   \n",
       "\n",
       "                                   Feature Combination  Accuracy  Precision  \\\n",
       "0           Basic+Enhanced Color+Skewness and Kurtosis    0.8971     0.9009   \n",
       "1           Basic+Enhanced Color+Skewness and Kurtosis    0.9355     0.9355   \n",
       "2           Basic+Enhanced Color+Skewness and Kurtosis    0.9293     0.9294   \n",
       "3                 Basic+Enhanced Color+Zernike moments    0.9355     0.9369   \n",
       "4                 Basic+Enhanced Color+Zernike moments    0.9493     0.9494   \n",
       "..                                                 ...       ...        ...   \n",
       "652  Enhanced Color+Skewness and Kurtosis+Zernike m...    0.9485     0.9486   \n",
       "653  Enhanced Color+Skewness and Kurtosis+Zernike m...    0.9178     0.9178   \n",
       "654  Basic+Enhanced Color+Skewness and Kurtosis+Zer...    0.9224     0.9266   \n",
       "655  Basic+Enhanced Color+Skewness and Kurtosis+Zer...    0.9524     0.9524   \n",
       "656  Basic+Enhanced Color+Skewness and Kurtosis+Zer...    0.9247     0.9247   \n",
       "\n",
       "     Recall  F1 Score  CV_scores(5fold)  \n",
       "0    0.8971    0.8970            0.8880  \n",
       "1    0.9355    0.9355            0.9315  \n",
       "2    0.9293    0.9293            0.9201  \n",
       "3    0.9355    0.9355            0.9220  \n",
       "4    0.9493    0.9493            0.9394  \n",
       "..      ...       ...               ...  \n",
       "652  0.9485    0.9485            0.9410  \n",
       "653  0.9178    0.9178            0.9217  \n",
       "654  0.9224    0.9223            0.9095  \n",
       "655  0.9524    0.9524            0.9432  \n",
       "656  0.9247    0.9247            0.9258  \n",
       "\n",
       "[657 rows x 8 columns]"
      ]
     },
     "execution_count": 56,
     "metadata": {},
     "output_type": "execute_result"
    }
   ],
   "source": [
    "results_df"
   ]
  },
  {
   "cell_type": "code",
   "execution_count": 12,
   "metadata": {},
   "outputs": [],
   "source": [
    "for data in datasets:\n",
    "    df=pd.read_csv(f'/home/duyle/Rice_photos/features_extracted/moments/all_with_zernike_pluscolor_enahnced_{data}.csv')\n",
    "    for feature_combo in feature_combinations:\n",
    "        selected_features = []\n",
    "        \n",
    "        # Combine selected feature groups\n",
    "        for group in feature_combo:\n",
    "            selected_features.extend(feature_groups[group])\n",
    "\n",
    "        # Ensure 'Label' column is included\n",
    "        df_selected = df[selected_features + [\"Label\"]]\n",
    "\n",
    "        X = df_selected.drop(columns=['Label'])\n",
    "        y = df_selected['Label']\n",
    "\n",
    "        # Normalize the features\n",
    "        scaler = StandardScaler()\n",
    "        X_scaled = scaler.fit_transform(X)\n",
    "\n",
    "        X_train, X_test, y_train, y_test = train_test_split(X_scaled, y, test_size=0.33, random_state=42, stratify=y)\n",
    "\n",
    "\n",
    "        for name, model in models.items():\n",
    "            model.fit(X_train, y_train)\n",
    "            y_pred = model.predict(X_test)\n",
    "\n",
    "            accuracy = accuracy_score(y_test, y_pred)\n",
    "            precision = precision_score(y_test, y_pred, average='weighted')\n",
    "            recall = recall_score(y_test, y_pred, average='weighted')\n",
    "            f1 = f1_score(y_test, y_pred, average='weighted')\n",
    "            cv_scores = cross_val_score(model, X_train, y_train, cv=5, scoring='accuracy')\n",
    "\n",
    "            all_results.append({\n",
    "                \"Model\": name,\n",
    "                \"Dataset\": data,\n",
    "                \"Feature Combination\": \"+\".join(feature_combo),\n",
    "                \"Accuracy\": accuracy,\n",
    "                \"Precision\": precision,\n",
    "                \"Recall\": recall,\n",
    "                \"F1 Score\": f1,\n",
    "                \"CV_scores(5fold)\": np.mean(cv_scores)\n",
    "            })\n",
    "\n",
    "\n",
    "\n"
   ]
  },
  {
   "cell_type": "code",
   "execution_count": 13,
   "metadata": {},
   "outputs": [
    {
     "data": {
      "text/html": [
       "<div>\n",
       "<style scoped>\n",
       "    .dataframe tbody tr th:only-of-type {\n",
       "        vertical-align: middle;\n",
       "    }\n",
       "\n",
       "    .dataframe tbody tr th {\n",
       "        vertical-align: top;\n",
       "    }\n",
       "\n",
       "    .dataframe thead th {\n",
       "        text-align: right;\n",
       "    }\n",
       "</style>\n",
       "<table border=\"1\" class=\"dataframe\">\n",
       "  <thead>\n",
       "    <tr style=\"text-align: right;\">\n",
       "      <th></th>\n",
       "      <th>Model</th>\n",
       "      <th>Dataset</th>\n",
       "      <th>Feature Combination</th>\n",
       "      <th>Accuracy</th>\n",
       "      <th>Precision</th>\n",
       "      <th>Recall</th>\n",
       "      <th>F1 Score</th>\n",
       "      <th>CV_scores(5fold)</th>\n",
       "    </tr>\n",
       "  </thead>\n",
       "  <tbody>\n",
       "    <tr>\n",
       "      <th>0</th>\n",
       "      <td>K-Nearest Neighbors</td>\n",
       "      <td>BC-15</td>\n",
       "      <td>Basic</td>\n",
       "      <td>0.851730</td>\n",
       "      <td>0.864166</td>\n",
       "      <td>0.851730</td>\n",
       "      <td>0.850480</td>\n",
       "      <td>0.845304</td>\n",
       "    </tr>\n",
       "    <tr>\n",
       "      <th>1</th>\n",
       "      <td>Support Vector Machine</td>\n",
       "      <td>BC-15</td>\n",
       "      <td>Basic</td>\n",
       "      <td>0.902801</td>\n",
       "      <td>0.908246</td>\n",
       "      <td>0.902801</td>\n",
       "      <td>0.902486</td>\n",
       "      <td>0.895244</td>\n",
       "    </tr>\n",
       "    <tr>\n",
       "      <th>2</th>\n",
       "      <td>Random Forest</td>\n",
       "      <td>BC-15</td>\n",
       "      <td>Basic</td>\n",
       "      <td>0.876442</td>\n",
       "      <td>0.880430</td>\n",
       "      <td>0.876442</td>\n",
       "      <td>0.876129</td>\n",
       "      <td>0.862767</td>\n",
       "    </tr>\n",
       "    <tr>\n",
       "      <th>3</th>\n",
       "      <td>K-Nearest Neighbors</td>\n",
       "      <td>BC-15</td>\n",
       "      <td>Enhanced Color</td>\n",
       "      <td>0.742998</td>\n",
       "      <td>0.743057</td>\n",
       "      <td>0.742998</td>\n",
       "      <td>0.742977</td>\n",
       "      <td>0.744211</td>\n",
       "    </tr>\n",
       "    <tr>\n",
       "      <th>4</th>\n",
       "      <td>Support Vector Machine</td>\n",
       "      <td>BC-15</td>\n",
       "      <td>Enhanced Color</td>\n",
       "      <td>0.784185</td>\n",
       "      <td>0.784445</td>\n",
       "      <td>0.784185</td>\n",
       "      <td>0.784142</td>\n",
       "      <td>0.792536</td>\n",
       "    </tr>\n",
       "    <tr>\n",
       "      <th>...</th>\n",
       "      <td>...</td>\n",
       "      <td>...</td>\n",
       "      <td>...</td>\n",
       "      <td>...</td>\n",
       "      <td>...</td>\n",
       "      <td>...</td>\n",
       "      <td>...</td>\n",
       "      <td>...</td>\n",
       "    </tr>\n",
       "    <tr>\n",
       "      <th>1129</th>\n",
       "      <td>Support Vector Machine</td>\n",
       "      <td>Xi23</td>\n",
       "      <td>Enhanced Color+Zernike moments+LBP+GLCM+GIST</td>\n",
       "      <td>0.924708</td>\n",
       "      <td>0.925240</td>\n",
       "      <td>0.924708</td>\n",
       "      <td>0.924553</td>\n",
       "      <td>0.924746</td>\n",
       "    </tr>\n",
       "    <tr>\n",
       "      <th>1130</th>\n",
       "      <td>Random Forest</td>\n",
       "      <td>Xi23</td>\n",
       "      <td>Enhanced Color+Zernike moments+LBP+GLCM+GIST</td>\n",
       "      <td>0.919591</td>\n",
       "      <td>0.919725</td>\n",
       "      <td>0.919591</td>\n",
       "      <td>0.919497</td>\n",
       "      <td>0.912134</td>\n",
       "    </tr>\n",
       "    <tr>\n",
       "      <th>1131</th>\n",
       "      <td>K-Nearest Neighbors</td>\n",
       "      <td>Xi23</td>\n",
       "      <td>Basic+Enhanced Color+Zernike moments+LBP+GLCM+...</td>\n",
       "      <td>0.845760</td>\n",
       "      <td>0.859580</td>\n",
       "      <td>0.845760</td>\n",
       "      <td>0.842777</td>\n",
       "      <td>0.847668</td>\n",
       "    </tr>\n",
       "    <tr>\n",
       "      <th>1132</th>\n",
       "      <td>Support Vector Machine</td>\n",
       "      <td>Xi23</td>\n",
       "      <td>Basic+Enhanced Color+Zernike moments+LBP+GLCM+...</td>\n",
       "      <td>0.929825</td>\n",
       "      <td>0.930104</td>\n",
       "      <td>0.929825</td>\n",
       "      <td>0.929721</td>\n",
       "      <td>0.929424</td>\n",
       "    </tr>\n",
       "    <tr>\n",
       "      <th>1133</th>\n",
       "      <td>Random Forest</td>\n",
       "      <td>Xi23</td>\n",
       "      <td>Basic+Enhanced Color+Zernike moments+LBP+GLCM+...</td>\n",
       "      <td>0.924708</td>\n",
       "      <td>0.924772</td>\n",
       "      <td>0.924708</td>\n",
       "      <td>0.924727</td>\n",
       "      <td>0.922574</td>\n",
       "    </tr>\n",
       "  </tbody>\n",
       "</table>\n",
       "<p>1134 rows × 8 columns</p>\n",
       "</div>"
      ],
      "text/plain": [
       "                       Model Dataset  \\\n",
       "0        K-Nearest Neighbors   BC-15   \n",
       "1     Support Vector Machine   BC-15   \n",
       "2              Random Forest   BC-15   \n",
       "3        K-Nearest Neighbors   BC-15   \n",
       "4     Support Vector Machine   BC-15   \n",
       "...                      ...     ...   \n",
       "1129  Support Vector Machine    Xi23   \n",
       "1130           Random Forest    Xi23   \n",
       "1131     K-Nearest Neighbors    Xi23   \n",
       "1132  Support Vector Machine    Xi23   \n",
       "1133           Random Forest    Xi23   \n",
       "\n",
       "                                    Feature Combination  Accuracy  Precision  \\\n",
       "0                                                 Basic  0.851730   0.864166   \n",
       "1                                                 Basic  0.902801   0.908246   \n",
       "2                                                 Basic  0.876442   0.880430   \n",
       "3                                        Enhanced Color  0.742998   0.743057   \n",
       "4                                        Enhanced Color  0.784185   0.784445   \n",
       "...                                                 ...       ...        ...   \n",
       "1129       Enhanced Color+Zernike moments+LBP+GLCM+GIST  0.924708   0.925240   \n",
       "1130       Enhanced Color+Zernike moments+LBP+GLCM+GIST  0.919591   0.919725   \n",
       "1131  Basic+Enhanced Color+Zernike moments+LBP+GLCM+...  0.845760   0.859580   \n",
       "1132  Basic+Enhanced Color+Zernike moments+LBP+GLCM+...  0.929825   0.930104   \n",
       "1133  Basic+Enhanced Color+Zernike moments+LBP+GLCM+...  0.924708   0.924772   \n",
       "\n",
       "        Recall  F1 Score  CV_scores(5fold)  \n",
       "0     0.851730  0.850480          0.845304  \n",
       "1     0.902801  0.902486          0.895244  \n",
       "2     0.876442  0.876129          0.862767  \n",
       "3     0.742998  0.742977          0.744211  \n",
       "4     0.784185  0.784142          0.792536  \n",
       "...        ...       ...               ...  \n",
       "1129  0.924708  0.924553          0.924746  \n",
       "1130  0.919591  0.919497          0.912134  \n",
       "1131  0.845760  0.842777          0.847668  \n",
       "1132  0.929825  0.929721          0.929424  \n",
       "1133  0.924708  0.924727          0.922574  \n",
       "\n",
       "[1134 rows x 8 columns]"
      ]
     },
     "execution_count": 13,
     "metadata": {},
     "output_type": "execute_result"
    }
   ],
   "source": [
    "res_df = pd.DataFrame(all_results)\n",
    "res_df"
   ]
  },
  {
   "cell_type": "code",
   "execution_count": 14,
   "metadata": {},
   "outputs": [],
   "source": [
    "res_df.to_csv('tested_all_2.csv',index=False)"
   ]
  },
  {
   "cell_type": "code",
   "execution_count": 45,
   "metadata": {},
   "outputs": [],
   "source": [
    "res_df.to_csv('tested_all.csv',index=False)"
   ]
  },
  {
   "cell_type": "code",
   "execution_count": 31,
   "metadata": {},
   "outputs": [
    {
     "data": {
      "text/html": [
       "<div>\n",
       "<style scoped>\n",
       "    .dataframe tbody tr th:only-of-type {\n",
       "        vertical-align: middle;\n",
       "    }\n",
       "\n",
       "    .dataframe tbody tr th {\n",
       "        vertical-align: top;\n",
       "    }\n",
       "\n",
       "    .dataframe thead th {\n",
       "        text-align: right;\n",
       "    }\n",
       "</style>\n",
       "<table border=\"1\" class=\"dataframe\">\n",
       "  <thead>\n",
       "    <tr style=\"text-align: right;\">\n",
       "      <th></th>\n",
       "      <th>Model</th>\n",
       "      <th>Dataset</th>\n",
       "      <th>Features</th>\n",
       "      <th>Accuracy</th>\n",
       "      <th>Precision</th>\n",
       "      <th>Recall</th>\n",
       "      <th>F1 Score</th>\n",
       "      <th>CV_scores(5fold)</th>\n",
       "    </tr>\n",
       "  </thead>\n",
       "  <tbody>\n",
       "    <tr>\n",
       "      <th>0</th>\n",
       "      <td>K-Nearest Neighbors</td>\n",
       "      <td>BC-15</td>\n",
       "      <td>zernike+basic</td>\n",
       "      <td>0.891269</td>\n",
       "      <td>0.900086</td>\n",
       "      <td>0.891269</td>\n",
       "      <td>0.890681</td>\n",
       "      <td>0.897686</td>\n",
       "    </tr>\n",
       "    <tr>\n",
       "      <th>1</th>\n",
       "      <td>Support Vector Machine</td>\n",
       "      <td>BC-15</td>\n",
       "      <td>zernike+basic</td>\n",
       "      <td>0.937397</td>\n",
       "      <td>0.938473</td>\n",
       "      <td>0.937397</td>\n",
       "      <td>0.937361</td>\n",
       "      <td>0.937879</td>\n",
       "    </tr>\n",
       "    <tr>\n",
       "      <th>2</th>\n",
       "      <td>Random Forest</td>\n",
       "      <td>BC-15</td>\n",
       "      <td>zernike+basic</td>\n",
       "      <td>0.910214</td>\n",
       "      <td>0.911438</td>\n",
       "      <td>0.910214</td>\n",
       "      <td>0.910152</td>\n",
       "      <td>0.917978</td>\n",
       "    </tr>\n",
       "    <tr>\n",
       "      <th>3</th>\n",
       "      <td>K-Nearest Neighbors</td>\n",
       "      <td>Huongthom</td>\n",
       "      <td>zernike+basic</td>\n",
       "      <td>0.948175</td>\n",
       "      <td>0.948379</td>\n",
       "      <td>0.948175</td>\n",
       "      <td>0.948163</td>\n",
       "      <td>0.950360</td>\n",
       "    </tr>\n",
       "    <tr>\n",
       "      <th>4</th>\n",
       "      <td>Support Vector Machine</td>\n",
       "      <td>Huongthom</td>\n",
       "      <td>zernike+basic</td>\n",
       "      <td>0.975912</td>\n",
       "      <td>0.975936</td>\n",
       "      <td>0.975912</td>\n",
       "      <td>0.975911</td>\n",
       "      <td>0.977338</td>\n",
       "    </tr>\n",
       "    <tr>\n",
       "      <th>5</th>\n",
       "      <td>Random Forest</td>\n",
       "      <td>Huongthom</td>\n",
       "      <td>zernike+basic</td>\n",
       "      <td>0.957664</td>\n",
       "      <td>0.957992</td>\n",
       "      <td>0.957664</td>\n",
       "      <td>0.957663</td>\n",
       "      <td>0.965468</td>\n",
       "    </tr>\n",
       "    <tr>\n",
       "      <th>6</th>\n",
       "      <td>K-Nearest Neighbors</td>\n",
       "      <td>Nep87</td>\n",
       "      <td>zernike+basic</td>\n",
       "      <td>0.983140</td>\n",
       "      <td>0.983346</td>\n",
       "      <td>0.983140</td>\n",
       "      <td>0.983134</td>\n",
       "      <td>0.976614</td>\n",
       "    </tr>\n",
       "    <tr>\n",
       "      <th>7</th>\n",
       "      <td>Support Vector Machine</td>\n",
       "      <td>Nep87</td>\n",
       "      <td>zernike+basic</td>\n",
       "      <td>0.986301</td>\n",
       "      <td>0.986658</td>\n",
       "      <td>0.986301</td>\n",
       "      <td>0.986294</td>\n",
       "      <td>0.984924</td>\n",
       "    </tr>\n",
       "    <tr>\n",
       "      <th>8</th>\n",
       "      <td>Random Forest</td>\n",
       "      <td>Nep87</td>\n",
       "      <td>zernike+basic</td>\n",
       "      <td>0.984194</td>\n",
       "      <td>0.984361</td>\n",
       "      <td>0.984194</td>\n",
       "      <td>0.984189</td>\n",
       "      <td>0.977650</td>\n",
       "    </tr>\n",
       "    <tr>\n",
       "      <th>9</th>\n",
       "      <td>K-Nearest Neighbors</td>\n",
       "      <td>Q5</td>\n",
       "      <td>zernike+basic</td>\n",
       "      <td>0.945674</td>\n",
       "      <td>0.949507</td>\n",
       "      <td>0.945674</td>\n",
       "      <td>0.945547</td>\n",
       "      <td>0.941971</td>\n",
       "    </tr>\n",
       "    <tr>\n",
       "      <th>10</th>\n",
       "      <td>Support Vector Machine</td>\n",
       "      <td>Q5</td>\n",
       "      <td>zernike+basic</td>\n",
       "      <td>0.975855</td>\n",
       "      <td>0.976346</td>\n",
       "      <td>0.975855</td>\n",
       "      <td>0.975847</td>\n",
       "      <td>0.963790</td>\n",
       "    </tr>\n",
       "    <tr>\n",
       "      <th>11</th>\n",
       "      <td>Random Forest</td>\n",
       "      <td>Q5</td>\n",
       "      <td>zernike+basic</td>\n",
       "      <td>0.963783</td>\n",
       "      <td>0.963901</td>\n",
       "      <td>0.963783</td>\n",
       "      <td>0.963779</td>\n",
       "      <td>0.950402</td>\n",
       "    </tr>\n",
       "    <tr>\n",
       "      <th>12</th>\n",
       "      <td>K-Nearest Neighbors</td>\n",
       "      <td>Thien_uu</td>\n",
       "      <td>zernike+basic</td>\n",
       "      <td>0.984894</td>\n",
       "      <td>0.984914</td>\n",
       "      <td>0.984894</td>\n",
       "      <td>0.984895</td>\n",
       "      <td>0.964268</td>\n",
       "    </tr>\n",
       "    <tr>\n",
       "      <th>13</th>\n",
       "      <td>Support Vector Machine</td>\n",
       "      <td>Thien_uu</td>\n",
       "      <td>zernike+basic</td>\n",
       "      <td>0.984894</td>\n",
       "      <td>0.985059</td>\n",
       "      <td>0.984894</td>\n",
       "      <td>0.984896</td>\n",
       "      <td>0.980647</td>\n",
       "    </tr>\n",
       "    <tr>\n",
       "      <th>14</th>\n",
       "      <td>Random Forest</td>\n",
       "      <td>Thien_uu</td>\n",
       "      <td>zernike+basic</td>\n",
       "      <td>0.978852</td>\n",
       "      <td>0.979141</td>\n",
       "      <td>0.978852</td>\n",
       "      <td>0.978854</td>\n",
       "      <td>0.971717</td>\n",
       "    </tr>\n",
       "    <tr>\n",
       "      <th>15</th>\n",
       "      <td>K-Nearest Neighbors</td>\n",
       "      <td>Xi23</td>\n",
       "      <td>zernike+basic</td>\n",
       "      <td>0.926170</td>\n",
       "      <td>0.927260</td>\n",
       "      <td>0.926170</td>\n",
       "      <td>0.925950</td>\n",
       "      <td>0.923654</td>\n",
       "    </tr>\n",
       "    <tr>\n",
       "      <th>16</th>\n",
       "      <td>Support Vector Machine</td>\n",
       "      <td>Xi23</td>\n",
       "      <td>zernike+basic</td>\n",
       "      <td>0.969298</td>\n",
       "      <td>0.969328</td>\n",
       "      <td>0.969298</td>\n",
       "      <td>0.969305</td>\n",
       "      <td>0.969749</td>\n",
       "    </tr>\n",
       "    <tr>\n",
       "      <th>17</th>\n",
       "      <td>Random Forest</td>\n",
       "      <td>Xi23</td>\n",
       "      <td>zernike+basic</td>\n",
       "      <td>0.937135</td>\n",
       "      <td>0.937352</td>\n",
       "      <td>0.937135</td>\n",
       "      <td>0.937171</td>\n",
       "      <td>0.933378</td>\n",
       "    </tr>\n",
       "  </tbody>\n",
       "</table>\n",
       "</div>"
      ],
      "text/plain": [
       "                     Model    Dataset       Features  Accuracy  Precision  \\\n",
       "0      K-Nearest Neighbors      BC-15  zernike+basic  0.891269   0.900086   \n",
       "1   Support Vector Machine      BC-15  zernike+basic  0.937397   0.938473   \n",
       "2            Random Forest      BC-15  zernike+basic  0.910214   0.911438   \n",
       "3      K-Nearest Neighbors  Huongthom  zernike+basic  0.948175   0.948379   \n",
       "4   Support Vector Machine  Huongthom  zernike+basic  0.975912   0.975936   \n",
       "5            Random Forest  Huongthom  zernike+basic  0.957664   0.957992   \n",
       "6      K-Nearest Neighbors      Nep87  zernike+basic  0.983140   0.983346   \n",
       "7   Support Vector Machine      Nep87  zernike+basic  0.986301   0.986658   \n",
       "8            Random Forest      Nep87  zernike+basic  0.984194   0.984361   \n",
       "9      K-Nearest Neighbors         Q5  zernike+basic  0.945674   0.949507   \n",
       "10  Support Vector Machine         Q5  zernike+basic  0.975855   0.976346   \n",
       "11           Random Forest         Q5  zernike+basic  0.963783   0.963901   \n",
       "12     K-Nearest Neighbors   Thien_uu  zernike+basic  0.984894   0.984914   \n",
       "13  Support Vector Machine   Thien_uu  zernike+basic  0.984894   0.985059   \n",
       "14           Random Forest   Thien_uu  zernike+basic  0.978852   0.979141   \n",
       "15     K-Nearest Neighbors       Xi23  zernike+basic  0.926170   0.927260   \n",
       "16  Support Vector Machine       Xi23  zernike+basic  0.969298   0.969328   \n",
       "17           Random Forest       Xi23  zernike+basic  0.937135   0.937352   \n",
       "\n",
       "      Recall  F1 Score  CV_scores(5fold)  \n",
       "0   0.891269  0.890681          0.897686  \n",
       "1   0.937397  0.937361          0.937879  \n",
       "2   0.910214  0.910152          0.917978  \n",
       "3   0.948175  0.948163          0.950360  \n",
       "4   0.975912  0.975911          0.977338  \n",
       "5   0.957664  0.957663          0.965468  \n",
       "6   0.983140  0.983134          0.976614  \n",
       "7   0.986301  0.986294          0.984924  \n",
       "8   0.984194  0.984189          0.977650  \n",
       "9   0.945674  0.945547          0.941971  \n",
       "10  0.975855  0.975847          0.963790  \n",
       "11  0.963783  0.963779          0.950402  \n",
       "12  0.984894  0.984895          0.964268  \n",
       "13  0.984894  0.984896          0.980647  \n",
       "14  0.978852  0.978854          0.971717  \n",
       "15  0.926170  0.925950          0.923654  \n",
       "16  0.969298  0.969305          0.969749  \n",
       "17  0.937135  0.937171          0.933378  "
      ]
     },
     "execution_count": 31,
     "metadata": {},
     "output_type": "execute_result"
    }
   ],
   "source": [
    "res_df = pd.DataFrame(results)\n",
    "res_df"
   ]
  },
  {
   "cell_type": "code",
   "execution_count": 32,
   "metadata": {},
   "outputs": [],
   "source": [
    "res_df.to_csv('testwithcolorenhanced.csv',index=False)"
   ]
  },
  {
   "cell_type": "code",
   "execution_count": 11,
   "metadata": {},
   "outputs": [
    {
     "data": {
      "text/html": [
       "<div>\n",
       "<style scoped>\n",
       "    .dataframe tbody tr th:only-of-type {\n",
       "        vertical-align: middle;\n",
       "    }\n",
       "\n",
       "    .dataframe tbody tr th {\n",
       "        vertical-align: top;\n",
       "    }\n",
       "\n",
       "    .dataframe thead th {\n",
       "        text-align: right;\n",
       "    }\n",
       "</style>\n",
       "<table border=\"1\" class=\"dataframe\">\n",
       "  <thead>\n",
       "    <tr style=\"text-align: right;\">\n",
       "      <th></th>\n",
       "      <th>Model</th>\n",
       "      <th>Dataset</th>\n",
       "      <th>Features</th>\n",
       "      <th>Accuracy</th>\n",
       "      <th>Precision</th>\n",
       "      <th>Recall</th>\n",
       "      <th>F1 Score</th>\n",
       "      <th>CV_scores(5fold)</th>\n",
       "    </tr>\n",
       "  </thead>\n",
       "  <tbody>\n",
       "    <tr>\n",
       "      <th>0</th>\n",
       "      <td>K-Nearest Neighbors</td>\n",
       "      <td>BC-15</td>\n",
       "      <td>zernike+basic</td>\n",
       "      <td>0.878089</td>\n",
       "      <td>0.887406</td>\n",
       "      <td>0.878089</td>\n",
       "      <td>0.877369</td>\n",
       "      <td>0.874544</td>\n",
       "    </tr>\n",
       "    <tr>\n",
       "      <th>1</th>\n",
       "      <td>Support Vector Machine</td>\n",
       "      <td>BC-15</td>\n",
       "      <td>zernike+basic</td>\n",
       "      <td>0.924217</td>\n",
       "      <td>0.925406</td>\n",
       "      <td>0.924217</td>\n",
       "      <td>0.924168</td>\n",
       "      <td>0.928538</td>\n",
       "    </tr>\n",
       "    <tr>\n",
       "      <th>2</th>\n",
       "      <td>Random Forest</td>\n",
       "      <td>BC-15</td>\n",
       "      <td>zernike+basic</td>\n",
       "      <td>0.889621</td>\n",
       "      <td>0.892516</td>\n",
       "      <td>0.889621</td>\n",
       "      <td>0.889426</td>\n",
       "      <td>0.882663</td>\n",
       "    </tr>\n",
       "    <tr>\n",
       "      <th>3</th>\n",
       "      <td>K-Nearest Neighbors</td>\n",
       "      <td>Huongthom</td>\n",
       "      <td>zernike+basic</td>\n",
       "      <td>0.912409</td>\n",
       "      <td>0.913634</td>\n",
       "      <td>0.912409</td>\n",
       "      <td>0.912316</td>\n",
       "      <td>0.909712</td>\n",
       "    </tr>\n",
       "    <tr>\n",
       "      <th>4</th>\n",
       "      <td>Support Vector Machine</td>\n",
       "      <td>Huongthom</td>\n",
       "      <td>zernike+basic</td>\n",
       "      <td>0.946715</td>\n",
       "      <td>0.946800</td>\n",
       "      <td>0.946715</td>\n",
       "      <td>0.946717</td>\n",
       "      <td>0.955036</td>\n",
       "    </tr>\n",
       "    <tr>\n",
       "      <th>5</th>\n",
       "      <td>Random Forest</td>\n",
       "      <td>Huongthom</td>\n",
       "      <td>zernike+basic</td>\n",
       "      <td>0.916058</td>\n",
       "      <td>0.916557</td>\n",
       "      <td>0.916058</td>\n",
       "      <td>0.916049</td>\n",
       "      <td>0.923381</td>\n",
       "    </tr>\n",
       "    <tr>\n",
       "      <th>6</th>\n",
       "      <td>K-Nearest Neighbors</td>\n",
       "      <td>Nep87</td>\n",
       "      <td>zernike+basic</td>\n",
       "      <td>0.977871</td>\n",
       "      <td>0.978033</td>\n",
       "      <td>0.977871</td>\n",
       "      <td>0.977864</td>\n",
       "      <td>0.974014</td>\n",
       "    </tr>\n",
       "    <tr>\n",
       "      <th>7</th>\n",
       "      <td>Support Vector Machine</td>\n",
       "      <td>Nep87</td>\n",
       "      <td>zernike+basic</td>\n",
       "      <td>0.987355</td>\n",
       "      <td>0.987565</td>\n",
       "      <td>0.987355</td>\n",
       "      <td>0.987350</td>\n",
       "      <td>0.981807</td>\n",
       "    </tr>\n",
       "    <tr>\n",
       "      <th>8</th>\n",
       "      <td>Random Forest</td>\n",
       "      <td>Nep87</td>\n",
       "      <td>zernike+basic</td>\n",
       "      <td>0.983140</td>\n",
       "      <td>0.983346</td>\n",
       "      <td>0.983140</td>\n",
       "      <td>0.983134</td>\n",
       "      <td>0.975054</td>\n",
       "    </tr>\n",
       "    <tr>\n",
       "      <th>9</th>\n",
       "      <td>K-Nearest Neighbors</td>\n",
       "      <td>Q5</td>\n",
       "      <td>zernike+basic</td>\n",
       "      <td>0.931590</td>\n",
       "      <td>0.935630</td>\n",
       "      <td>0.931590</td>\n",
       "      <td>0.931416</td>\n",
       "      <td>0.935023</td>\n",
       "    </tr>\n",
       "    <tr>\n",
       "      <th>10</th>\n",
       "      <td>Support Vector Machine</td>\n",
       "      <td>Q5</td>\n",
       "      <td>zernike+basic</td>\n",
       "      <td>0.963783</td>\n",
       "      <td>0.964529</td>\n",
       "      <td>0.963783</td>\n",
       "      <td>0.963765</td>\n",
       "      <td>0.952883</td>\n",
       "    </tr>\n",
       "    <tr>\n",
       "      <th>11</th>\n",
       "      <td>Random Forest</td>\n",
       "      <td>Q5</td>\n",
       "      <td>zernike+basic</td>\n",
       "      <td>0.939638</td>\n",
       "      <td>0.939664</td>\n",
       "      <td>0.939638</td>\n",
       "      <td>0.939636</td>\n",
       "      <td>0.937006</td>\n",
       "    </tr>\n",
       "    <tr>\n",
       "      <th>12</th>\n",
       "      <td>K-Nearest Neighbors</td>\n",
       "      <td>Thien_uu</td>\n",
       "      <td>zernike+basic</td>\n",
       "      <td>0.975831</td>\n",
       "      <td>0.975995</td>\n",
       "      <td>0.975831</td>\n",
       "      <td>0.975833</td>\n",
       "      <td>0.971717</td>\n",
       "    </tr>\n",
       "    <tr>\n",
       "      <th>13</th>\n",
       "      <td>Support Vector Machine</td>\n",
       "      <td>Thien_uu</td>\n",
       "      <td>zernike+basic</td>\n",
       "      <td>0.983384</td>\n",
       "      <td>0.983749</td>\n",
       "      <td>0.983384</td>\n",
       "      <td>0.983385</td>\n",
       "      <td>0.979154</td>\n",
       "    </tr>\n",
       "    <tr>\n",
       "      <th>14</th>\n",
       "      <td>Random Forest</td>\n",
       "      <td>Thien_uu</td>\n",
       "      <td>zernike+basic</td>\n",
       "      <td>0.975831</td>\n",
       "      <td>0.976119</td>\n",
       "      <td>0.975831</td>\n",
       "      <td>0.975833</td>\n",
       "      <td>0.967247</td>\n",
       "    </tr>\n",
       "    <tr>\n",
       "      <th>15</th>\n",
       "      <td>K-Nearest Neighbors</td>\n",
       "      <td>Xi23</td>\n",
       "      <td>zernike+basic</td>\n",
       "      <td>0.920322</td>\n",
       "      <td>0.921245</td>\n",
       "      <td>0.920322</td>\n",
       "      <td>0.920100</td>\n",
       "      <td>0.914288</td>\n",
       "    </tr>\n",
       "    <tr>\n",
       "      <th>16</th>\n",
       "      <td>Support Vector Machine</td>\n",
       "      <td>Xi23</td>\n",
       "      <td>zernike+basic</td>\n",
       "      <td>0.964912</td>\n",
       "      <td>0.965050</td>\n",
       "      <td>0.964912</td>\n",
       "      <td>0.964930</td>\n",
       "      <td>0.957866</td>\n",
       "    </tr>\n",
       "    <tr>\n",
       "      <th>17</th>\n",
       "      <td>Random Forest</td>\n",
       "      <td>Xi23</td>\n",
       "      <td>zernike+basic</td>\n",
       "      <td>0.931287</td>\n",
       "      <td>0.931406</td>\n",
       "      <td>0.931287</td>\n",
       "      <td>0.931314</td>\n",
       "      <td>0.921852</td>\n",
       "    </tr>\n",
       "  </tbody>\n",
       "</table>\n",
       "</div>"
      ],
      "text/plain": [
       "                     Model    Dataset       Features  Accuracy  Precision  \\\n",
       "0      K-Nearest Neighbors      BC-15  zernike+basic  0.878089   0.887406   \n",
       "1   Support Vector Machine      BC-15  zernike+basic  0.924217   0.925406   \n",
       "2            Random Forest      BC-15  zernike+basic  0.889621   0.892516   \n",
       "3      K-Nearest Neighbors  Huongthom  zernike+basic  0.912409   0.913634   \n",
       "4   Support Vector Machine  Huongthom  zernike+basic  0.946715   0.946800   \n",
       "5            Random Forest  Huongthom  zernike+basic  0.916058   0.916557   \n",
       "6      K-Nearest Neighbors      Nep87  zernike+basic  0.977871   0.978033   \n",
       "7   Support Vector Machine      Nep87  zernike+basic  0.987355   0.987565   \n",
       "8            Random Forest      Nep87  zernike+basic  0.983140   0.983346   \n",
       "9      K-Nearest Neighbors         Q5  zernike+basic  0.931590   0.935630   \n",
       "10  Support Vector Machine         Q5  zernike+basic  0.963783   0.964529   \n",
       "11           Random Forest         Q5  zernike+basic  0.939638   0.939664   \n",
       "12     K-Nearest Neighbors   Thien_uu  zernike+basic  0.975831   0.975995   \n",
       "13  Support Vector Machine   Thien_uu  zernike+basic  0.983384   0.983749   \n",
       "14           Random Forest   Thien_uu  zernike+basic  0.975831   0.976119   \n",
       "15     K-Nearest Neighbors       Xi23  zernike+basic  0.920322   0.921245   \n",
       "16  Support Vector Machine       Xi23  zernike+basic  0.964912   0.965050   \n",
       "17           Random Forest       Xi23  zernike+basic  0.931287   0.931406   \n",
       "\n",
       "      Recall  F1 Score  CV_scores(5fold)  \n",
       "0   0.878089  0.877369          0.874544  \n",
       "1   0.924217  0.924168          0.928538  \n",
       "2   0.889621  0.889426          0.882663  \n",
       "3   0.912409  0.912316          0.909712  \n",
       "4   0.946715  0.946717          0.955036  \n",
       "5   0.916058  0.916049          0.923381  \n",
       "6   0.977871  0.977864          0.974014  \n",
       "7   0.987355  0.987350          0.981807  \n",
       "8   0.983140  0.983134          0.975054  \n",
       "9   0.931590  0.931416          0.935023  \n",
       "10  0.963783  0.963765          0.952883  \n",
       "11  0.939638  0.939636          0.937006  \n",
       "12  0.975831  0.975833          0.971717  \n",
       "13  0.983384  0.983385          0.979154  \n",
       "14  0.975831  0.975833          0.967247  \n",
       "15  0.920322  0.920100          0.914288  \n",
       "16  0.964912  0.964930          0.957866  \n",
       "17  0.931287  0.931314          0.921852  "
      ]
     },
     "execution_count": 11,
     "metadata": {},
     "output_type": "execute_result"
    }
   ],
   "source": [
    "res_df = pd.DataFrame(results)\n",
    "res_df"
   ]
  },
  {
   "cell_type": "code",
   "execution_count": 17,
   "metadata": {},
   "outputs": [],
   "source": [
    "res_df.to_csv('testwithoutcolor.csv',index=False)"
   ]
  },
  {
   "cell_type": "code",
   "execution_count": 9,
   "metadata": {},
   "outputs": [
    {
     "data": {
      "text/html": [
       "<div>\n",
       "<style scoped>\n",
       "    .dataframe tbody tr th:only-of-type {\n",
       "        vertical-align: middle;\n",
       "    }\n",
       "\n",
       "    .dataframe tbody tr th {\n",
       "        vertical-align: top;\n",
       "    }\n",
       "\n",
       "    .dataframe thead th {\n",
       "        text-align: right;\n",
       "    }\n",
       "</style>\n",
       "<table border=\"1\" class=\"dataframe\">\n",
       "  <thead>\n",
       "    <tr style=\"text-align: right;\">\n",
       "      <th></th>\n",
       "      <th>Model</th>\n",
       "      <th>Features</th>\n",
       "      <th>Accuracy</th>\n",
       "      <th>Precision</th>\n",
       "      <th>Recall</th>\n",
       "      <th>F1 Score</th>\n",
       "      <th>CV_scores(5fold)</th>\n",
       "    </tr>\n",
       "  </thead>\n",
       "  <tbody>\n",
       "    <tr>\n",
       "      <th>0</th>\n",
       "      <td>K-Nearest Neighbors</td>\n",
       "      <td>zernike+basic</td>\n",
       "      <td>0.860791</td>\n",
       "      <td>0.872848</td>\n",
       "      <td>0.860791</td>\n",
       "      <td>0.859681</td>\n",
       "      <td>0.875346</td>\n",
       "    </tr>\n",
       "    <tr>\n",
       "      <th>1</th>\n",
       "      <td>Support Vector Machine</td>\n",
       "      <td>zernike+basic</td>\n",
       "      <td>0.887150</td>\n",
       "      <td>0.893173</td>\n",
       "      <td>0.887150</td>\n",
       "      <td>0.886729</td>\n",
       "      <td>0.898084</td>\n",
       "    </tr>\n",
       "    <tr>\n",
       "      <th>2</th>\n",
       "      <td>Random Forest</td>\n",
       "      <td>zernike+basic</td>\n",
       "      <td>0.910214</td>\n",
       "      <td>0.912916</td>\n",
       "      <td>0.910214</td>\n",
       "      <td>0.910074</td>\n",
       "      <td>0.909044</td>\n",
       "    </tr>\n",
       "  </tbody>\n",
       "</table>\n",
       "</div>"
      ],
      "text/plain": [
       "                    Model       Features  Accuracy  Precision    Recall  \\\n",
       "0     K-Nearest Neighbors  zernike+basic  0.860791   0.872848  0.860791   \n",
       "1  Support Vector Machine  zernike+basic  0.887150   0.893173  0.887150   \n",
       "2           Random Forest  zernike+basic  0.910214   0.912916  0.910214   \n",
       "\n",
       "   F1 Score  CV_scores(5fold)  \n",
       "0  0.859681          0.875346  \n",
       "1  0.886729          0.898084  \n",
       "2  0.910074          0.909044  "
      ]
     },
     "execution_count": 9,
     "metadata": {},
     "output_type": "execute_result"
    }
   ],
   "source": [
    "res_df = pd.DataFrame(results)\n",
    "res_df"
   ]
  },
  {
   "cell_type": "code",
   "execution_count": 68,
   "metadata": {},
   "outputs": [
    {
     "data": {
      "text/html": [
       "<div>\n",
       "<style scoped>\n",
       "    .dataframe tbody tr th:only-of-type {\n",
       "        vertical-align: middle;\n",
       "    }\n",
       "\n",
       "    .dataframe tbody tr th {\n",
       "        vertical-align: top;\n",
       "    }\n",
       "\n",
       "    .dataframe thead th {\n",
       "        text-align: right;\n",
       "    }\n",
       "</style>\n",
       "<table border=\"1\" class=\"dataframe\">\n",
       "  <thead>\n",
       "    <tr style=\"text-align: right;\">\n",
       "      <th></th>\n",
       "      <th>Model</th>\n",
       "      <th>Dataset</th>\n",
       "      <th>Features</th>\n",
       "      <th>Accuracy</th>\n",
       "      <th>Precision</th>\n",
       "      <th>Recall</th>\n",
       "      <th>F1 Score</th>\n",
       "    </tr>\n",
       "  </thead>\n",
       "  <tbody>\n",
       "    <tr>\n",
       "      <th>0</th>\n",
       "      <td>KNN</td>\n",
       "      <td>BC15</td>\n",
       "      <td>basic</td>\n",
       "      <td>0.8402</td>\n",
       "      <td>0.8466</td>\n",
       "      <td>0.8402</td>\n",
       "      <td>0.8395</td>\n",
       "    </tr>\n",
       "    <tr>\n",
       "      <th>1</th>\n",
       "      <td>SVM</td>\n",
       "      <td>BC15</td>\n",
       "      <td>basic</td>\n",
       "      <td>0.8987</td>\n",
       "      <td>0.9039</td>\n",
       "      <td>0.8987</td>\n",
       "      <td>0.8984</td>\n",
       "    </tr>\n",
       "    <tr>\n",
       "      <th>2</th>\n",
       "      <td>Random Forest</td>\n",
       "      <td>BC15</td>\n",
       "      <td>basic</td>\n",
       "      <td>0.8526</td>\n",
       "      <td>0.8543</td>\n",
       "      <td>0.8526</td>\n",
       "      <td>0.8524</td>\n",
       "    </tr>\n",
       "    <tr>\n",
       "      <th>3</th>\n",
       "      <td>KNN</td>\n",
       "      <td>BC15</td>\n",
       "      <td>gist</td>\n",
       "      <td>0.6367</td>\n",
       "      <td>0.6368</td>\n",
       "      <td>0.6367</td>\n",
       "      <td>0.6367</td>\n",
       "    </tr>\n",
       "    <tr>\n",
       "      <th>4</th>\n",
       "      <td>SVM</td>\n",
       "      <td>BC15</td>\n",
       "      <td>gist</td>\n",
       "      <td>0.6960</td>\n",
       "      <td>0.6963</td>\n",
       "      <td>0.6960</td>\n",
       "      <td>0.6959</td>\n",
       "    </tr>\n",
       "    <tr>\n",
       "      <th>...</th>\n",
       "      <td>...</td>\n",
       "      <td>...</td>\n",
       "      <td>...</td>\n",
       "      <td>...</td>\n",
       "      <td>...</td>\n",
       "      <td>...</td>\n",
       "      <td>...</td>\n",
       "    </tr>\n",
       "    <tr>\n",
       "      <th>67</th>\n",
       "      <td>SVM</td>\n",
       "      <td>Xi23</td>\n",
       "      <td>glcm</td>\n",
       "      <td>0.7727</td>\n",
       "      <td>0.7786</td>\n",
       "      <td>0.7727</td>\n",
       "      <td>0.7693</td>\n",
       "    </tr>\n",
       "    <tr>\n",
       "      <th>68</th>\n",
       "      <td>Random Forest</td>\n",
       "      <td>Xi23</td>\n",
       "      <td>glcm</td>\n",
       "      <td>0.7580</td>\n",
       "      <td>0.7579</td>\n",
       "      <td>0.7580</td>\n",
       "      <td>0.7580</td>\n",
       "    </tr>\n",
       "    <tr>\n",
       "      <th>69</th>\n",
       "      <td>KNN</td>\n",
       "      <td>Xi23</td>\n",
       "      <td>lbp</td>\n",
       "      <td>0.6681</td>\n",
       "      <td>0.6676</td>\n",
       "      <td>0.6681</td>\n",
       "      <td>0.6653</td>\n",
       "    </tr>\n",
       "    <tr>\n",
       "      <th>70</th>\n",
       "      <td>SVM</td>\n",
       "      <td>Xi23</td>\n",
       "      <td>lbp</td>\n",
       "      <td>0.6886</td>\n",
       "      <td>0.6896</td>\n",
       "      <td>0.6886</td>\n",
       "      <td>0.6848</td>\n",
       "    </tr>\n",
       "    <tr>\n",
       "      <th>71</th>\n",
       "      <td>Random Forest</td>\n",
       "      <td>Xi23</td>\n",
       "      <td>lbp</td>\n",
       "      <td>0.6791</td>\n",
       "      <td>0.6783</td>\n",
       "      <td>0.6791</td>\n",
       "      <td>0.6782</td>\n",
       "    </tr>\n",
       "  </tbody>\n",
       "</table>\n",
       "<p>72 rows × 7 columns</p>\n",
       "</div>"
      ],
      "text/plain": [
       "            Model Dataset Features  Accuracy  Precision  Recall  F1 Score\n",
       "0             KNN    BC15    basic    0.8402     0.8466  0.8402    0.8395\n",
       "1             SVM    BC15    basic    0.8987     0.9039  0.8987    0.8984\n",
       "2   Random Forest    BC15    basic    0.8526     0.8543  0.8526    0.8524\n",
       "3             KNN    BC15     gist    0.6367     0.6368  0.6367    0.6367\n",
       "4             SVM    BC15     gist    0.6960     0.6963  0.6960    0.6959\n",
       "..            ...     ...      ...       ...        ...     ...       ...\n",
       "67            SVM    Xi23     glcm    0.7727     0.7786  0.7727    0.7693\n",
       "68  Random Forest    Xi23     glcm    0.7580     0.7579  0.7580    0.7580\n",
       "69            KNN    Xi23      lbp    0.6681     0.6676  0.6681    0.6653\n",
       "70            SVM    Xi23      lbp    0.6886     0.6896  0.6886    0.6848\n",
       "71  Random Forest    Xi23      lbp    0.6791     0.6783  0.6791    0.6782\n",
       "\n",
       "[72 rows x 7 columns]"
      ]
     },
     "execution_count": 68,
     "metadata": {},
     "output_type": "execute_result"
    }
   ],
   "source": [
    "df"
   ]
  },
  {
   "cell_type": "code",
   "execution_count": 53,
   "metadata": {},
   "outputs": [],
   "source": [
    "df = pd.DataFrame(results)\n"
   ]
  },
  {
   "cell_type": "code",
   "execution_count": 57,
   "metadata": {},
   "outputs": [],
   "source": [
    "df = df.round(4)"
   ]
  },
  {
   "cell_type": "code",
   "execution_count": 72,
   "metadata": {},
   "outputs": [],
   "source": [
    "pd.set_option('display.max_columns', None)\n",
    "pd.set_option('display.max_rows', None)\n",
    "pd.set_option('display.max_colwidth', None)\n"
   ]
  },
  {
   "cell_type": "code",
   "execution_count": 74,
   "metadata": {},
   "outputs": [
    {
     "data": {
      "text/html": [
       "<div>\n",
       "<style scoped>\n",
       "    .dataframe tbody tr th:only-of-type {\n",
       "        vertical-align: middle;\n",
       "    }\n",
       "\n",
       "    .dataframe tbody tr th {\n",
       "        vertical-align: top;\n",
       "    }\n",
       "\n",
       "    .dataframe thead th {\n",
       "        text-align: right;\n",
       "    }\n",
       "</style>\n",
       "<table border=\"1\" class=\"dataframe\">\n",
       "  <thead>\n",
       "    <tr style=\"text-align: right;\">\n",
       "      <th></th>\n",
       "      <th>Model</th>\n",
       "      <th>Dataset</th>\n",
       "      <th>Features</th>\n",
       "      <th>Accuracy</th>\n",
       "      <th>Precision</th>\n",
       "      <th>Recall</th>\n",
       "      <th>F1 Score</th>\n",
       "    </tr>\n",
       "  </thead>\n",
       "  <tbody>\n",
       "    <tr>\n",
       "      <th>0</th>\n",
       "      <td>KNN</td>\n",
       "      <td>BC15</td>\n",
       "      <td>basic</td>\n",
       "      <td>0.8402</td>\n",
       "      <td>0.8466</td>\n",
       "      <td>0.8402</td>\n",
       "      <td>0.8395</td>\n",
       "    </tr>\n",
       "    <tr>\n",
       "      <th>1</th>\n",
       "      <td>SVM</td>\n",
       "      <td>BC15</td>\n",
       "      <td>basic</td>\n",
       "      <td>0.8987</td>\n",
       "      <td>0.9039</td>\n",
       "      <td>0.8987</td>\n",
       "      <td>0.8984</td>\n",
       "    </tr>\n",
       "    <tr>\n",
       "      <th>2</th>\n",
       "      <td>Random Forest</td>\n",
       "      <td>BC15</td>\n",
       "      <td>basic</td>\n",
       "      <td>0.8526</td>\n",
       "      <td>0.8543</td>\n",
       "      <td>0.8526</td>\n",
       "      <td>0.8524</td>\n",
       "    </tr>\n",
       "    <tr>\n",
       "      <th>3</th>\n",
       "      <td>KNN</td>\n",
       "      <td>BC15</td>\n",
       "      <td>gist</td>\n",
       "      <td>0.6367</td>\n",
       "      <td>0.6368</td>\n",
       "      <td>0.6367</td>\n",
       "      <td>0.6367</td>\n",
       "    </tr>\n",
       "    <tr>\n",
       "      <th>4</th>\n",
       "      <td>SVM</td>\n",
       "      <td>BC15</td>\n",
       "      <td>gist</td>\n",
       "      <td>0.6960</td>\n",
       "      <td>0.6963</td>\n",
       "      <td>0.6960</td>\n",
       "      <td>0.6959</td>\n",
       "    </tr>\n",
       "    <tr>\n",
       "      <th>5</th>\n",
       "      <td>Random Forest</td>\n",
       "      <td>BC15</td>\n",
       "      <td>gist</td>\n",
       "      <td>0.7702</td>\n",
       "      <td>0.7707</td>\n",
       "      <td>0.7702</td>\n",
       "      <td>0.7701</td>\n",
       "    </tr>\n",
       "    <tr>\n",
       "      <th>6</th>\n",
       "      <td>KNN</td>\n",
       "      <td>BC15</td>\n",
       "      <td>glcm</td>\n",
       "      <td>0.6738</td>\n",
       "      <td>0.6766</td>\n",
       "      <td>0.6738</td>\n",
       "      <td>0.6726</td>\n",
       "    </tr>\n",
       "    <tr>\n",
       "      <th>7</th>\n",
       "      <td>SVM</td>\n",
       "      <td>BC15</td>\n",
       "      <td>glcm</td>\n",
       "      <td>0.7512</td>\n",
       "      <td>0.7512</td>\n",
       "      <td>0.7512</td>\n",
       "      <td>0.7512</td>\n",
       "    </tr>\n",
       "    <tr>\n",
       "      <th>8</th>\n",
       "      <td>Random Forest</td>\n",
       "      <td>BC15</td>\n",
       "      <td>glcm</td>\n",
       "      <td>0.7166</td>\n",
       "      <td>0.7167</td>\n",
       "      <td>0.7166</td>\n",
       "      <td>0.7166</td>\n",
       "    </tr>\n",
       "    <tr>\n",
       "      <th>9</th>\n",
       "      <td>KNN</td>\n",
       "      <td>BC15</td>\n",
       "      <td>lbp</td>\n",
       "      <td>0.5568</td>\n",
       "      <td>0.5570</td>\n",
       "      <td>0.5568</td>\n",
       "      <td>0.5567</td>\n",
       "    </tr>\n",
       "    <tr>\n",
       "      <th>10</th>\n",
       "      <td>SVM</td>\n",
       "      <td>BC15</td>\n",
       "      <td>lbp</td>\n",
       "      <td>0.6178</td>\n",
       "      <td>0.6189</td>\n",
       "      <td>0.6178</td>\n",
       "      <td>0.6170</td>\n",
       "    </tr>\n",
       "    <tr>\n",
       "      <th>11</th>\n",
       "      <td>Random Forest</td>\n",
       "      <td>BC15</td>\n",
       "      <td>lbp</td>\n",
       "      <td>0.6129</td>\n",
       "      <td>0.6133</td>\n",
       "      <td>0.6129</td>\n",
       "      <td>0.6125</td>\n",
       "    </tr>\n",
       "    <tr>\n",
       "      <th>12</th>\n",
       "      <td>KNN</td>\n",
       "      <td>Huongthom</td>\n",
       "      <td>basic</td>\n",
       "      <td>0.8898</td>\n",
       "      <td>0.8926</td>\n",
       "      <td>0.8898</td>\n",
       "      <td>0.8895</td>\n",
       "    </tr>\n",
       "    <tr>\n",
       "      <th>13</th>\n",
       "      <td>SVM</td>\n",
       "      <td>Huongthom</td>\n",
       "      <td>basic</td>\n",
       "      <td>0.9350</td>\n",
       "      <td>0.9351</td>\n",
       "      <td>0.9350</td>\n",
       "      <td>0.9350</td>\n",
       "    </tr>\n",
       "    <tr>\n",
       "      <th>14</th>\n",
       "      <td>Random Forest</td>\n",
       "      <td>Huongthom</td>\n",
       "      <td>basic</td>\n",
       "      <td>0.9095</td>\n",
       "      <td>0.9096</td>\n",
       "      <td>0.9095</td>\n",
       "      <td>0.9095</td>\n",
       "    </tr>\n",
       "    <tr>\n",
       "      <th>15</th>\n",
       "      <td>KNN</td>\n",
       "      <td>Huongthom</td>\n",
       "      <td>gist</td>\n",
       "      <td>0.6336</td>\n",
       "      <td>0.6429</td>\n",
       "      <td>0.6336</td>\n",
       "      <td>0.6263</td>\n",
       "    </tr>\n",
       "    <tr>\n",
       "      <th>16</th>\n",
       "      <td>SVM</td>\n",
       "      <td>Huongthom</td>\n",
       "      <td>gist</td>\n",
       "      <td>0.7854</td>\n",
       "      <td>0.7870</td>\n",
       "      <td>0.7854</td>\n",
       "      <td>0.7850</td>\n",
       "    </tr>\n",
       "    <tr>\n",
       "      <th>17</th>\n",
       "      <td>Random Forest</td>\n",
       "      <td>Huongthom</td>\n",
       "      <td>gist</td>\n",
       "      <td>0.8088</td>\n",
       "      <td>0.8101</td>\n",
       "      <td>0.8088</td>\n",
       "      <td>0.8085</td>\n",
       "    </tr>\n",
       "    <tr>\n",
       "      <th>18</th>\n",
       "      <td>KNN</td>\n",
       "      <td>Huongthom</td>\n",
       "      <td>glcm</td>\n",
       "      <td>0.8204</td>\n",
       "      <td>0.8280</td>\n",
       "      <td>0.8204</td>\n",
       "      <td>0.8192</td>\n",
       "    </tr>\n",
       "    <tr>\n",
       "      <th>19</th>\n",
       "      <td>SVM</td>\n",
       "      <td>Huongthom</td>\n",
       "      <td>glcm</td>\n",
       "      <td>0.8606</td>\n",
       "      <td>0.8666</td>\n",
       "      <td>0.8606</td>\n",
       "      <td>0.8599</td>\n",
       "    </tr>\n",
       "    <tr>\n",
       "      <th>20</th>\n",
       "      <td>Random Forest</td>\n",
       "      <td>Huongthom</td>\n",
       "      <td>glcm</td>\n",
       "      <td>0.8350</td>\n",
       "      <td>0.8366</td>\n",
       "      <td>0.8350</td>\n",
       "      <td>0.8348</td>\n",
       "    </tr>\n",
       "    <tr>\n",
       "      <th>21</th>\n",
       "      <td>KNN</td>\n",
       "      <td>Huongthom</td>\n",
       "      <td>lbp</td>\n",
       "      <td>0.5796</td>\n",
       "      <td>0.5797</td>\n",
       "      <td>0.5796</td>\n",
       "      <td>0.5788</td>\n",
       "    </tr>\n",
       "    <tr>\n",
       "      <th>22</th>\n",
       "      <td>SVM</td>\n",
       "      <td>Huongthom</td>\n",
       "      <td>lbp</td>\n",
       "      <td>0.6730</td>\n",
       "      <td>0.6731</td>\n",
       "      <td>0.6730</td>\n",
       "      <td>0.6728</td>\n",
       "    </tr>\n",
       "    <tr>\n",
       "      <th>23</th>\n",
       "      <td>Random Forest</td>\n",
       "      <td>Huongthom</td>\n",
       "      <td>lbp</td>\n",
       "      <td>0.6380</td>\n",
       "      <td>0.6379</td>\n",
       "      <td>0.6380</td>\n",
       "      <td>0.6379</td>\n",
       "    </tr>\n",
       "    <tr>\n",
       "      <th>24</th>\n",
       "      <td>KNN</td>\n",
       "      <td>Nep87</td>\n",
       "      <td>basic</td>\n",
       "      <td>0.9789</td>\n",
       "      <td>0.9789</td>\n",
       "      <td>0.9789</td>\n",
       "      <td>0.9789</td>\n",
       "    </tr>\n",
       "    <tr>\n",
       "      <th>25</th>\n",
       "      <td>SVM</td>\n",
       "      <td>Nep87</td>\n",
       "      <td>basic</td>\n",
       "      <td>0.9831</td>\n",
       "      <td>0.9832</td>\n",
       "      <td>0.9831</td>\n",
       "      <td>0.9831</td>\n",
       "    </tr>\n",
       "    <tr>\n",
       "      <th>26</th>\n",
       "      <td>Random Forest</td>\n",
       "      <td>Nep87</td>\n",
       "      <td>basic</td>\n",
       "      <td>0.9810</td>\n",
       "      <td>0.9812</td>\n",
       "      <td>0.9810</td>\n",
       "      <td>0.9810</td>\n",
       "    </tr>\n",
       "    <tr>\n",
       "      <th>27</th>\n",
       "      <td>KNN</td>\n",
       "      <td>Nep87</td>\n",
       "      <td>gist</td>\n",
       "      <td>0.6660</td>\n",
       "      <td>0.6780</td>\n",
       "      <td>0.6660</td>\n",
       "      <td>0.6622</td>\n",
       "    </tr>\n",
       "    <tr>\n",
       "      <th>28</th>\n",
       "      <td>SVM</td>\n",
       "      <td>Nep87</td>\n",
       "      <td>gist</td>\n",
       "      <td>0.8577</td>\n",
       "      <td>0.8581</td>\n",
       "      <td>0.8577</td>\n",
       "      <td>0.8578</td>\n",
       "    </tr>\n",
       "    <tr>\n",
       "      <th>29</th>\n",
       "      <td>Random Forest</td>\n",
       "      <td>Nep87</td>\n",
       "      <td>gist</td>\n",
       "      <td>0.9146</td>\n",
       "      <td>0.9155</td>\n",
       "      <td>0.9146</td>\n",
       "      <td>0.9145</td>\n",
       "    </tr>\n",
       "    <tr>\n",
       "      <th>30</th>\n",
       "      <td>KNN</td>\n",
       "      <td>Nep87</td>\n",
       "      <td>glcm</td>\n",
       "      <td>0.9136</td>\n",
       "      <td>0.9140</td>\n",
       "      <td>0.9136</td>\n",
       "      <td>0.9135</td>\n",
       "    </tr>\n",
       "    <tr>\n",
       "      <th>31</th>\n",
       "      <td>SVM</td>\n",
       "      <td>Nep87</td>\n",
       "      <td>glcm</td>\n",
       "      <td>0.9305</td>\n",
       "      <td>0.9310</td>\n",
       "      <td>0.9305</td>\n",
       "      <td>0.9304</td>\n",
       "    </tr>\n",
       "    <tr>\n",
       "      <th>32</th>\n",
       "      <td>Random Forest</td>\n",
       "      <td>Nep87</td>\n",
       "      <td>glcm</td>\n",
       "      <td>0.9125</td>\n",
       "      <td>0.9132</td>\n",
       "      <td>0.9125</td>\n",
       "      <td>0.9124</td>\n",
       "    </tr>\n",
       "    <tr>\n",
       "      <th>33</th>\n",
       "      <td>KNN</td>\n",
       "      <td>Nep87</td>\n",
       "      <td>lbp</td>\n",
       "      <td>0.7060</td>\n",
       "      <td>0.7059</td>\n",
       "      <td>0.7060</td>\n",
       "      <td>0.7058</td>\n",
       "    </tr>\n",
       "    <tr>\n",
       "      <th>34</th>\n",
       "      <td>SVM</td>\n",
       "      <td>Nep87</td>\n",
       "      <td>lbp</td>\n",
       "      <td>0.7661</td>\n",
       "      <td>0.7661</td>\n",
       "      <td>0.7661</td>\n",
       "      <td>0.7661</td>\n",
       "    </tr>\n",
       "    <tr>\n",
       "      <th>35</th>\n",
       "      <td>Random Forest</td>\n",
       "      <td>Nep87</td>\n",
       "      <td>lbp</td>\n",
       "      <td>0.7534</td>\n",
       "      <td>0.7539</td>\n",
       "      <td>0.7534</td>\n",
       "      <td>0.7530</td>\n",
       "    </tr>\n",
       "    <tr>\n",
       "      <th>36</th>\n",
       "      <td>KNN</td>\n",
       "      <td>Q5</td>\n",
       "      <td>basic</td>\n",
       "      <td>0.9256</td>\n",
       "      <td>0.9280</td>\n",
       "      <td>0.9256</td>\n",
       "      <td>0.9254</td>\n",
       "    </tr>\n",
       "    <tr>\n",
       "      <th>37</th>\n",
       "      <td>SVM</td>\n",
       "      <td>Q5</td>\n",
       "      <td>basic</td>\n",
       "      <td>0.9487</td>\n",
       "      <td>0.9496</td>\n",
       "      <td>0.9487</td>\n",
       "      <td>0.9487</td>\n",
       "    </tr>\n",
       "    <tr>\n",
       "      <th>38</th>\n",
       "      <td>Random Forest</td>\n",
       "      <td>Q5</td>\n",
       "      <td>basic</td>\n",
       "      <td>0.9447</td>\n",
       "      <td>0.9451</td>\n",
       "      <td>0.9447</td>\n",
       "      <td>0.9447</td>\n",
       "    </tr>\n",
       "    <tr>\n",
       "      <th>39</th>\n",
       "      <td>KNN</td>\n",
       "      <td>Q5</td>\n",
       "      <td>gist</td>\n",
       "      <td>0.5604</td>\n",
       "      <td>0.5604</td>\n",
       "      <td>0.5604</td>\n",
       "      <td>0.5603</td>\n",
       "    </tr>\n",
       "    <tr>\n",
       "      <th>40</th>\n",
       "      <td>SVM</td>\n",
       "      <td>Q5</td>\n",
       "      <td>gist</td>\n",
       "      <td>0.6881</td>\n",
       "      <td>0.6896</td>\n",
       "      <td>0.6881</td>\n",
       "      <td>0.6874</td>\n",
       "    </tr>\n",
       "    <tr>\n",
       "      <th>41</th>\n",
       "      <td>Random Forest</td>\n",
       "      <td>Q5</td>\n",
       "      <td>gist</td>\n",
       "      <td>0.7243</td>\n",
       "      <td>0.7275</td>\n",
       "      <td>0.7243</td>\n",
       "      <td>0.7233</td>\n",
       "    </tr>\n",
       "    <tr>\n",
       "      <th>42</th>\n",
       "      <td>KNN</td>\n",
       "      <td>Q5</td>\n",
       "      <td>glcm</td>\n",
       "      <td>0.6861</td>\n",
       "      <td>0.6899</td>\n",
       "      <td>0.6861</td>\n",
       "      <td>0.6844</td>\n",
       "    </tr>\n",
       "    <tr>\n",
       "      <th>43</th>\n",
       "      <td>SVM</td>\n",
       "      <td>Q5</td>\n",
       "      <td>glcm</td>\n",
       "      <td>0.7414</td>\n",
       "      <td>0.7437</td>\n",
       "      <td>0.7414</td>\n",
       "      <td>0.7408</td>\n",
       "    </tr>\n",
       "    <tr>\n",
       "      <th>44</th>\n",
       "      <td>Random Forest</td>\n",
       "      <td>Q5</td>\n",
       "      <td>glcm</td>\n",
       "      <td>0.7354</td>\n",
       "      <td>0.7357</td>\n",
       "      <td>0.7354</td>\n",
       "      <td>0.7353</td>\n",
       "    </tr>\n",
       "    <tr>\n",
       "      <th>45</th>\n",
       "      <td>KNN</td>\n",
       "      <td>Q5</td>\n",
       "      <td>lbp</td>\n",
       "      <td>0.5614</td>\n",
       "      <td>0.5614</td>\n",
       "      <td>0.5614</td>\n",
       "      <td>0.5613</td>\n",
       "    </tr>\n",
       "    <tr>\n",
       "      <th>46</th>\n",
       "      <td>SVM</td>\n",
       "      <td>Q5</td>\n",
       "      <td>lbp</td>\n",
       "      <td>0.6036</td>\n",
       "      <td>0.6037</td>\n",
       "      <td>0.6036</td>\n",
       "      <td>0.6035</td>\n",
       "    </tr>\n",
       "    <tr>\n",
       "      <th>47</th>\n",
       "      <td>Random Forest</td>\n",
       "      <td>Q5</td>\n",
       "      <td>lbp</td>\n",
       "      <td>0.5905</td>\n",
       "      <td>0.5906</td>\n",
       "      <td>0.5905</td>\n",
       "      <td>0.5905</td>\n",
       "    </tr>\n",
       "    <tr>\n",
       "      <th>48</th>\n",
       "      <td>KNN</td>\n",
       "      <td>Thienuu</td>\n",
       "      <td>basic</td>\n",
       "      <td>0.9517</td>\n",
       "      <td>0.9519</td>\n",
       "      <td>0.9517</td>\n",
       "      <td>0.9516</td>\n",
       "    </tr>\n",
       "    <tr>\n",
       "      <th>49</th>\n",
       "      <td>SVM</td>\n",
       "      <td>Thienuu</td>\n",
       "      <td>basic</td>\n",
       "      <td>0.9637</td>\n",
       "      <td>0.9640</td>\n",
       "      <td>0.9637</td>\n",
       "      <td>0.9637</td>\n",
       "    </tr>\n",
       "    <tr>\n",
       "      <th>50</th>\n",
       "      <td>Random Forest</td>\n",
       "      <td>Thienuu</td>\n",
       "      <td>basic</td>\n",
       "      <td>0.9607</td>\n",
       "      <td>0.9609</td>\n",
       "      <td>0.9607</td>\n",
       "      <td>0.9607</td>\n",
       "    </tr>\n",
       "    <tr>\n",
       "      <th>51</th>\n",
       "      <td>KNN</td>\n",
       "      <td>Thienuu</td>\n",
       "      <td>gist</td>\n",
       "      <td>0.7900</td>\n",
       "      <td>0.7982</td>\n",
       "      <td>0.7900</td>\n",
       "      <td>0.7890</td>\n",
       "    </tr>\n",
       "    <tr>\n",
       "      <th>52</th>\n",
       "      <td>SVM</td>\n",
       "      <td>Thienuu</td>\n",
       "      <td>gist</td>\n",
       "      <td>0.8943</td>\n",
       "      <td>0.8953</td>\n",
       "      <td>0.8943</td>\n",
       "      <td>0.8942</td>\n",
       "    </tr>\n",
       "    <tr>\n",
       "      <th>53</th>\n",
       "      <td>Random Forest</td>\n",
       "      <td>Thienuu</td>\n",
       "      <td>gist</td>\n",
       "      <td>0.9199</td>\n",
       "      <td>0.9212</td>\n",
       "      <td>0.9199</td>\n",
       "      <td>0.9198</td>\n",
       "    </tr>\n",
       "    <tr>\n",
       "      <th>54</th>\n",
       "      <td>KNN</td>\n",
       "      <td>Thienuu</td>\n",
       "      <td>glcm</td>\n",
       "      <td>0.8172</td>\n",
       "      <td>0.8172</td>\n",
       "      <td>0.8172</td>\n",
       "      <td>0.8172</td>\n",
       "    </tr>\n",
       "    <tr>\n",
       "      <th>55</th>\n",
       "      <td>SVM</td>\n",
       "      <td>Thienuu</td>\n",
       "      <td>glcm</td>\n",
       "      <td>0.8565</td>\n",
       "      <td>0.8570</td>\n",
       "      <td>0.8565</td>\n",
       "      <td>0.8565</td>\n",
       "    </tr>\n",
       "    <tr>\n",
       "      <th>56</th>\n",
       "      <td>Random Forest</td>\n",
       "      <td>Thienuu</td>\n",
       "      <td>glcm</td>\n",
       "      <td>0.8459</td>\n",
       "      <td>0.8461</td>\n",
       "      <td>0.8459</td>\n",
       "      <td>0.8459</td>\n",
       "    </tr>\n",
       "    <tr>\n",
       "      <th>57</th>\n",
       "      <td>KNN</td>\n",
       "      <td>Thienuu</td>\n",
       "      <td>lbp</td>\n",
       "      <td>0.7674</td>\n",
       "      <td>0.7689</td>\n",
       "      <td>0.7674</td>\n",
       "      <td>0.7668</td>\n",
       "    </tr>\n",
       "    <tr>\n",
       "      <th>58</th>\n",
       "      <td>SVM</td>\n",
       "      <td>Thienuu</td>\n",
       "      <td>lbp</td>\n",
       "      <td>0.7946</td>\n",
       "      <td>0.7951</td>\n",
       "      <td>0.7946</td>\n",
       "      <td>0.7944</td>\n",
       "    </tr>\n",
       "    <tr>\n",
       "      <th>59</th>\n",
       "      <td>Random Forest</td>\n",
       "      <td>Thienuu</td>\n",
       "      <td>lbp</td>\n",
       "      <td>0.7855</td>\n",
       "      <td>0.7860</td>\n",
       "      <td>0.7855</td>\n",
       "      <td>0.7853</td>\n",
       "    </tr>\n",
       "    <tr>\n",
       "      <th>60</th>\n",
       "      <td>KNN</td>\n",
       "      <td>Xi23</td>\n",
       "      <td>basic</td>\n",
       "      <td>0.9086</td>\n",
       "      <td>0.9090</td>\n",
       "      <td>0.9086</td>\n",
       "      <td>0.9085</td>\n",
       "    </tr>\n",
       "    <tr>\n",
       "      <th>61</th>\n",
       "      <td>SVM</td>\n",
       "      <td>Xi23</td>\n",
       "      <td>basic</td>\n",
       "      <td>0.9408</td>\n",
       "      <td>0.9408</td>\n",
       "      <td>0.9408</td>\n",
       "      <td>0.9408</td>\n",
       "    </tr>\n",
       "    <tr>\n",
       "      <th>62</th>\n",
       "      <td>Random Forest</td>\n",
       "      <td>Xi23</td>\n",
       "      <td>basic</td>\n",
       "      <td>0.9298</td>\n",
       "      <td>0.9298</td>\n",
       "      <td>0.9298</td>\n",
       "      <td>0.9298</td>\n",
       "    </tr>\n",
       "    <tr>\n",
       "      <th>63</th>\n",
       "      <td>KNN</td>\n",
       "      <td>Xi23</td>\n",
       "      <td>gist</td>\n",
       "      <td>0.6213</td>\n",
       "      <td>0.6338</td>\n",
       "      <td>0.6213</td>\n",
       "      <td>0.5969</td>\n",
       "    </tr>\n",
       "    <tr>\n",
       "      <th>64</th>\n",
       "      <td>SVM</td>\n",
       "      <td>Xi23</td>\n",
       "      <td>gist</td>\n",
       "      <td>0.7193</td>\n",
       "      <td>0.7226</td>\n",
       "      <td>0.7193</td>\n",
       "      <td>0.7152</td>\n",
       "    </tr>\n",
       "    <tr>\n",
       "      <th>65</th>\n",
       "      <td>Random Forest</td>\n",
       "      <td>Xi23</td>\n",
       "      <td>gist</td>\n",
       "      <td>0.7361</td>\n",
       "      <td>0.7365</td>\n",
       "      <td>0.7361</td>\n",
       "      <td>0.7344</td>\n",
       "    </tr>\n",
       "    <tr>\n",
       "      <th>66</th>\n",
       "      <td>KNN</td>\n",
       "      <td>Xi23</td>\n",
       "      <td>glcm</td>\n",
       "      <td>0.7383</td>\n",
       "      <td>0.7402</td>\n",
       "      <td>0.7383</td>\n",
       "      <td>0.7357</td>\n",
       "    </tr>\n",
       "    <tr>\n",
       "      <th>67</th>\n",
       "      <td>SVM</td>\n",
       "      <td>Xi23</td>\n",
       "      <td>glcm</td>\n",
       "      <td>0.7727</td>\n",
       "      <td>0.7786</td>\n",
       "      <td>0.7727</td>\n",
       "      <td>0.7693</td>\n",
       "    </tr>\n",
       "    <tr>\n",
       "      <th>68</th>\n",
       "      <td>Random Forest</td>\n",
       "      <td>Xi23</td>\n",
       "      <td>glcm</td>\n",
       "      <td>0.7580</td>\n",
       "      <td>0.7579</td>\n",
       "      <td>0.7580</td>\n",
       "      <td>0.7580</td>\n",
       "    </tr>\n",
       "    <tr>\n",
       "      <th>69</th>\n",
       "      <td>KNN</td>\n",
       "      <td>Xi23</td>\n",
       "      <td>lbp</td>\n",
       "      <td>0.6681</td>\n",
       "      <td>0.6676</td>\n",
       "      <td>0.6681</td>\n",
       "      <td>0.6653</td>\n",
       "    </tr>\n",
       "    <tr>\n",
       "      <th>70</th>\n",
       "      <td>SVM</td>\n",
       "      <td>Xi23</td>\n",
       "      <td>lbp</td>\n",
       "      <td>0.6886</td>\n",
       "      <td>0.6896</td>\n",
       "      <td>0.6886</td>\n",
       "      <td>0.6848</td>\n",
       "    </tr>\n",
       "    <tr>\n",
       "      <th>71</th>\n",
       "      <td>Random Forest</td>\n",
       "      <td>Xi23</td>\n",
       "      <td>lbp</td>\n",
       "      <td>0.6791</td>\n",
       "      <td>0.6783</td>\n",
       "      <td>0.6791</td>\n",
       "      <td>0.6782</td>\n",
       "    </tr>\n",
       "  </tbody>\n",
       "</table>\n",
       "</div>"
      ],
      "text/plain": [
       "            Model    Dataset Features  Accuracy  Precision  Recall  F1 Score\n",
       "0             KNN       BC15    basic    0.8402     0.8466  0.8402    0.8395\n",
       "1             SVM       BC15    basic    0.8987     0.9039  0.8987    0.8984\n",
       "2   Random Forest       BC15    basic    0.8526     0.8543  0.8526    0.8524\n",
       "3             KNN       BC15     gist    0.6367     0.6368  0.6367    0.6367\n",
       "4             SVM       BC15     gist    0.6960     0.6963  0.6960    0.6959\n",
       "5   Random Forest       BC15     gist    0.7702     0.7707  0.7702    0.7701\n",
       "6             KNN       BC15     glcm    0.6738     0.6766  0.6738    0.6726\n",
       "7             SVM       BC15     glcm    0.7512     0.7512  0.7512    0.7512\n",
       "8   Random Forest       BC15     glcm    0.7166     0.7167  0.7166    0.7166\n",
       "9             KNN       BC15      lbp    0.5568     0.5570  0.5568    0.5567\n",
       "10            SVM       BC15      lbp    0.6178     0.6189  0.6178    0.6170\n",
       "11  Random Forest       BC15      lbp    0.6129     0.6133  0.6129    0.6125\n",
       "12            KNN  Huongthom    basic    0.8898     0.8926  0.8898    0.8895\n",
       "13            SVM  Huongthom    basic    0.9350     0.9351  0.9350    0.9350\n",
       "14  Random Forest  Huongthom    basic    0.9095     0.9096  0.9095    0.9095\n",
       "15            KNN  Huongthom     gist    0.6336     0.6429  0.6336    0.6263\n",
       "16            SVM  Huongthom     gist    0.7854     0.7870  0.7854    0.7850\n",
       "17  Random Forest  Huongthom     gist    0.8088     0.8101  0.8088    0.8085\n",
       "18            KNN  Huongthom     glcm    0.8204     0.8280  0.8204    0.8192\n",
       "19            SVM  Huongthom     glcm    0.8606     0.8666  0.8606    0.8599\n",
       "20  Random Forest  Huongthom     glcm    0.8350     0.8366  0.8350    0.8348\n",
       "21            KNN  Huongthom      lbp    0.5796     0.5797  0.5796    0.5788\n",
       "22            SVM  Huongthom      lbp    0.6730     0.6731  0.6730    0.6728\n",
       "23  Random Forest  Huongthom      lbp    0.6380     0.6379  0.6380    0.6379\n",
       "24            KNN      Nep87    basic    0.9789     0.9789  0.9789    0.9789\n",
       "25            SVM      Nep87    basic    0.9831     0.9832  0.9831    0.9831\n",
       "26  Random Forest      Nep87    basic    0.9810     0.9812  0.9810    0.9810\n",
       "27            KNN      Nep87     gist    0.6660     0.6780  0.6660    0.6622\n",
       "28            SVM      Nep87     gist    0.8577     0.8581  0.8577    0.8578\n",
       "29  Random Forest      Nep87     gist    0.9146     0.9155  0.9146    0.9145\n",
       "30            KNN      Nep87     glcm    0.9136     0.9140  0.9136    0.9135\n",
       "31            SVM      Nep87     glcm    0.9305     0.9310  0.9305    0.9304\n",
       "32  Random Forest      Nep87     glcm    0.9125     0.9132  0.9125    0.9124\n",
       "33            KNN      Nep87      lbp    0.7060     0.7059  0.7060    0.7058\n",
       "34            SVM      Nep87      lbp    0.7661     0.7661  0.7661    0.7661\n",
       "35  Random Forest      Nep87      lbp    0.7534     0.7539  0.7534    0.7530\n",
       "36            KNN         Q5    basic    0.9256     0.9280  0.9256    0.9254\n",
       "37            SVM         Q5    basic    0.9487     0.9496  0.9487    0.9487\n",
       "38  Random Forest         Q5    basic    0.9447     0.9451  0.9447    0.9447\n",
       "39            KNN         Q5     gist    0.5604     0.5604  0.5604    0.5603\n",
       "40            SVM         Q5     gist    0.6881     0.6896  0.6881    0.6874\n",
       "41  Random Forest         Q5     gist    0.7243     0.7275  0.7243    0.7233\n",
       "42            KNN         Q5     glcm    0.6861     0.6899  0.6861    0.6844\n",
       "43            SVM         Q5     glcm    0.7414     0.7437  0.7414    0.7408\n",
       "44  Random Forest         Q5     glcm    0.7354     0.7357  0.7354    0.7353\n",
       "45            KNN         Q5      lbp    0.5614     0.5614  0.5614    0.5613\n",
       "46            SVM         Q5      lbp    0.6036     0.6037  0.6036    0.6035\n",
       "47  Random Forest         Q5      lbp    0.5905     0.5906  0.5905    0.5905\n",
       "48            KNN    Thienuu    basic    0.9517     0.9519  0.9517    0.9516\n",
       "49            SVM    Thienuu    basic    0.9637     0.9640  0.9637    0.9637\n",
       "50  Random Forest    Thienuu    basic    0.9607     0.9609  0.9607    0.9607\n",
       "51            KNN    Thienuu     gist    0.7900     0.7982  0.7900    0.7890\n",
       "52            SVM    Thienuu     gist    0.8943     0.8953  0.8943    0.8942\n",
       "53  Random Forest    Thienuu     gist    0.9199     0.9212  0.9199    0.9198\n",
       "54            KNN    Thienuu     glcm    0.8172     0.8172  0.8172    0.8172\n",
       "55            SVM    Thienuu     glcm    0.8565     0.8570  0.8565    0.8565\n",
       "56  Random Forest    Thienuu     glcm    0.8459     0.8461  0.8459    0.8459\n",
       "57            KNN    Thienuu      lbp    0.7674     0.7689  0.7674    0.7668\n",
       "58            SVM    Thienuu      lbp    0.7946     0.7951  0.7946    0.7944\n",
       "59  Random Forest    Thienuu      lbp    0.7855     0.7860  0.7855    0.7853\n",
       "60            KNN       Xi23    basic    0.9086     0.9090  0.9086    0.9085\n",
       "61            SVM       Xi23    basic    0.9408     0.9408  0.9408    0.9408\n",
       "62  Random Forest       Xi23    basic    0.9298     0.9298  0.9298    0.9298\n",
       "63            KNN       Xi23     gist    0.6213     0.6338  0.6213    0.5969\n",
       "64            SVM       Xi23     gist    0.7193     0.7226  0.7193    0.7152\n",
       "65  Random Forest       Xi23     gist    0.7361     0.7365  0.7361    0.7344\n",
       "66            KNN       Xi23     glcm    0.7383     0.7402  0.7383    0.7357\n",
       "67            SVM       Xi23     glcm    0.7727     0.7786  0.7727    0.7693\n",
       "68  Random Forest       Xi23     glcm    0.7580     0.7579  0.7580    0.7580\n",
       "69            KNN       Xi23      lbp    0.6681     0.6676  0.6681    0.6653\n",
       "70            SVM       Xi23      lbp    0.6886     0.6896  0.6886    0.6848\n",
       "71  Random Forest       Xi23      lbp    0.6791     0.6783  0.6791    0.6782"
      ]
     },
     "execution_count": 74,
     "metadata": {},
     "output_type": "execute_result"
    }
   ],
   "source": [
    "df"
   ]
  },
  {
   "cell_type": "code",
   "execution_count": 76,
   "metadata": {},
   "outputs": [
    {
     "ename": "NameError",
     "evalue": "name 'Features' is not defined",
     "output_type": "error",
     "traceback": [
      "\u001b[0;31m---------------------------------------------------------------------------\u001b[0m",
      "\u001b[0;31mNameError\u001b[0m                                 Traceback (most recent call last)",
      "Cell \u001b[0;32mIn[76], line 1\u001b[0m\n\u001b[0;32m----> 1\u001b[0m df[df[\u001b[43mFeatures\u001b[49m \u001b[38;5;241m==\u001b[39m \u001b[38;5;124m'\u001b[39m\u001b[38;5;124mbasic\u001b[39m\u001b[38;5;124m'\u001b[39m]]\n",
      "\u001b[0;31mNameError\u001b[0m: name 'Features' is not defined"
     ]
    }
   ],
   "source": [
    "df[df[Features == 'basic']]"
   ]
  },
  {
   "cell_type": "code",
   "execution_count": null,
   "metadata": {},
   "outputs": [
    {
     "ename": "ValueError",
     "evalue": "Value must be a nonnegative integer or None",
     "output_type": "error",
     "traceback": [
      "\u001b[0;31m---------------------------------------------------------------------------\u001b[0m",
      "\u001b[0;31mValueError\u001b[0m                                Traceback (most recent call last)",
      "Cell \u001b[0;32mIn[62], line 1\u001b[0m\n\u001b[0;32m----> 1\u001b[0m \u001b[38;5;28;43;01mwith\u001b[39;49;00m\u001b[43m \u001b[49m\u001b[43mpd\u001b[49m\u001b[38;5;241;43m.\u001b[39;49m\u001b[43moption_context\u001b[49m\u001b[43m(\u001b[49m\u001b[38;5;124;43m'\u001b[39;49m\u001b[38;5;124;43mdisplay.max_rows\u001b[39;49m\u001b[38;5;124;43m'\u001b[39;49m\u001b[43m,\u001b[49m\u001b[43m \u001b[49m\u001b[38;5;124;43m'\u001b[39;49m\u001b[38;5;124;43mdisplay.max_colwidth\u001b[39;49m\u001b[38;5;124;43m'\u001b[39;49m\u001b[43m,\u001b[49m\u001b[43m \u001b[49m\u001b[38;5;124;43m'\u001b[39;49m\u001b[38;5;124;43mdisplay.max_columns\u001b[39;49m\u001b[38;5;124;43m'\u001b[39;49m\u001b[43m,\u001b[49m\u001b[43m \u001b[49m\u001b[38;5;28;43;01mNone\u001b[39;49;00m\u001b[43m)\u001b[49m\u001b[43m:\u001b[49m\u001b[43m  \u001b[49m\n\u001b[1;32m      2\u001b[0m \u001b[43m    \u001b[49m\u001b[38;5;28;43mprint\u001b[39;49m\u001b[43m(\u001b[49m\u001b[43mdf\u001b[49m\u001b[43m)\u001b[49m\n",
      "File \u001b[0;32m/usr/lib/python3.13/site-packages/pandas/_config/config.py:483\u001b[0m, in \u001b[0;36moption_context.__enter__\u001b[0;34m(self)\u001b[0m\n\u001b[1;32m    480\u001b[0m \u001b[38;5;28mself\u001b[39m\u001b[38;5;241m.\u001b[39mundo \u001b[38;5;241m=\u001b[39m [(pat, _get_option(pat)) \u001b[38;5;28;01mfor\u001b[39;00m pat, val \u001b[38;5;129;01min\u001b[39;00m \u001b[38;5;28mself\u001b[39m\u001b[38;5;241m.\u001b[39mops]\n\u001b[1;32m    482\u001b[0m \u001b[38;5;28;01mfor\u001b[39;00m pat, val \u001b[38;5;129;01min\u001b[39;00m \u001b[38;5;28mself\u001b[39m\u001b[38;5;241m.\u001b[39mops:\n\u001b[0;32m--> 483\u001b[0m     \u001b[43m_set_option\u001b[49m\u001b[43m(\u001b[49m\u001b[43mpat\u001b[49m\u001b[43m,\u001b[49m\u001b[43m \u001b[49m\u001b[43mval\u001b[49m\u001b[43m,\u001b[49m\u001b[43m \u001b[49m\u001b[43msilent\u001b[49m\u001b[38;5;241;43m=\u001b[39;49m\u001b[38;5;28;43;01mTrue\u001b[39;49;00m\u001b[43m)\u001b[49m\n",
      "File \u001b[0;32m/usr/lib/python3.13/site-packages/pandas/_config/config.py:171\u001b[0m, in \u001b[0;36m_set_option\u001b[0;34m(*args, **kwargs)\u001b[0m\n\u001b[1;32m    169\u001b[0m o \u001b[38;5;241m=\u001b[39m _get_registered_option(key)\n\u001b[1;32m    170\u001b[0m \u001b[38;5;28;01mif\u001b[39;00m o \u001b[38;5;129;01mand\u001b[39;00m o\u001b[38;5;241m.\u001b[39mvalidator:\n\u001b[0;32m--> 171\u001b[0m     \u001b[43mo\u001b[49m\u001b[38;5;241;43m.\u001b[39;49m\u001b[43mvalidator\u001b[49m\u001b[43m(\u001b[49m\u001b[43mv\u001b[49m\u001b[43m)\u001b[49m\n\u001b[1;32m    173\u001b[0m \u001b[38;5;66;03m# walk the nested dict\u001b[39;00m\n\u001b[1;32m    174\u001b[0m root, k_root \u001b[38;5;241m=\u001b[39m _get_root(key)\n",
      "File \u001b[0;32m/usr/lib/python3.13/site-packages/pandas/_config/config.py:921\u001b[0m, in \u001b[0;36mis_nonnegative_int\u001b[0;34m(value)\u001b[0m\n\u001b[1;32m    918\u001b[0m         \u001b[38;5;28;01mreturn\u001b[39;00m\n\u001b[1;32m    920\u001b[0m msg \u001b[38;5;241m=\u001b[39m \u001b[38;5;124m\"\u001b[39m\u001b[38;5;124mValue must be a nonnegative integer or None\u001b[39m\u001b[38;5;124m\"\u001b[39m\n\u001b[0;32m--> 921\u001b[0m \u001b[38;5;28;01mraise\u001b[39;00m \u001b[38;5;167;01mValueError\u001b[39;00m(msg)\n",
      "\u001b[0;31mValueError\u001b[0m: Value must be a nonnegative integer or None"
     ]
    }
   ],
   "source": [
    "with pd.option_context('display.max_rows', None, 'display.max_columns', None):  \n",
    "    print(df)"
   ]
  },
  {
   "cell_type": "code",
   "execution_count": 59,
   "metadata": {},
   "outputs": [],
   "source": [
    "df.to_csv('results.csv',index=False)"
   ]
  }
 ],
 "metadata": {
  "kernelspec": {
   "display_name": "Python 3",
   "language": "python",
   "name": "python3"
  },
  "language_info": {
   "codemirror_mode": {
    "name": "ipython",
    "version": 3
   },
   "file_extension": ".py",
   "mimetype": "text/x-python",
   "name": "python",
   "nbconvert_exporter": "python",
   "pygments_lexer": "ipython3",
   "version": "3.13.1"
  }
 },
 "nbformat": 4,
 "nbformat_minor": 2
}
