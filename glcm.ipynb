{
 "cells": [
  {
   "cell_type": "code",
   "execution_count": 4,
   "metadata": {},
   "outputs": [],
   "source": [
    "import numpy as np \n",
    "import pandas as pd\n",
    "import cv2\n",
    "import os\n",
    "from tqdm import tqdm\n",
    "from skimage.feature import graycomatrix, graycoprops"
   ]
  },
  {
   "cell_type": "code",
   "execution_count": 5,
   "metadata": {},
   "outputs": [],
   "source": [
    "def compute_glcm_descriptor(image_path):\n",
    "    image = cv2.imread(image_path, cv2.IMREAD_GRAYSCALE)\n",
    "    if image is None:\n",
    "        return None\n",
    "    \n",
    "    # Configuration \n",
    "    distance = [3]  \n",
    "    angles = [0, np.pi/4, np.pi/2, 3*np.pi/4]  \n",
    "    properties = ['contrast', 'correlation', 'energy', 'homogeneity']  \n",
    "    \n",
    "    glcm = graycomatrix(image, distances=distance, angles=angles, symmetric=True, normed=True)\n",
    "    \n",
    "    features = []\n",
    "    for prop in properties:\n",
    "        feature = graycoprops(glcm, prop).flatten()\n",
    "        features.extend(feature)\n",
    "    \n",
    "    return np.array(features)"
   ]
  },
  {
   "cell_type": "code",
   "execution_count": 7,
   "metadata": {},
   "outputs": [],
   "source": [
    "def process_directory(base_path):\n",
    "    all_features = []\n",
    "    all_labels = []\n",
    "    image_paths = []\n",
    "\n",
    "    for root, dirs, files in os.walk(base_path):\n",
    "        for file in files:\n",
    "            if file.endswith(('.png', '.jpg', '.jpeg')):\n",
    "                label = 0 if 'Negative' in root else 1\n",
    "                image_paths.append((os.path.join(root, file), label))\n",
    "    \n",
    "    for image_path, label in tqdm(image_paths, desc=\"Processing\"):\n",
    "        features = compute_glcm_descriptor(image_path)\n",
    "        if features is not None:\n",
    "            all_features.append(features)\n",
    "            all_labels.append(label)\n",
    "    \n",
    "    df = pd.DataFrame(all_features)\n",
    "    df['label'] = all_labels\n",
    "    \n",
    "    return df"
   ]
  },
  {
   "cell_type": "code",
   "execution_count": 19,
   "metadata": {},
   "outputs": [
    {
     "name": "stderr",
     "output_type": "stream",
     "text": [
      "Processing:   0%|          | 0/4145 [00:00<?, ?it/s]"
     ]
    },
    {
     "name": "stderr",
     "output_type": "stream",
     "text": [
      "Processing: 100%|██████████| 4145/4145 [01:47<00:00, 38.72it/s]\n"
     ]
    }
   ],
   "source": [
    "base_path = r'D:\\Rice_photos\\Rice_photos\\Xi23'\n",
    "df = process_directory(base_path)"
   ]
  },
  {
   "cell_type": "code",
   "execution_count": 20,
   "metadata": {},
   "outputs": [],
   "source": [
    "df.to_csv('glcm_features_Xi23.csv', index=False)"
   ]
  }
 ],
 "metadata": {
  "kernelspec": {
   "display_name": "Python 3",
   "language": "python",
   "name": "python3"
  },
  "language_info": {
   "codemirror_mode": {
    "name": "ipython",
    "version": 3
   },
   "file_extension": ".py",
   "mimetype": "text/x-python",
   "name": "python",
   "nbconvert_exporter": "python",
   "pygments_lexer": "ipython3",
   "version": "3.12.3"
  }
 },
 "nbformat": 4,
 "nbformat_minor": 2
}
