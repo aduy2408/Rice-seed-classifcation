{
 "cells": [
  {
   "cell_type": "code",
   "execution_count": 1,
   "metadata": {},
   "outputs": [],
   "source": [
    "import cv2\n",
    "import numpy as np\n",
    "import pandas as pd\n",
    "from skimage import filters\n",
    "from skimage.filters import gabor_kernel\n",
    "from scipy.ndimage import convolve\n",
    "import matplotlib.pyplot as plt \n",
    "import os\n",
    "from tqdm import tqdm"
   ]
  },
  {
   "cell_type": "code",
   "execution_count": 2,
   "metadata": {},
   "outputs": [],
   "source": [
    "def create_gabor_filter(size, u0, v0, delta_x, delta_y):\n",
    "    #size: kernel size\n",
    "    #u0, v0: spatial frequency points\n",
    "    #delta_x, delta_y: spatial scales\n",
    "\n",
    "    y, x = np.mgrid[-size//2:size//2, -size//2:size//2]\n",
    "    \n",
    "    gaussian = np.exp(-0.5 * (x**2/delta_x**2 + y**2/delta_y**2))\n",
    "\n",
    "    sinusoid = np.exp(-2j * np.pi * (u0*x + v0*y))\n",
    "    \n",
    "    return gaussian * sinusoid\n"
   ]
  },
  {
   "cell_type": "code",
   "execution_count": 3,
   "metadata": {},
   "outputs": [],
   "source": [
    "def compute_gist_descriptor(image_path):\n",
    "\n",
    "    image = cv2.imread(image_path, cv2.IMREAD_GRAYSCALE)\n",
    "    if image is None:\n",
    "        return None\n",
    "        \n",
    "    image = cv2.resize(image, (128, 128))\n",
    "    image = image.astype(np.float32) / 255.0\n",
    "    \n",
    "    local_mean = cv2.GaussianBlur(image, (5, 5), 1.0)\n",
    "    local_std = np.sqrt(cv2.GaussianBlur(image**2, (5, 5), 1.0) - local_mean**2)\n",
    "    image = (image - local_mean) / (local_std + 1e-8)\n",
    "    \n",
    "    features = []\n",
    "    scales = [2, 4, 8, 16]\n",
    "    orientations = 8\n",
    "    \n",
    "    for delta in scales:\n",
    "        for theta in range(orientations):\n",
    "            angle = theta * np.pi / orientations\n",
    "            u0 = np.cos(angle) / delta\n",
    "            v0 = np.sin(angle) / delta\n",
    "            \n",
    "            gabor_filter = create_gabor_filter(size=31,u0=u0,v0=v0,delta_x=delta,delta_y=delta)\n",
    "            \n",
    "            filtered = cv2.filter2D(image, cv2.CV_32F, np.real(gabor_filter))\n",
    "            \n",
    "            block_h = image.shape[0] // 4\n",
    "            block_w = image.shape[1] // 4\n",
    "            \n",
    "            for i in range(4):\n",
    "                for j in range(4):\n",
    "                    block = filtered[i*block_h:(i+1)*block_h, j*block_w:(j+1)*block_w]\n",
    "                    energy = np.mean(np.abs(block))\n",
    "                    features.append(energy)\n",
    "    \n",
    "    return np.array(features)\n"
   ]
  },
  {
   "cell_type": "code",
   "execution_count": 18,
   "metadata": {},
   "outputs": [],
   "source": [
    "def process_directory(base_path):\n",
    "    all_features = []\n",
    "    all_labels = []\n",
    "    image_paths = []\n",
    "\n",
    "    for root, dirs, files in os.walk(base_path):\n",
    "        for file in files:\n",
    "            if file.endswith(('.png', '.jpg', '.jpeg')):\n",
    "                label = 0 if 'Negative' in root else 1\n",
    "                image_paths.append((os.path.join(root, file), label))\n",
    "    \n",
    "    for image_path, label in tqdm(image_paths, desc=\"Processing\"):\n",
    "        features = compute_gist_descriptor(image_path)\n",
    "        if features is not None:\n",
    "            all_features.append(features)\n",
    "            all_labels.append(label)\n",
    "    \n",
    "    df = pd.DataFrame(all_features)\n",
    "    df['label'] = all_labels\n",
    "    \n",
    "    return df"
   ]
  },
  {
   "cell_type": "code",
   "execution_count": 34,
   "metadata": {},
   "outputs": [
    {
     "name": "stderr",
     "output_type": "stream",
     "text": [
      "Processing:   0%|          | 0/4145 [00:00<?, ?it/s]"
     ]
    },
    {
     "name": "stderr",
     "output_type": "stream",
     "text": [
      "C:\\Users\\SuongLe\\AppData\\Local\\Temp\\ipykernel_20924\\3483533326.py:11: RuntimeWarning: invalid value encountered in sqrt\n",
      "  local_std = np.sqrt(cv2.GaussianBlur(image**2, (5, 5), 1.0) - local_mean**2)\n",
      "Processing: 100%|██████████| 4145/4145 [01:26<00:00, 47.74it/s]\n"
     ]
    }
   ],
   "source": [
    "base_path = r'D:\\Rice_photos\\Rice_photos\\Xi23'\n",
    "df = process_directory(base_path)\n"
   ]
  },
  {
   "cell_type": "code",
   "execution_count": 33,
   "metadata": {},
   "outputs": [
    {
     "name": "stdout",
     "output_type": "stream",
     "text": [
      "<class 'pandas.core.frame.DataFrame'>\n",
      "RangeIndex: 2006 entries, 0 to 2005\n",
      "Columns: 513 entries, 0 to label\n",
      "dtypes: float32(512), int64(1)\n",
      "memory usage: 3.9 MB\n"
     ]
    }
   ],
   "source": [
    "df.info()"
   ]
  },
  {
   "cell_type": "code",
   "execution_count": 35,
   "metadata": {},
   "outputs": [],
   "source": [
    "df.to_csv('gist_features_Xi23.csv', index=False)"
   ]
  }
 ],
 "metadata": {
  "kernelspec": {
   "display_name": "Python 3",
   "language": "python",
   "name": "python3"
  },
  "language_info": {
   "codemirror_mode": {
    "name": "ipython",
    "version": 3
   },
   "file_extension": ".py",
   "mimetype": "text/x-python",
   "name": "python",
   "nbconvert_exporter": "python",
   "pygments_lexer": "ipython3",
   "version": "3.12.3"
  }
 },
 "nbformat": 4,
 "nbformat_minor": 2
}
