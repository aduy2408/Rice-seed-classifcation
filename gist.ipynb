{
 "cells": [
  {
   "cell_type": "code",
   "execution_count": 9,
   "metadata": {},
   "outputs": [],
   "source": [
    "import cv2\n",
    "import numpy as np\n",
    "import pandas as pd\n",
    "\n",
    "import os\n",
    "from tqdm import tqdm"
   ]
  },
  {
   "cell_type": "code",
   "execution_count": 10,
   "metadata": {},
   "outputs": [],
   "source": [
    "def create_gabor_filter(size, u0, v0, delta_x, delta_y):\n",
    "    #size: kernel size\n",
    "    #u0, v0: spatial frequency points\n",
    "    #delta_x, delta_y: spatial scales\n",
    "\n",
    "    y, x = np.mgrid[-size//2:size//2, -size//2:size//2]\n",
    "    \n",
    "    gaussian = np.exp(-0.5 * (x**2/delta_x**2 + y**2/delta_y**2))\n",
    "\n",
    "    sinusoid = np.exp(-2j * np.pi * (u0*x + v0*y))\n",
    "    \n",
    "    return gaussian * sinusoid\n"
   ]
  },
  {
   "cell_type": "code",
   "execution_count": 1,
   "metadata": {},
   "outputs": [],
   "source": [
    "def compute_gist_descriptor(image_path):\n",
    "    image = cv.imread(image_path)\n",
    "    if image is None:\n",
    "        return None\n",
    "    image = cv2.cvtColor(image, cv2.COLOR_BGR2GRAY)\n",
    "\n",
    "    # image = cv2.resize(image, (128, 128))\n",
    "    image = image.astype(np.float32) / 255.0\n",
    "    \n",
    "    local_mean = cv2.GaussianBlur(image, (5, 5), 1.0)\n",
    "    variance = cv2.GaussianBlur(image**2, (5, 5), 1.0) - local_mean**2\n",
    "    variance[variance < 0] = 0 \n",
    "    local_std = np.sqrt(variance)\n",
    "    image = (image - local_mean) / (local_std + 1e-8)\n",
    "    \n",
    "    features = []\n",
    "    scales = [2, 4, 8, 16]\n",
    "    orientations = 8\n",
    "    \n",
    "    for delta in scales:\n",
    "        for theta in range(orientations):\n",
    "            angle = theta * np.pi / orientations\n",
    "            u0 = np.cos(angle) / delta\n",
    "            v0 = np.sin(angle) / delta\n",
    "            \n",
    "            gabor_filter = create_gabor_filter(size=31,u0=u0,v0=v0,delta_x=delta,delta_y=delta)\n",
    "            \n",
    "            filtered = cv2.filter2D(image, cv2.CV_32F, np.real(gabor_filter))\n",
    "            \n",
    "            block_h = image.shape[0] // 4\n",
    "            block_w = image.shape[1] // 4\n",
    "            \n",
    "            for i in range(4):\n",
    "                for j in range(4):\n",
    "                    block = filtered[i*block_h:(i+1)*block_h, j*block_w:(j+1)*block_w]\n",
    "                    energy = np.mean(np.abs(block))\n",
    "                    features.append(energy)\n",
    "    \n",
    "    return np.array(features)\n"
   ]
  },
  {
   "cell_type": "code",
   "execution_count": 31,
   "metadata": {},
   "outputs": [],
   "source": [
    "def process_directory(base_path):\n",
    "    all_features = []\n",
    "    all_labels = []\n",
    "    image_paths = []\n",
    "\n",
    "    for root, dirs, files in os.walk(base_path):\n",
    "        for file in files:\n",
    "            if file.endswith(('.png', '.jpg', '.jpeg')):\n",
    "                label = 0 if 'Negative' in root else 1\n",
    "                image_paths.append((os.path.join(root, file), label))\n",
    "    \n",
    "    for image_path, label in tqdm(image_paths, desc=\"Processing\"):\n",
    "        features = compute_gist_descriptor(image_path)\n",
    "        if features is not None:\n",
    "            all_features.append(features)\n",
    "            all_labels.append(label)\n",
    "    \n",
    "    df = pd.DataFrame(all_features)\n",
    "    df['label'] = all_labels\n",
    "    \n",
    "    return df"
   ]
  },
  {
   "cell_type": "code",
   "execution_count": 32,
   "metadata": {},
   "outputs": [
    {
     "name": "stderr",
     "output_type": "stream",
     "text": [
      "Processing:   0%|          | 0/3677 [00:00<?, ?it/s]\n"
     ]
    },
    {
     "ename": "UnboundLocalError",
     "evalue": "cannot access local variable 'image' where it is not associated with a value",
     "output_type": "error",
     "traceback": [
      "\u001b[0;31m---------------------------------------------------------------------------\u001b[0m",
      "\u001b[0;31mUnboundLocalError\u001b[0m                         Traceback (most recent call last)",
      "Cell \u001b[0;32mIn[32], line 2\u001b[0m\n\u001b[1;32m      1\u001b[0m base_path \u001b[38;5;241m=\u001b[39m \u001b[38;5;124mr\u001b[39m\u001b[38;5;124m'\u001b[39m\u001b[38;5;124m/home/duyle/Rice_photos/BC-15\u001b[39m\u001b[38;5;124m'\u001b[39m\n\u001b[0;32m----> 2\u001b[0m df \u001b[38;5;241m=\u001b[39m \u001b[43mprocess_directory\u001b[49m\u001b[43m(\u001b[49m\u001b[43mbase_path\u001b[49m\u001b[43m)\u001b[49m\n",
      "Cell \u001b[0;32mIn[31], line 13\u001b[0m, in \u001b[0;36mprocess_directory\u001b[0;34m(base_path)\u001b[0m\n\u001b[1;32m     10\u001b[0m             image_paths\u001b[38;5;241m.\u001b[39mappend((os\u001b[38;5;241m.\u001b[39mpath\u001b[38;5;241m.\u001b[39mjoin(root, file), label))\n\u001b[1;32m     12\u001b[0m \u001b[38;5;28;01mfor\u001b[39;00m image_path, label \u001b[38;5;129;01min\u001b[39;00m tqdm(image_paths, desc\u001b[38;5;241m=\u001b[39m\u001b[38;5;124m\"\u001b[39m\u001b[38;5;124mProcessing\u001b[39m\u001b[38;5;124m\"\u001b[39m):\n\u001b[0;32m---> 13\u001b[0m     features \u001b[38;5;241m=\u001b[39m \u001b[43mcompute_gist_descriptor\u001b[49m\u001b[43m(\u001b[49m\u001b[43mimage_path\u001b[49m\u001b[43m)\u001b[49m\n\u001b[1;32m     14\u001b[0m     \u001b[38;5;28;01mif\u001b[39;00m features \u001b[38;5;129;01mis\u001b[39;00m \u001b[38;5;129;01mnot\u001b[39;00m \u001b[38;5;28;01mNone\u001b[39;00m:\n\u001b[1;32m     15\u001b[0m         all_features\u001b[38;5;241m.\u001b[39mappend(features)\n",
      "Cell \u001b[0;32mIn[30], line 2\u001b[0m, in \u001b[0;36mcompute_gist_descriptor\u001b[0;34m(image_path)\u001b[0m\n\u001b[1;32m      1\u001b[0m \u001b[38;5;28;01mdef\u001b[39;00m\u001b[38;5;250m \u001b[39m\u001b[38;5;21mcompute_gist_descriptor\u001b[39m(image_path):\n\u001b[0;32m----> 2\u001b[0m     image \u001b[38;5;241m=\u001b[39m cv2\u001b[38;5;241m.\u001b[39mcvtColor(\u001b[43mimage\u001b[49m, cv2\u001b[38;5;241m.\u001b[39mCOLOR_BGR2GRAY)\n\u001b[1;32m      4\u001b[0m     \u001b[38;5;28;01mif\u001b[39;00m image \u001b[38;5;129;01mis\u001b[39;00m \u001b[38;5;28;01mNone\u001b[39;00m:\n\u001b[1;32m      5\u001b[0m         \u001b[38;5;28;01mreturn\u001b[39;00m \u001b[38;5;28;01mNone\u001b[39;00m\n",
      "\u001b[0;31mUnboundLocalError\u001b[0m: cannot access local variable 'image' where it is not associated with a value"
     ]
    }
   ],
   "source": [
    "base_path = r'/home/duyle/Rice_photos/BC-15'\n",
    "df = process_directory(base_path)\n"
   ]
  },
  {
   "cell_type": "code",
   "execution_count": 15,
   "metadata": {},
   "outputs": [],
   "source": [
    "df.to_csv('gist_features_Xi23.csv', index=False)"
   ]
  }
 ],
 "metadata": {
  "kernelspec": {
   "display_name": "Python 3",
   "language": "python",
   "name": "python3"
  },
  "language_info": {
   "codemirror_mode": {
    "name": "ipython",
    "version": 3
   },
   "file_extension": ".py",
   "mimetype": "text/x-python",
   "name": "python",
   "nbconvert_exporter": "python",
   "pygments_lexer": "ipython3",
   "version": "3.13.1"
  }
 },
 "nbformat": 4,
 "nbformat_minor": 2
}
