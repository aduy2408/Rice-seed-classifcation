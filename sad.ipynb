{
 "cells": [
  {
   "cell_type": "code",
   "execution_count": 12,
   "metadata": {},
   "outputs": [],
   "source": [
    "def compute_glcm_descriptor(image_path):\n",
    "    # Read and preprocess image\n",
    "    image = cv2.imread(image_path, cv2.IMREAD_GRAYSCALE)\n",
    "    if image is None:\n",
    "        return None\n",
    "    \n",
    "    # Configuration \n",
    "    distance = [3]  \n",
    "    angles = [0, np.pi/4, np.pi/2, 3*np.pi/4]  # 0°, 45°, 90°, 135°\n",
    "    properties = ['contrast', 'correlation', 'energy', 'homogeneity']  \n",
    "    \n",
    "    # Compute GLCM\n",
    "    glcm = graycomatrix(image, \n",
    "                       distances=distance,\n",
    "                       angles=angles,\n",
    "                       symmetric=True,\n",
    "                       normed=True)\n",
    "    \n",
    "    # Extract features for each direction\n",
    "    features = []\n",
    "    for prop in properties:\n",
    "        feature = graycoprops(glcm, prop).flatten()\n",
    "        features.extend(feature)\n",
    "    \n",
    "    return np.array(features)"
   ]
  },
  {
   "cell_type": "code",
   "execution_count": 15,
   "metadata": {},
   "outputs": [],
   "source": [
    "def process_directory(base_path):\n",
    "    all_features = []\n",
    "    all_labels = []\n",
    "    \n",
    "    image_paths = []\n",
    "    for root, dirs, files in os.walk(base_path):\n",
    "        if 'Negative' in root:\n",
    "            continue\n",
    "        category = os.path.basename(root)\n",
    "        for file in files:\n",
    "            if file.endswith(('.png')):\n",
    "                image_paths.append((os.path.join(root, file), category))\n",
    "    \n",
    "    for image_path, category in tqdm(image_paths, desc=\"Processing GLCM\"):\n",
    "        features = compute_glcm_descriptor(image_path)\n",
    "        if features is not None:\n",
    "            all_features.append(features)\n",
    "            all_labels.append(category)\n",
    "    \n",
    "    df = pd.DataFrame(all_features)\n",
    "    df['category'] = all_labels\n",
    "    df['label'] = df['category'].astype('category').cat.codes\n",
    "    return df\n",
    "\n",
    "\n"
   ]
  },
  {
   "cell_type": "code",
   "execution_count": 17,
   "metadata": {},
   "outputs": [
    {
     "name": "stderr",
     "output_type": "stream",
     "text": [
      "Processing GLCM:   0%|          | 0/10088 [00:00<?, ?it/s]"
     ]
    },
    {
     "name": "stderr",
     "output_type": "stream",
     "text": [
      "Processing GLCM: 100%|██████████| 10088/10088 [04:07<00:00, 40.72it/s]\n"
     ]
    }
   ],
   "source": [
    "base_path = '/home/duyle/Downloads/Rice_photos'\n",
    "df = process_directory(base_path)"
   ]
  },
  {
   "cell_type": "code",
   "execution_count": 19,
   "metadata": {},
   "outputs": [],
   "source": [
    "df.to_csv('rice_glcm_features.csv', index=False)"
   ]
  }
 ],
 "metadata": {
  "kernelspec": {
   "display_name": "Python 3",
   "language": "python",
   "name": "python3"
  },
  "language_info": {
   "codemirror_mode": {
    "name": "ipython",
    "version": 3
   },
   "file_extension": ".py",
   "mimetype": "text/x-python",
   "name": "python",
   "nbconvert_exporter": "python",
   "pygments_lexer": "ipython3",
   "version": "3.13.1"
  }
 },
 "nbformat": 4,
 "nbformat_minor": 2
}
